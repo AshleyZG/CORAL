{
 "cells": [
  {
   "cell_type": "markdown",
   "id": "collective-voluntary",
   "metadata": {},
   "source": [
    "# New Hand Label Analysis\n",
    "This notebook contains and analysis of the expert annotated notebooks used to evaluate CORAL."
   ]
  },
  {
   "cell_type": "code",
   "execution_count": 58,
   "id": "worthy-blast",
   "metadata": {},
   "outputs": [],
   "source": [
    "import pandas as pd\n",
    "import numpy as np\n",
    "import glob\n",
    "from functools import reduce\n",
    "\n",
    "import numpy as np\n",
    "import matplotlib.pyplot as plt\n",
    "\n",
    "import seaborn as sns\n",
    "\n",
    "from sklearn import svm, datasets\n",
    "from sklearn.model_selection import train_test_split\n",
    "from sklearn.metrics import cohen_kappa_score, confusion_matrix\n",
    "\n",
    "from krippendorff import alpha\n",
    "\n",
    "pd.options.mode.chained_assignment = None "
   ]
  },
  {
   "cell_type": "code",
   "execution_count": 36,
   "id": "infinite-pixel",
   "metadata": {},
   "outputs": [],
   "source": [
    "READABLE_LABELS = [\"STAGE_PAD\",\"WRANGLE\",\"EXPLORE\",\"MODEL\",\"EVALUATE\",\"IMPORT\"]\n",
    "ORDERED_LABELS = [\"IMPORT\",\"WRANGLE\",\"EXPLORE\",\"MODEL\",\"EVALUATE\",\"STAGE_PAD\"]\n",
    "READABLE_LABEL_TO_INT = dict(zip(READABLE_LABELS,range(len(READABLE_LABELS))))\n",
    "DEMO_LOC = \"http://quackerjack.cs.washington.edu:5000/annotatenb/\""
   ]
  },
  {
   "cell_type": "code",
   "execution_count": 37,
   "id": "cross-compromise",
   "metadata": {},
   "outputs": [],
   "source": [
    "def path_to_nb_id(path):\n",
    "    filename = path.split(\"/\")[-1]\n",
    "    no_ext = filename.split(\".\")[0]\n",
    "    no_prefix = no_ext.split(\"_\")[-1]\n",
    "    return int(no_prefix)\n",
    "\n",
    "def get_hand_labels(path,labeler=None):\n",
    "    labeled_jsons = glob.glob(path)\n",
    "    results = []\n",
    "    for path in labeled_jsons:\n",
    "        nb_id = path_to_nb_id(path)\n",
    "        notebook = pd.read_json(path)\n",
    "        notebook = notebook[notebook[\"stage\"]!=READABLE_LABEL_TO_INT[\"STAGE_PAD\"]]\n",
    "        notebook[\"cell_no\"] = notebook.index\n",
    "        notebook[\"nb_id\"] = nb_id\n",
    "        results.append(notebook[[\"nb_id\",\"cell_no\",\"stage\",\"source\"]])\n",
    "    results = pd.concat(results,axis=0)\n",
    "    if labeler:\n",
    "        results[labeler+\"_label\"] = results[\"stage\"]\n",
    "        del results[\"stage\"]\n",
    "    return results\n",
    "\n",
    "mike_labels = get_hand_labels(\"/projects/bdata/jupyter/annotation/mike/*.json\",\n",
    "                             labeler = \"Mike\")\n",
    "ge_labels = get_hand_labels(\"/projects/bdata/jupyter/annotation/ge/*.json\",\n",
    "                             labeler = \"Ge\")"
   ]
  },
  {
   "cell_type": "code",
   "execution_count": 38,
   "id": "frank-festival",
   "metadata": {},
   "outputs": [],
   "source": [
    "ashish_labels = get_hand_labels(\"/projects/bdata/mike_scratch/gezhang_backup/annotation_tool/ashish_templates/*.json\",\n",
    "                             labeler = \"Ashish\")\n",
    "remy_labels = get_hand_labels(\"/projects/bdata/mike_scratch/gezhang_backup/annotation_tool/remy_templates/*.json\",\n",
    "                             labeler = \"Remy\")\n",
    "inna_labels = get_hand_labels(\"/projects/bdata/mike_scratch/gezhang_backup/annotation_tool/inna_templates/*.json\",\n",
    "                             labeler = \"Inna\")\n",
    "label_dfs = [ge_labels,mike_labels,ashish_labels,remy_labels,inna_labels]"
   ]
  },
  {
   "cell_type": "code",
   "execution_count": 39,
   "id": "ruled-amendment",
   "metadata": {},
   "outputs": [],
   "source": [
    "all_labels = reduce(lambda df1,df2: pd.merge(df1,df2,on = [\"nb_id\",\"cell_no\"],how=\"inner\"), \n",
    "                    label_dfs)"
   ]
  },
  {
   "cell_type": "code",
   "execution_count": 40,
   "id": "thrown-month",
   "metadata": {},
   "outputs": [
    {
     "data": {
      "text/html": [
       "<div>\n",
       "<style scoped>\n",
       "    .dataframe tbody tr th:only-of-type {\n",
       "        vertical-align: middle;\n",
       "    }\n",
       "\n",
       "    .dataframe tbody tr th {\n",
       "        vertical-align: top;\n",
       "    }\n",
       "\n",
       "    .dataframe thead th {\n",
       "        text-align: right;\n",
       "    }\n",
       "</style>\n",
       "<table border=\"1\" class=\"dataframe\">\n",
       "  <thead>\n",
       "    <tr style=\"text-align: right;\">\n",
       "      <th></th>\n",
       "      <th>nb_id</th>\n",
       "      <th>cell_no</th>\n",
       "      <th>source_x</th>\n",
       "      <th>Ge_label</th>\n",
       "      <th>source_y</th>\n",
       "      <th>Mike_label</th>\n",
       "      <th>source_x</th>\n",
       "      <th>Ashish_label</th>\n",
       "      <th>source_y</th>\n",
       "      <th>Remy_label</th>\n",
       "      <th>source</th>\n",
       "      <th>Inna_label</th>\n",
       "    </tr>\n",
       "  </thead>\n",
       "  <tbody>\n",
       "    <tr>\n",
       "      <th>0</th>\n",
       "      <td>1242788</td>\n",
       "      <td>2</td>\n",
       "      <td>[import plotly\\n, plotly.offline.init_notebook...</td>\n",
       "      <td>5</td>\n",
       "      <td>[import plotly\\n, plotly.offline.init_notebook...</td>\n",
       "      <td>5</td>\n",
       "      <td>[import plotly\\n, plotly.offline.init_notebook...</td>\n",
       "      <td>5</td>\n",
       "      <td>[import plotly\\n, plotly.offline.init_notebook...</td>\n",
       "      <td>5</td>\n",
       "      <td>[import plotly\\n, plotly.offline.init_notebook...</td>\n",
       "      <td>5</td>\n",
       "    </tr>\n",
       "    <tr>\n",
       "      <th>1</th>\n",
       "      <td>1242788</td>\n",
       "      <td>3</td>\n",
       "      <td>[players = pd.read_csv('atp-data/atp_players.c...</td>\n",
       "      <td>1</td>\n",
       "      <td>[players = pd.read_csv('atp-data/atp_players.c...</td>\n",
       "      <td>1</td>\n",
       "      <td>[players = pd.read_csv('atp-data/atp_players.c...</td>\n",
       "      <td>1</td>\n",
       "      <td>[players = pd.read_csv('atp-data/atp_players.c...</td>\n",
       "      <td>2</td>\n",
       "      <td>[players = pd.read_csv('atp-data/atp_players.c...</td>\n",
       "      <td>5</td>\n",
       "    </tr>\n",
       "    <tr>\n",
       "      <th>2</th>\n",
       "      <td>1242788</td>\n",
       "      <td>4</td>\n",
       "      <td>[columns = ['tourney_id','tourney_name','surfa...</td>\n",
       "      <td>1</td>\n",
       "      <td>[columns = ['tourney_id','tourney_name','surfa...</td>\n",
       "      <td>1</td>\n",
       "      <td>[columns = ['tourney_id','tourney_name','surfa...</td>\n",
       "      <td>1</td>\n",
       "      <td>[columns = ['tourney_id','tourney_name','surfa...</td>\n",
       "      <td>1</td>\n",
       "      <td>[columns = ['tourney_id','tourney_name','surfa...</td>\n",
       "      <td>5</td>\n",
       "    </tr>\n",
       "    <tr>\n",
       "      <th>3</th>\n",
       "      <td>1242788</td>\n",
       "      <td>5</td>\n",
       "      <td>[def get_merged_csv(flist, **kwargs):\\n,     r...</td>\n",
       "      <td>1</td>\n",
       "      <td>[def get_merged_csv(flist, **kwargs):\\n,     r...</td>\n",
       "      <td>1</td>\n",
       "      <td>[def get_merged_csv(flist, **kwargs):\\n,     r...</td>\n",
       "      <td>1</td>\n",
       "      <td>[def get_merged_csv(flist, **kwargs):\\n,     r...</td>\n",
       "      <td>1</td>\n",
       "      <td>[def get_merged_csv(flist, **kwargs):\\n,     r...</td>\n",
       "      <td>1</td>\n",
       "    </tr>\n",
       "    <tr>\n",
       "      <th>4</th>\n",
       "      <td>1242788</td>\n",
       "      <td>6</td>\n",
       "      <td>[player_group = df.groupby('winner_name')['sur...</td>\n",
       "      <td>1</td>\n",
       "      <td>[player_group = df.groupby('winner_name')['sur...</td>\n",
       "      <td>1</td>\n",
       "      <td>[player_group = df.groupby('winner_name')['sur...</td>\n",
       "      <td>1</td>\n",
       "      <td>[player_group = df.groupby('winner_name')['sur...</td>\n",
       "      <td>2</td>\n",
       "      <td>[player_group = df.groupby('winner_name')['sur...</td>\n",
       "      <td>1</td>\n",
       "    </tr>\n",
       "    <tr>\n",
       "      <th>...</th>\n",
       "      <td>...</td>\n",
       "      <td>...</td>\n",
       "      <td>...</td>\n",
       "      <td>...</td>\n",
       "      <td>...</td>\n",
       "      <td>...</td>\n",
       "      <td>...</td>\n",
       "      <td>...</td>\n",
       "      <td>...</td>\n",
       "      <td>...</td>\n",
       "      <td>...</td>\n",
       "      <td>...</td>\n",
       "    </tr>\n",
       "    <tr>\n",
       "      <th>71</th>\n",
       "      <td>1240128</td>\n",
       "      <td>30</td>\n",
       "      <td>[%%time\\n, trainsent = train_tagged.values\\n, ...</td>\n",
       "      <td>3</td>\n",
       "      <td>[%%time\\n, trainsent = train_tagged.values\\n, ...</td>\n",
       "      <td>3</td>\n",
       "      <td>[%%time\\n, trainsent = train_tagged.values\\n, ...</td>\n",
       "      <td>1</td>\n",
       "      <td>[%%time\\n, trainsent = train_tagged.values\\n, ...</td>\n",
       "      <td>3</td>\n",
       "      <td>[%%time\\n, trainsent = train_tagged.values\\n, ...</td>\n",
       "      <td>1</td>\n",
       "    </tr>\n",
       "    <tr>\n",
       "      <th>72</th>\n",
       "      <td>1240128</td>\n",
       "      <td>31</td>\n",
       "      <td>[%%time\\n, test_targets, test_regressors = zip...</td>\n",
       "      <td>3</td>\n",
       "      <td>[%%time\\n, test_targets, test_regressors = zip...</td>\n",
       "      <td>3</td>\n",
       "      <td>[%%time\\n, test_targets, test_regressors = zip...</td>\n",
       "      <td>1</td>\n",
       "      <td>[%%time\\n, test_targets, test_regressors = zip...</td>\n",
       "      <td>1</td>\n",
       "      <td>[%%time\\n, test_targets, test_regressors = zip...</td>\n",
       "      <td>1</td>\n",
       "    </tr>\n",
       "    <tr>\n",
       "      <th>73</th>\n",
       "      <td>1240128</td>\n",
       "      <td>32</td>\n",
       "      <td>[logreg = linear_model.LogisticRegression(n_jo...</td>\n",
       "      <td>3</td>\n",
       "      <td>[logreg = linear_model.LogisticRegression(n_jo...</td>\n",
       "      <td>3</td>\n",
       "      <td>[logreg = linear_model.LogisticRegression(n_jo...</td>\n",
       "      <td>3</td>\n",
       "      <td>[logreg = linear_model.LogisticRegression(n_jo...</td>\n",
       "      <td>3</td>\n",
       "      <td>[logreg = linear_model.LogisticRegression(n_jo...</td>\n",
       "      <td>3</td>\n",
       "    </tr>\n",
       "    <tr>\n",
       "      <th>74</th>\n",
       "      <td>1240128</td>\n",
       "      <td>33</td>\n",
       "      <td>[%%time \\n, knn_test_predictions = [\\n,     do...</td>\n",
       "      <td>4</td>\n",
       "      <td>[%%time \\n, knn_test_predictions = [\\n,     do...</td>\n",
       "      <td>3</td>\n",
       "      <td>[%%time \\n, knn_test_predictions = [\\n,     do...</td>\n",
       "      <td>4</td>\n",
       "      <td>[%%time \\n, knn_test_predictions = [\\n,     do...</td>\n",
       "      <td>4</td>\n",
       "      <td>[%%time \\n, knn_test_predictions = [\\n,     do...</td>\n",
       "      <td>4</td>\n",
       "    </tr>\n",
       "    <tr>\n",
       "      <th>75</th>\n",
       "      <td>1240128</td>\n",
       "      <td>34</td>\n",
       "      <td>[from sklearn.ensemble import RandomForestClas...</td>\n",
       "      <td>3</td>\n",
       "      <td>[from sklearn.ensemble import RandomForestClas...</td>\n",
       "      <td>3</td>\n",
       "      <td>[from sklearn.ensemble import RandomForestClas...</td>\n",
       "      <td>3</td>\n",
       "      <td>[from sklearn.ensemble import RandomForestClas...</td>\n",
       "      <td>3</td>\n",
       "      <td>[from sklearn.ensemble import RandomForestClas...</td>\n",
       "      <td>3</td>\n",
       "    </tr>\n",
       "  </tbody>\n",
       "</table>\n",
       "<p>76 rows × 12 columns</p>\n",
       "</div>"
      ],
      "text/plain": [
       "      nb_id  cell_no                                           source_x  \\\n",
       "0   1242788        2  [import plotly\\n, plotly.offline.init_notebook...   \n",
       "1   1242788        3  [players = pd.read_csv('atp-data/atp_players.c...   \n",
       "2   1242788        4  [columns = ['tourney_id','tourney_name','surfa...   \n",
       "3   1242788        5  [def get_merged_csv(flist, **kwargs):\\n,     r...   \n",
       "4   1242788        6  [player_group = df.groupby('winner_name')['sur...   \n",
       "..      ...      ...                                                ...   \n",
       "71  1240128       30  [%%time\\n, trainsent = train_tagged.values\\n, ...   \n",
       "72  1240128       31  [%%time\\n, test_targets, test_regressors = zip...   \n",
       "73  1240128       32  [logreg = linear_model.LogisticRegression(n_jo...   \n",
       "74  1240128       33  [%%time \\n, knn_test_predictions = [\\n,     do...   \n",
       "75  1240128       34  [from sklearn.ensemble import RandomForestClas...   \n",
       "\n",
       "    Ge_label                                           source_y  Mike_label  \\\n",
       "0          5  [import plotly\\n, plotly.offline.init_notebook...           5   \n",
       "1          1  [players = pd.read_csv('atp-data/atp_players.c...           1   \n",
       "2          1  [columns = ['tourney_id','tourney_name','surfa...           1   \n",
       "3          1  [def get_merged_csv(flist, **kwargs):\\n,     r...           1   \n",
       "4          1  [player_group = df.groupby('winner_name')['sur...           1   \n",
       "..       ...                                                ...         ...   \n",
       "71         3  [%%time\\n, trainsent = train_tagged.values\\n, ...           3   \n",
       "72         3  [%%time\\n, test_targets, test_regressors = zip...           3   \n",
       "73         3  [logreg = linear_model.LogisticRegression(n_jo...           3   \n",
       "74         4  [%%time \\n, knn_test_predictions = [\\n,     do...           3   \n",
       "75         3  [from sklearn.ensemble import RandomForestClas...           3   \n",
       "\n",
       "                                             source_x  Ashish_label  \\\n",
       "0   [import plotly\\n, plotly.offline.init_notebook...             5   \n",
       "1   [players = pd.read_csv('atp-data/atp_players.c...             1   \n",
       "2   [columns = ['tourney_id','tourney_name','surfa...             1   \n",
       "3   [def get_merged_csv(flist, **kwargs):\\n,     r...             1   \n",
       "4   [player_group = df.groupby('winner_name')['sur...             1   \n",
       "..                                                ...           ...   \n",
       "71  [%%time\\n, trainsent = train_tagged.values\\n, ...             1   \n",
       "72  [%%time\\n, test_targets, test_regressors = zip...             1   \n",
       "73  [logreg = linear_model.LogisticRegression(n_jo...             3   \n",
       "74  [%%time \\n, knn_test_predictions = [\\n,     do...             4   \n",
       "75  [from sklearn.ensemble import RandomForestClas...             3   \n",
       "\n",
       "                                             source_y  Remy_label  \\\n",
       "0   [import plotly\\n, plotly.offline.init_notebook...           5   \n",
       "1   [players = pd.read_csv('atp-data/atp_players.c...           2   \n",
       "2   [columns = ['tourney_id','tourney_name','surfa...           1   \n",
       "3   [def get_merged_csv(flist, **kwargs):\\n,     r...           1   \n",
       "4   [player_group = df.groupby('winner_name')['sur...           2   \n",
       "..                                                ...         ...   \n",
       "71  [%%time\\n, trainsent = train_tagged.values\\n, ...           3   \n",
       "72  [%%time\\n, test_targets, test_regressors = zip...           1   \n",
       "73  [logreg = linear_model.LogisticRegression(n_jo...           3   \n",
       "74  [%%time \\n, knn_test_predictions = [\\n,     do...           4   \n",
       "75  [from sklearn.ensemble import RandomForestClas...           3   \n",
       "\n",
       "                                               source  Inna_label  \n",
       "0   [import plotly\\n, plotly.offline.init_notebook...           5  \n",
       "1   [players = pd.read_csv('atp-data/atp_players.c...           5  \n",
       "2   [columns = ['tourney_id','tourney_name','surfa...           5  \n",
       "3   [def get_merged_csv(flist, **kwargs):\\n,     r...           1  \n",
       "4   [player_group = df.groupby('winner_name')['sur...           1  \n",
       "..                                                ...         ...  \n",
       "71  [%%time\\n, trainsent = train_tagged.values\\n, ...           1  \n",
       "72  [%%time\\n, test_targets, test_regressors = zip...           1  \n",
       "73  [logreg = linear_model.LogisticRegression(n_jo...           3  \n",
       "74  [%%time \\n, knn_test_predictions = [\\n,     do...           4  \n",
       "75  [from sklearn.ensemble import RandomForestClas...           3  \n",
       "\n",
       "[76 rows x 12 columns]"
      ]
     },
     "execution_count": 40,
     "metadata": {},
     "output_type": "execute_result"
    }
   ],
   "source": [
    "all_labels"
   ]
  },
  {
   "cell_type": "code",
   "execution_count": 41,
   "id": "automatic-berlin",
   "metadata": {},
   "outputs": [
    {
     "data": {
      "text/plain": [
       "0.6887496988677426"
      ]
     },
     "execution_count": 41,
     "metadata": {},
     "output_type": "execute_result"
    }
   ],
   "source": [
    "cohen_kappa_score(all_labels[\"Mike_label\"],all_labels[\"Inna_label\"])"
   ]
  },
  {
   "cell_type": "code",
   "execution_count": 30,
   "id": "tracked-russian",
   "metadata": {},
   "outputs": [],
   "source": [
    "labels_only = all_labels[[\"Mike_label\",\"Ge_label\",\"Ashish_label\",\"Remy_label\",\"Inna_label\"]]\n",
    "result_df = pd.DataFrame(columns = labels_only.columns, index = labels_only.columns)\n",
    "for col1 in result_df:\n",
    "    for col2 in result_df:\n",
    "        result_df[col1][col2] = float(cohen_kappa_score(labels_only[col1],labels_only[col2]))\n",
    "result_df = result_df.astype(float)"
   ]
  },
  {
   "cell_type": "code",
   "execution_count": 31,
   "id": "improved-suite",
   "metadata": {},
   "outputs": [
    {
     "data": {
      "text/html": [
       "<div>\n",
       "<style scoped>\n",
       "    .dataframe tbody tr th:only-of-type {\n",
       "        vertical-align: middle;\n",
       "    }\n",
       "\n",
       "    .dataframe tbody tr th {\n",
       "        vertical-align: top;\n",
       "    }\n",
       "\n",
       "    .dataframe thead th {\n",
       "        text-align: right;\n",
       "    }\n",
       "</style>\n",
       "<table border=\"1\" class=\"dataframe\">\n",
       "  <thead>\n",
       "    <tr style=\"text-align: right;\">\n",
       "      <th></th>\n",
       "      <th>Mike_label</th>\n",
       "      <th>Ge_label</th>\n",
       "      <th>Ashish_label</th>\n",
       "      <th>Remy_label</th>\n",
       "      <th>Inna_label</th>\n",
       "    </tr>\n",
       "  </thead>\n",
       "  <tbody>\n",
       "    <tr>\n",
       "      <th>Mike_label</th>\n",
       "      <td>1.000000</td>\n",
       "      <td>0.725065</td>\n",
       "      <td>0.680593</td>\n",
       "      <td>0.693330</td>\n",
       "      <td>0.688750</td>\n",
       "    </tr>\n",
       "    <tr>\n",
       "      <th>Ge_label</th>\n",
       "      <td>0.725065</td>\n",
       "      <td>1.000000</td>\n",
       "      <td>0.607843</td>\n",
       "      <td>0.599809</td>\n",
       "      <td>0.569034</td>\n",
       "    </tr>\n",
       "    <tr>\n",
       "      <th>Ashish_label</th>\n",
       "      <td>0.680593</td>\n",
       "      <td>0.607843</td>\n",
       "      <td>1.000000</td>\n",
       "      <td>0.661906</td>\n",
       "      <td>0.673664</td>\n",
       "    </tr>\n",
       "    <tr>\n",
       "      <th>Remy_label</th>\n",
       "      <td>0.693330</td>\n",
       "      <td>0.599809</td>\n",
       "      <td>0.661906</td>\n",
       "      <td>1.000000</td>\n",
       "      <td>0.662538</td>\n",
       "    </tr>\n",
       "    <tr>\n",
       "      <th>Inna_label</th>\n",
       "      <td>0.688750</td>\n",
       "      <td>0.569034</td>\n",
       "      <td>0.673664</td>\n",
       "      <td>0.662538</td>\n",
       "      <td>1.000000</td>\n",
       "    </tr>\n",
       "  </tbody>\n",
       "</table>\n",
       "</div>"
      ],
      "text/plain": [
       "              Mike_label  Ge_label  Ashish_label  Remy_label  Inna_label\n",
       "Mike_label      1.000000  0.725065      0.680593    0.693330    0.688750\n",
       "Ge_label        0.725065  1.000000      0.607843    0.599809    0.569034\n",
       "Ashish_label    0.680593  0.607843      1.000000    0.661906    0.673664\n",
       "Remy_label      0.693330  0.599809      0.661906    1.000000    0.662538\n",
       "Inna_label      0.688750  0.569034      0.673664    0.662538    1.000000"
      ]
     },
     "execution_count": 31,
     "metadata": {},
     "output_type": "execute_result"
    }
   ],
   "source": [
    "result_df"
   ]
  },
  {
   "cell_type": "code",
   "execution_count": 33,
   "id": "federal-exploration",
   "metadata": {},
   "outputs": [
    {
     "data": {
      "text/plain": [
       "<AxesSubplot:>"
      ]
     },
     "execution_count": 33,
     "metadata": {},
     "output_type": "execute_result"
    },
    {
     "data": {
      "image/png": "[encoded data removed]",
      "text/plain": [
       "<Figure size 432x288 with 2 Axes>"
      ]
     },
     "metadata": {
      "needs_background": "light"
     },
     "output_type": "display_data"
    }
   ],
   "source": [
    "sns.heatmap(result_df, annot=True)"
   ]
  },
  {
   "cell_type": "code",
   "execution_count": 53,
   "id": "printable-appraisal",
   "metadata": {},
   "outputs": [
    {
     "ename": "ValueError",
     "evalue": "too many values to unpack (expected 2)",
     "output_type": "error",
     "traceback": [
      "\u001b[0;31m---------------------------------------------------------------------------\u001b[0m",
      "\u001b[0;31mValueError\u001b[0m                                Traceback (most recent call last)",
      "\u001b[0;32m<ipython-input-53-3c4e9c7648bf>\u001b[0m in \u001b[0;36m<module>\u001b[0;34m\u001b[0m\n\u001b[0;32m----> 1\u001b[0;31m \u001b[0mfleiss_kappa\u001b[0m\u001b[0;34m(\u001b[0m\u001b[0mto_table\u001b[0m\u001b[0;34m(\u001b[0m\u001b[0mlabels_only\u001b[0m\u001b[0;34m)\u001b[0m\u001b[0;34m[\u001b[0m\u001b[0;36m0\u001b[0m\u001b[0;34m]\u001b[0m\u001b[0;34m)\u001b[0m\u001b[0;34m\u001b[0m\u001b[0;34m\u001b[0m\u001b[0m\n\u001b[0m",
      "\u001b[0;32m~/miniconda3/envs/RobustDataScience/lib/python3.7/site-packages/statsmodels/stats/inter_rater.py\u001b[0m in \u001b[0;36mfleiss_kappa\u001b[0;34m(table, method)\u001b[0m\n\u001b[1;32m    243\u001b[0m \u001b[0;34m\u001b[0m\u001b[0m\n\u001b[1;32m    244\u001b[0m     \u001b[0mtable\u001b[0m \u001b[0;34m=\u001b[0m \u001b[0;36m1.0\u001b[0m \u001b[0;34m*\u001b[0m \u001b[0mnp\u001b[0m\u001b[0;34m.\u001b[0m\u001b[0masarray\u001b[0m\u001b[0;34m(\u001b[0m\u001b[0mtable\u001b[0m\u001b[0;34m)\u001b[0m   \u001b[0;31m#avoid integer division\u001b[0m\u001b[0;34m\u001b[0m\u001b[0;34m\u001b[0m\u001b[0m\n\u001b[0;32m--> 245\u001b[0;31m     \u001b[0mn_sub\u001b[0m\u001b[0;34m,\u001b[0m \u001b[0mn_cat\u001b[0m \u001b[0;34m=\u001b[0m  \u001b[0mtable\u001b[0m\u001b[0;34m.\u001b[0m\u001b[0mshape\u001b[0m\u001b[0;34m\u001b[0m\u001b[0;34m\u001b[0m\u001b[0m\n\u001b[0m\u001b[1;32m    246\u001b[0m     \u001b[0mn_total\u001b[0m \u001b[0;34m=\u001b[0m \u001b[0mtable\u001b[0m\u001b[0;34m.\u001b[0m\u001b[0msum\u001b[0m\u001b[0;34m(\u001b[0m\u001b[0;34m)\u001b[0m\u001b[0;34m\u001b[0m\u001b[0;34m\u001b[0m\u001b[0m\n\u001b[1;32m    247\u001b[0m     \u001b[0mn_rater\u001b[0m \u001b[0;34m=\u001b[0m \u001b[0mtable\u001b[0m\u001b[0;34m.\u001b[0m\u001b[0msum\u001b[0m\u001b[0;34m(\u001b[0m\u001b[0;36m1\u001b[0m\u001b[0;34m)\u001b[0m\u001b[0;34m\u001b[0m\u001b[0;34m\u001b[0m\u001b[0m\n",
      "\u001b[0;31mValueError\u001b[0m: too many values to unpack (expected 2)"
     ]
    }
   ],
   "source": [
    "fleiss_kappa(to_table(labels_only)[0])"
   ]
  },
  {
   "cell_type": "code",
   "execution_count": 59,
   "id": "capable-academy",
   "metadata": {},
   "outputs": [
    {
     "data": {
      "text/plain": [
       "0.762021663985619"
      ]
     },
     "execution_count": 59,
     "metadata": {},
     "output_type": "execute_result"
    }
   ],
   "source": [
    "alpha(labels_only.values.T)"
   ]
  },
  {
   "cell_type": "code",
   "execution_count": 61,
   "id": "recreational-settlement",
   "metadata": {},
   "outputs": [
    {
     "data": {
      "text/plain": [
       "0.7485693188111502"
      ]
     },
     "execution_count": 61,
     "metadata": {},
     "output_type": "execute_result"
    }
   ],
   "source": [
    "new_labels = all_labels[[\"Ashish_label\",\"Remy_label\",\"Inna_label\"]]\n",
    "alpha(new_labels.values.T)"
   ]
  },
  {
   "cell_type": "code",
   "execution_count": null,
   "id": "returning-census",
   "metadata": {},
   "outputs": [],
   "source": []
  }
 ],
 "metadata": {
  "kernelspec": {
   "display_name": "Python 3.7.9 64-bit ('RobustDataScience': conda)",
   "language": "python",
   "name": "python379jvsc74a57bd06957c966dbcd037fdc433decfa40759ccfa122f09c0cc5f56246288f58f339be"
  },
  "language_info": {
   "codemirror_mode": {
    "name": "ipython",
    "version": 3
   },
   "file_extension": ".py",
   "mimetype": "text/x-python",
   "name": "python",
   "nbconvert_exporter": "python",
   "pygments_lexer": "ipython3",
   "version": "3.7.9"
  }
 },
 "nbformat": 4,
 "nbformat_minor": 5
}
