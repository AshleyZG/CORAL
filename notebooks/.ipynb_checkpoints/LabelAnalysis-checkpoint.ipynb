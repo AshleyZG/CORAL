{
 "cells": [
  {
   "cell_type": "markdown",
   "metadata": {},
   "source": [
    "# Label Analysis\n",
    "Now that Ge has produced some example labels we can start looking for meaningful relationships in the data"
   ]
  },
  {
   "cell_type": "code",
   "execution_count": 17,
   "metadata": {},
   "outputs": [
    {
     "name": "stderr",
     "output_type": "stream",
     "text": [
      "/homes/gws/mikeam/anaconda3/envs/analysis/lib/python3.7/site-packages/statsmodels/compat/pandas.py:23: FutureWarning: The Panel class is removed from pandas. Accessing it from the top-level namespace will also be removed in the next version\n",
      "  data_klasses = (pandas.Series, pandas.DataFrame, pandas.Panel)\n"
     ]
    }
   ],
   "source": [
    "%load_ext autoreload\n",
    "%autoreload 2\n",
    "import pandas as pd\n",
    "import numpy as np\n",
    "import scipy.stats\n",
    "import json\n",
    "import seaborn as sns\n",
    "from matplotlib import pyplot as plt\n",
    "from matplotlib.ticker import PercentFormatter\n",
    "\n",
    "import missingno as msno\n",
    "import os\n",
    "import glob\n",
    "import ast\n",
    "from copy import deepcopy\n",
    "import statsmodels.api as sm\n",
    "\n",
    "from matplotlib import rcParams\n",
    "rcParams['figure.figsize'] = 20,10"
   ]
  },
  {
   "cell_type": "markdown",
   "metadata": {},
   "source": [
    "# Cleaning and Loading Data"
   ]
  },
  {
   "cell_type": "code",
   "execution_count": 1,
   "metadata": {},
   "outputs": [],
   "source": [
    "# # LABELS_RAW = \"/projects/bdata/jupyter/results/stage2code.json\"\n",
    "# LABELS_RAW = \"/projects/bdata/jupyter/results/train/results_graphs_layer_4_1_12.model.ep2_0116_2020.txt\"\n",
    "LABELS_RAW = \"/projects/bdata/jupyter/results/annotation/graphs_11.txt\"\n",
    "ACADEMIC_LABELS_RAW = \"/projects/bdata/jupyter/results/academic/results_graphs_layer_4_1_12.model.ep2_0122_2020.txt\"\n",
    "# with open(LABELS_RAW) as json_data:\n",
    "#     data = json.load(json_data)"
   ]
  },
  {
   "cell_type": "code",
   "execution_count": 2,
   "metadata": {},
   "outputs": [],
   "source": [
    "READABLE_LABELS = [\"STAGE_PAD\",\"WRANGLE\",\"EXPLORE\",\"MODEL\",\"EVALUATE\",\"IMPORT\"]\n",
    "ORDERED_LABELS = [\"IMPORT\",\"WRANGLE\",\"EXPLORE\",\"MODEL\",\"EVALUATE\",\"STAGE_PAD\"]\n",
    "READABLE_LABEL_TO_INT = dict(zip(READABLE_LABELS,range(len(READABLE_LABELS))))\n",
    "\n",
    "def path_to_nb_id(path):\n",
    "    filename = path.split(\"/\")[-1]\n",
    "    no_ext = filename.split(\".\")[0]\n",
    "    no_prefix = no_ext.split(\"_\")[-1]\n",
    "    return int(no_prefix)\n",
    "\n",
    "def split_lines(string):\n",
    "    try:\n",
    "        return string.splitlines()\n",
    "    except AttributeError:\n",
    "        return None"
   ]
  },
  {
   "cell_type": "code",
   "execution_count": 5,
   "metadata": {},
   "outputs": [],
   "source": [
    "results = pd.read_json(LABELS_RAW,lines=True)\n",
    "results[\"dataset\"] = \"filtered\""
   ]
  },
  {
   "cell_type": "code",
   "execution_count": 6,
   "metadata": {},
   "outputs": [],
   "source": [
    "results[\"label\"] = results[\"pred\"]\n",
    "results[\"readable_label\"] = results[\"label\"].map(lambda x: READABLE_LABELS[x])\n",
    "results[\"converted_py_lineno\"] = results[\"target_lineno\"]\n",
    "results[\"n_lines\"] = results[\"context\"].map(lambda x: len(split_lines(x)))\n",
    "results[\"nb_id\"] = results[\"file\"].map(path_to_nb_id)\n",
    "results[\"code_line_no\"] = (results.sort_values(\"target_lineno\").groupby(\"nb_id\")[\"n_lines\"].cumsum().shift() + 1 ).fillna(0)"
   ]
  },
  {
   "cell_type": "code",
   "execution_count": 7,
   "metadata": {},
   "outputs": [],
   "source": [
    "# results = []\n",
    "# for label, cells in data.iteritems():\n",
    "#     for cell in cells:\n",
    "#         result = {\"label\":int(label),\n",
    "#                   \"readable_label\" : READABLE_LABELS[int(label)],\n",
    "#                   \"converted_py_lineno\":int(cell[\"target_lineno\"]),\n",
    "#                   \"n_lines\":len(cell[\"context\"].splitlines()),\n",
    "#                   \"path\" : cell[\"file\"],\n",
    "#                   \"nb_id\":path_to_nb_id(cell[\"file\"])}\n",
    "#         results.append(result)\n",
    "# results = pd.DataFrame(results).sort_values([\"nb_id\",\"converted_py_lineno\"])\n",
    "# results[\"code_line_no\"] = (results.groupby(\"nb_id\")[\"n_lines\"].cumsum().shift() + 1 ).fillna(0)"
   ]
  },
  {
   "cell_type": "code",
   "execution_count": 8,
   "metadata": {},
   "outputs": [
    {
     "data": {
      "text/html": [
       "<div>\n",
       "<style scoped>\n",
       "    .dataframe tbody tr th:only-of-type {\n",
       "        vertical-align: middle;\n",
       "    }\n",
       "\n",
       "    .dataframe tbody tr th {\n",
       "        vertical-align: top;\n",
       "    }\n",
       "\n",
       "    .dataframe thead th {\n",
       "        text-align: right;\n",
       "    }\n",
       "</style>\n",
       "<table border=\"1\" class=\"dataframe\">\n",
       "  <thead>\n",
       "    <tr style=\"text-align: right;\">\n",
       "      <th></th>\n",
       "      <th>target_lineno</th>\n",
       "      <th>file</th>\n",
       "      <th>context</th>\n",
       "      <th>target_func</th>\n",
       "      <th>nodes</th>\n",
       "      <th>funcs</th>\n",
       "      <th>stage</th>\n",
       "      <th>id</th>\n",
       "      <th>neighbor_cells</th>\n",
       "      <th>header</th>\n",
       "      <th>...</th>\n",
       "      <th>idx_map</th>\n",
       "      <th>pred</th>\n",
       "      <th>stage_vec</th>\n",
       "      <th>dataset</th>\n",
       "      <th>label</th>\n",
       "      <th>readable_label</th>\n",
       "      <th>converted_py_lineno</th>\n",
       "      <th>n_lines</th>\n",
       "      <th>nb_id</th>\n",
       "      <th>code_line_no</th>\n",
       "    </tr>\n",
       "  </thead>\n",
       "  <tbody>\n",
       "    <tr>\n",
       "      <th>0</th>\n",
       "      <td>183</td>\n",
       "      <td>/projects/bdata/jupyter/_7_1/nb_1053523.py</td>\n",
       "      <td>\\nx0 = [x[0] for x in train]\\n\\nx1 = [x[1] for...</td>\n",
       "      <td>none_func</td>\n",
       "      <td>[{'type': 'Module', 'children': [1, 11, 21, 36...</td>\n",
       "      <td>[matplotlib.cm.jet, max, matplotlib.pyplot.fig...</td>\n",
       "      <td>2</td>\n",
       "      <td>74</td>\n",
       "      <td>[73]</td>\n",
       "      <td>PCA to 150 dimensional space</td>\n",
       "      <td>...</td>\n",
       "      <td>{'0': [0], '1': [1], '2': [2, 3], '3': [4], '4...</td>\n",
       "      <td>2</td>\n",
       "      <td>[-2.149143695831299, -2.429313898086548, 30.93...</td>\n",
       "      <td>filtered</td>\n",
       "      <td>2</td>\n",
       "      <td>EXPLORE</td>\n",
       "      <td>183</td>\n",
       "      <td>18</td>\n",
       "      <td>1053523</td>\n",
       "      <td>69.0</td>\n",
       "    </tr>\n",
       "    <tr>\n",
       "      <th>1</th>\n",
       "      <td>61</td>\n",
       "      <td>/projects/bdata/jupyter/_7_1/nb_1170705.py</td>\n",
       "      <td>\\nnum_topics = 20\\n\\nnum_top_words = 20\\n\\nclf...</td>\n",
       "      <td>none_func</td>\n",
       "      <td>[{'type': 'Module', 'children': [1, 4, 7, 17, ...</td>\n",
       "      <td>[sklearn.decomposition.NMF, sklearn.decomposit...</td>\n",
       "      <td>3</td>\n",
       "      <td>424</td>\n",
       "      <td>[423]</td>\n",
       "      <td>[EMPTY]</td>\n",
       "      <td>...</td>\n",
       "      <td>{'0': [0], '1': [1], '2': [2, 3], '3': [4], '4...</td>\n",
       "      <td>3</td>\n",
       "      <td>[-2.989803314208984, -1.214049339294433, 4.552...</td>\n",
       "      <td>filtered</td>\n",
       "      <td>3</td>\n",
       "      <td>MODEL</td>\n",
       "      <td>61</td>\n",
       "      <td>18</td>\n",
       "      <td>1170705</td>\n",
       "      <td>65.0</td>\n",
       "    </tr>\n",
       "    <tr>\n",
       "      <th>2</th>\n",
       "      <td>9</td>\n",
       "      <td>nb_1221634</td>\n",
       "      <td>\\nfor i in stems:\\n    if (len(stems[i][0]) ==...</td>\n",
       "      <td>none_func</td>\n",
       "      <td>[{'type': 'Module', 'children': [1, 49]}, {'ty...</td>\n",
       "      <td>[len, len]</td>\n",
       "      <td>1</td>\n",
       "      <td>156</td>\n",
       "      <td>[-1]</td>\n",
       "      <td></td>\n",
       "      <td>...</td>\n",
       "      <td>{'0': [0], '1': [1], '2': [2], '3': [3], '4': ...</td>\n",
       "      <td>1</td>\n",
       "      <td>[-6.59837007522583, 23.175315856933594, 0.5943...</td>\n",
       "      <td>filtered</td>\n",
       "      <td>1</td>\n",
       "      <td>WRANGLE</td>\n",
       "      <td>9</td>\n",
       "      <td>8</td>\n",
       "      <td>1221634</td>\n",
       "      <td>84.0</td>\n",
       "    </tr>\n",
       "    <tr>\n",
       "      <th>3</th>\n",
       "      <td>10</td>\n",
       "      <td>/projects/bdata/jupyter/_7_1/nb_1185862.py</td>\n",
       "      <td>\\nfile = open('C:/Users/Inance/Documents/Thesi...</td>\n",
       "      <td>none_func</td>\n",
       "      <td>[{'type': 'Module', 'children': [1, 6, 9, 28, ...</td>\n",
       "      <td>[open, append, float, line.split, numpy.array,...</td>\n",
       "      <td>1</td>\n",
       "      <td>18</td>\n",
       "      <td>[17]</td>\n",
       "      <td>Import Libraries</td>\n",
       "      <td>...</td>\n",
       "      <td>{'0': [0], '1': [1], '2': [2], '3': [3], '4': ...</td>\n",
       "      <td>2</td>\n",
       "      <td>[-3.463528394699096, 10.72555923461914, 26.439...</td>\n",
       "      <td>filtered</td>\n",
       "      <td>2</td>\n",
       "      <td>EXPLORE</td>\n",
       "      <td>10</td>\n",
       "      <td>15</td>\n",
       "      <td>1185862</td>\n",
       "      <td>211.0</td>\n",
       "    </tr>\n",
       "    <tr>\n",
       "      <th>4</th>\n",
       "      <td>14</td>\n",
       "      <td>/projects/bdata/jupyter/_7_1/nb_1215903.py</td>\n",
       "      <td>\\nrng = np.random.RandomState(0)\\n\\nn_samples_...</td>\n",
       "      <td>none_func</td>\n",
       "      <td>[{'type': 'Module', 'children': [1, 10, 13, 16...</td>\n",
       "      <td>[numpy.random.RandomState, numpy.random.Random...</td>\n",
       "      <td>1</td>\n",
       "      <td>299</td>\n",
       "      <td>[298]</td>\n",
       "      <td>[EMPTY]</td>\n",
       "      <td>...</td>\n",
       "      <td>{'0': [0], '1': [1], '2': [2], '3': [3], '4': ...</td>\n",
       "      <td>1</td>\n",
       "      <td>[-6.39727783203125, 24.1392822265625, 1.701260...</td>\n",
       "      <td>filtered</td>\n",
       "      <td>1</td>\n",
       "      <td>WRANGLE</td>\n",
       "      <td>14</td>\n",
       "      <td>12</td>\n",
       "      <td>1215903</td>\n",
       "      <td>12.0</td>\n",
       "    </tr>\n",
       "  </tbody>\n",
       "</table>\n",
       "<p>5 rows × 22 columns</p>\n",
       "</div>"
      ],
      "text/plain": [
       "   target_lineno                                        file  \\\n",
       "0            183  /projects/bdata/jupyter/_7_1/nb_1053523.py   \n",
       "1             61  /projects/bdata/jupyter/_7_1/nb_1170705.py   \n",
       "2              9                                  nb_1221634   \n",
       "3             10  /projects/bdata/jupyter/_7_1/nb_1185862.py   \n",
       "4             14  /projects/bdata/jupyter/_7_1/nb_1215903.py   \n",
       "\n",
       "                                             context target_func  \\\n",
       "0  \\nx0 = [x[0] for x in train]\\n\\nx1 = [x[1] for...   none_func   \n",
       "1  \\nnum_topics = 20\\n\\nnum_top_words = 20\\n\\nclf...   none_func   \n",
       "2  \\nfor i in stems:\\n    if (len(stems[i][0]) ==...   none_func   \n",
       "3  \\nfile = open('C:/Users/Inance/Documents/Thesi...   none_func   \n",
       "4  \\nrng = np.random.RandomState(0)\\n\\nn_samples_...   none_func   \n",
       "\n",
       "                                               nodes  \\\n",
       "0  [{'type': 'Module', 'children': [1, 11, 21, 36...   \n",
       "1  [{'type': 'Module', 'children': [1, 4, 7, 17, ...   \n",
       "2  [{'type': 'Module', 'children': [1, 49]}, {'ty...   \n",
       "3  [{'type': 'Module', 'children': [1, 6, 9, 28, ...   \n",
       "4  [{'type': 'Module', 'children': [1, 10, 13, 16...   \n",
       "\n",
       "                                               funcs  stage   id  \\\n",
       "0  [matplotlib.cm.jet, max, matplotlib.pyplot.fig...      2   74   \n",
       "1  [sklearn.decomposition.NMF, sklearn.decomposit...      3  424   \n",
       "2                                         [len, len]      1  156   \n",
       "3  [open, append, float, line.split, numpy.array,...      1   18   \n",
       "4  [numpy.random.RandomState, numpy.random.Random...      1  299   \n",
       "\n",
       "  neighbor_cells                         header  ...  \\\n",
       "0           [73]   PCA to 150 dimensional space  ...   \n",
       "1          [423]                        [EMPTY]  ...   \n",
       "2           [-1]                                 ...   \n",
       "3           [17]               Import Libraries  ...   \n",
       "4          [298]                        [EMPTY]  ...   \n",
       "\n",
       "                                             idx_map pred  \\\n",
       "0  {'0': [0], '1': [1], '2': [2, 3], '3': [4], '4...    2   \n",
       "1  {'0': [0], '1': [1], '2': [2, 3], '3': [4], '4...    3   \n",
       "2  {'0': [0], '1': [1], '2': [2], '3': [3], '4': ...    1   \n",
       "3  {'0': [0], '1': [1], '2': [2], '3': [3], '4': ...    2   \n",
       "4  {'0': [0], '1': [1], '2': [2], '3': [3], '4': ...    1   \n",
       "\n",
       "                                           stage_vec   dataset label  \\\n",
       "0  [-2.149143695831299, -2.429313898086548, 30.93...  filtered     2   \n",
       "1  [-2.989803314208984, -1.214049339294433, 4.552...  filtered     3   \n",
       "2  [-6.59837007522583, 23.175315856933594, 0.5943...  filtered     1   \n",
       "3  [-3.463528394699096, 10.72555923461914, 26.439...  filtered     2   \n",
       "4  [-6.39727783203125, 24.1392822265625, 1.701260...  filtered     1   \n",
       "\n",
       "  readable_label  converted_py_lineno n_lines    nb_id  code_line_no  \n",
       "0        EXPLORE                  183      18  1053523          69.0  \n",
       "1          MODEL                   61      18  1170705          65.0  \n",
       "2        WRANGLE                    9       8  1221634          84.0  \n",
       "3        EXPLORE                   10      15  1185862         211.0  \n",
       "4        WRANGLE                   14      12  1215903          12.0  \n",
       "\n",
       "[5 rows x 22 columns]"
      ]
     },
     "execution_count": 8,
     "metadata": {},
     "output_type": "execute_result"
    }
   ],
   "source": [
    "results.head()"
   ]
  },
  {
   "cell_type": "markdown",
   "metadata": {},
   "source": [
    "Number of Labeled Cells:"
   ]
  },
  {
   "cell_type": "code",
   "execution_count": 9,
   "metadata": {},
   "outputs": [
    {
     "data": {
      "text/plain": [
       "1745"
      ]
     },
     "execution_count": 9,
     "metadata": {},
     "output_type": "execute_result"
    }
   ],
   "source": [
    "len(results)"
   ]
  },
  {
   "cell_type": "markdown",
   "metadata": {},
   "source": [
    "Number of Labled Notebooks:"
   ]
  },
  {
   "cell_type": "code",
   "execution_count": 10,
   "metadata": {},
   "outputs": [
    {
     "data": {
      "text/plain": [
       "97"
      ]
     },
     "execution_count": 10,
     "metadata": {},
     "output_type": "execute_result"
    }
   ],
   "source": [
    "results[\"file\"].nunique()"
   ]
  },
  {
   "cell_type": "markdown",
   "metadata": {},
   "source": [
    "Fraction of cells that include each label:"
   ]
  },
  {
   "cell_type": "code",
   "execution_count": 11,
   "metadata": {},
   "outputs": [
    {
     "data": {
      "text/plain": [
       "EXPLORE     0.556447\n",
       "WRANGLE     0.269914\n",
       "MODEL       0.093983\n",
       "IMPORT      0.058453\n",
       "EVALUATE    0.021203\n",
       "Name: readable_label, dtype: float64"
      ]
     },
     "execution_count": 11,
     "metadata": {},
     "output_type": "execute_result"
    }
   ],
   "source": [
    "results[\"readable_label\"].value_counts(normalize = True)"
   ]
  },
  {
   "cell_type": "markdown",
   "metadata": {},
   "source": [
    "# Markov Process\n",
    "Let's find the transition matrix between sequential states"
   ]
  },
  {
   "cell_type": "code",
   "execution_count": 12,
   "metadata": {},
   "outputs": [
    {
     "data": {
      "text/plain": [
       "nb_id\n",
       "1000752    [5, 1, 2, 2, 5, 2, 2, 2, 2, 2, 1, 2, 2, 2, 1, ...\n",
       "1002722                    [1, 2, 5, 2, 1, 2, 1, 2, 2, 2, 1]\n",
       "1004385                                [1, 2, 5, 1, 2, 2, 2]\n",
       "1005070    [2, 2, 1, 2, 4, 1, 1, 2, 2, 2, 2, 1, 2, 1, 1, ...\n",
       "1005207    [1, 2, 1, 2, 3, 3, 2, 3, 3, 2, 1, 2, 2, 1, 1, ...\n",
       "Name: label, dtype: object"
      ]
     },
     "execution_count": 12,
     "metadata": {},
     "output_type": "execute_result"
    }
   ],
   "source": [
    "sequences = results.sort_values([\"nb_id\",\"code_line_no\"]).groupby([\"nb_id\"])[\"label\"].apply(list)\n",
    "sequences.head()"
   ]
  },
  {
   "cell_type": "code",
   "execution_count": 15,
   "metadata": {},
   "outputs": [
    {
     "name": "stderr",
     "output_type": "stream",
     "text": [
      "/homes/gws/mikeam/anaconda3/envs/analysis/lib/python3.7/site-packages/ipykernel_launcher.py:8: RuntimeWarning: invalid value encountered in true_divide\n",
      "  \n"
     ]
    }
   ],
   "source": [
    "def get_transition_matrix(X,n_states = len(READABLE_LABELS),\n",
    "                          normalize = True):\n",
    "    M = np.zeros((n_states,n_states))\n",
    "    for row in X:\n",
    "        for xi,xi1 in zip(row,row[1:]):\n",
    "            M[xi,xi1] += 1\n",
    "    if normalize:\n",
    "        M = M / M.sum(axis = 1)[:,None]\n",
    "    return M\n",
    "\n",
    "transitions = pd.DataFrame(get_transition_matrix(sequences.values),\n",
    "                           columns=READABLE_LABELS,\n",
    "                           index = READABLE_LABELS)\n",
    "transitions.index = pd.CategoricalIndex(transitions.index, categories= ORDERED_LABELS)\n",
    "transitions.sort_index(level=0, inplace=True)\n",
    "\n",
    "transitions.columns = pd.CategoricalIndex(transitions.columns, categories= ORDERED_LABELS)\n",
    "transitions.sort_index(axis=1,inplace = True)"
   ]
  },
  {
   "cell_type": "code",
   "execution_count": 40,
   "metadata": {},
   "outputs": [
    {
     "data": {
      "image/png": "[encoded data removed]",
      "text/plain": [
       "<Figure size 504x504 with 2 Axes>"
      ]
     },
     "metadata": {
      "needs_background": "light"
     },
     "output_type": "display_data"
    }
   ],
   "source": [
    "with plt.style.context('publications.mplstyle'): \n",
    "    \n",
    "    fig, ax = plt.subplots(figsize=(7,7))  \n",
    "    cbar_ax = fig.add_axes([.95, 0.15, .05, .7])\n",
    "    g = sns.heatmap(transitions.iloc[:-1,:-1],annot = True, fmt = \".1%\", square = True,cmap=\"YlGnBu\" ,\n",
    "                    ax = ax, cbar_ax=cbar_ax, cbar_kws={'format': '%.0f%%'})\n",
    "#     plt.figure(figsize=(9,8))\n",
    "\n",
    "\n",
    "    cbar_ax.yaxis.set_major_formatter(PercentFormatter(1, 0))\n",
    "    \n",
    "    \n",
    "    ax.set_title(\"Stage Transition Probabilities\")\n",
    "    ax.set_ylabel(\"$cell_i$\", size = 20)\n",
    "    ax.set_xlabel(\"$cell_{i+1}$\", size = 20)\n",
    "    plt.setp( ax.xaxis.get_majorticklabels(), rotation=70 )\n",
    "\n",
    "    \n",
    "    for tick in plt.gca().yaxis.get_major_ticks():\n",
    "        tick.label1.set_verticalalignment('center')\n",
    "#     plt.tight_layout()\n",
    "    plt.savefig(\"figs/transitions.pdf\",bbox_inches=\"tight\",transparent = True)\n",
    "    \n",
    "    "
   ]
  },
  {
   "cell_type": "code",
   "execution_count": null,
   "metadata": {},
   "outputs": [],
   "source": []
  },
  {
   "cell_type": "markdown",
   "metadata": {},
   "source": [
    "## Takeaways:\n",
    "* Likely to go from `IMPORT` to `WRANGLE` $\\,\\to\\,$ Matches our model of the process\n",
    "* Likely to stay in the same state $\\,\\to\\,$ Does this make sense?\n",
    "* Could probably do some \"paper two\" work on modeling these sequences\n",
    "* Could comparse to results using cell execution order"
   ]
  },
  {
   "cell_type": "markdown",
   "metadata": {},
   "source": [
    "# Location in the Document?"
   ]
  },
  {
   "cell_type": "code",
   "execution_count": 14,
   "metadata": {},
   "outputs": [
    {
     "data": {
      "text/plain": [
       "Text(3.799999999999997, 0.5, 'Average Line Number')"
      ]
     },
     "execution_count": 14,
     "metadata": {},
     "output_type": "execute_result"
    },
    {
     "data": {
      "image/png": "[encoded data removed]",
      "text/plain": [
       "<Figure size 360x360 with 1 Axes>"
      ]
     },
     "metadata": {
      "needs_background": "light"
     },
     "output_type": "display_data"
    }
   ],
   "source": [
    "g = sns.catplot(data = results, y = \"code_line_no\", x = \"readable_label\",kind = \"bar\",\n",
    "               col_order = ORDERED_LABELS)\n",
    "plt.xticks(rotation=70)\n",
    "plt.xlabel(\"Stage\")\n",
    "plt.ylabel(\"Average Line Number\")"
   ]
  },
  {
   "cell_type": "markdown",
   "metadata": {},
   "source": [
    "# Normalized Location in Document"
   ]
  },
  {
   "cell_type": "code",
   "execution_count": 90,
   "metadata": {},
   "outputs": [
    {
     "name": "stderr",
     "output_type": "stream",
     "text": [
      "Bad val \"'ps',\" on line #1\n",
      "\t\"backend: 'ps',\n",
      "\"\n",
      "\tin file \"publications.mplstyle\"\n",
      "\tKey backend: Unrecognized backend string \"'ps',\": valid strings are ['GTK3Agg', 'GTK3Cairo', 'MacOSX', 'nbAgg', 'Qt4Agg', 'Qt4Cairo', 'Qt5Agg', 'Qt5Cairo', 'TkAgg', 'TkCairo', 'WebAgg', 'WX', 'WXAgg', 'WXCairo', 'agg', 'cairo', 'pdf', 'pgf', 'ps', 'svg', 'template']\n",
      "Bad val '8,' on line #3\n",
      "\t\"axes.labelsize: 8, # fontsize for x and y labels (was 10)\n",
      "\"\n",
      "\tin file \"publications.mplstyle\"\n",
      "\tKey axes.labelsize: 8, is not a valid font size. Valid font sizes are xx-small, x-small, small, medium, large, x-large, xx-large, smaller, larger.\n",
      "Bad val '8,' on line #4\n",
      "\t\"axes.titlesize: 8,\n",
      "\"\n",
      "\tin file \"publications.mplstyle\"\n",
      "\tKey axes.titlesize: 8, is not a valid font size. Valid font sizes are xx-small, x-small, small, medium, large, x-large, xx-large, smaller, larger.\n",
      "\n",
      "Bad key \"text.size'\" on line 5 in\n",
      "publications.mplstyle.\n",
      "You probably need to get an updated matplotlibrc file from\n",
      "http://github.com/matplotlib/matplotlib/blob/master/matplotlibrc.template\n",
      "or from the matplotlib source distribution\n",
      "Bad val '8,' on line #6\n",
      "\t\"legend.fontsize: 8, # was 10\n",
      "\"\n",
      "\tin file \"publications.mplstyle\"\n",
      "\tKey legend.fontsize: 8, is not a valid font size. Valid font sizes are xx-small, x-small, small, medium, large, x-large, xx-large, smaller, larger.\n",
      "Bad val '8,' on line #7\n",
      "\t\"xtick.labelsize: 8,\n",
      "\"\n",
      "\tin file \"publications.mplstyle\"\n",
      "\tKey xtick.labelsize: 8, is not a valid font size. Valid font sizes are xx-small, x-small, small, medium, large, x-large, xx-large, smaller, larger.\n",
      "Bad val '8,' on line #8\n",
      "\t\"ytick.labelsize: 8,\n",
      "\"\n",
      "\tin file \"publications.mplstyle\"\n",
      "\tKey ytick.labelsize: 8, is not a valid font size. Valid font sizes are xx-small, x-small, small, medium, large, x-large, xx-large, smaller, larger.\n",
      "Bad val 'True,' on line #9\n",
      "\t\"text.usetex: True,\n",
      "\"\n",
      "\tin file \"publications.mplstyle\"\n",
      "\tKey text.usetex: Could not convert \"true,\" to boolean\n",
      "Bad val '[fig_width,fig_height],' on line #10\n",
      "\t\"figure.figsize: [fig_width,fig_height],\n",
      "\"\n",
      "\tin file \"publications.mplstyle\"\n",
      "\tKey figure.figsize: You must supply exactly 2 comma-separated values, you provided 3 comma-separated values: ['[fig_width', 'fig_height]', '']\n",
      "\n",
      "Bad key \"font.family'\" on line 11 in\n",
      "publications.mplstyle.\n",
      "You probably need to get an updated matplotlibrc file from\n",
      "http://github.com/matplotlib/matplotlib/blob/master/matplotlibrc.template\n",
      "or from the matplotlib source distribution\n"
     ]
    },
    {
     "data": {
      "image/png": "[encoded data removed]",
      "text/plain": [
       "<Figure size 360x360 with 1 Axes>"
      ]
     },
     "metadata": {
      "needs_background": "light"
     },
     "output_type": "display_data"
    }
   ],
   "source": [
    "nb_lengths = (results\n",
    "              .merge(results.groupby(\"nb_id\")[\"n_lines\"].sum().rename(\"total_nb_length\"),\n",
    "                     how = \"left\",\n",
    "                     on = \"nb_id\"))\n",
    "nb_lengths[\"normalized_position\"] = nb_lengths[\"code_line_no\"] / nb_lengths[\"total_nb_length\"]\n",
    "with plt.style.context('publications.mplstyle'):    \n",
    "    g = sns.catplot(data = nb_lengths, y = \"normalized_position\", x = \"readable_label\",\n",
    "                    kind = \"bar\", order = ORDERED_LABELS[:-1])\n",
    "    plt.ylim(0,1)\n",
    "    plt.xticks(rotation=70)\n",
    "    plt.xlabel(\"Stage\")\n",
    "    plt.ylabel(\"Normalized Line Position\")\n",
    "    plt.savefig(\"figs/norm_doc_location.pdf\",bbox_inches=\"tight\",transparent = True)"
   ]
  },
  {
   "cell_type": "code",
   "execution_count": 16,
   "metadata": {},
   "outputs": [
    {
     "data": {
      "text/plain": [
       "2003657"
      ]
     },
     "execution_count": 16,
     "metadata": {},
     "output_type": "execute_result"
    }
   ],
   "source": [
    "len(results)"
   ]
  },
  {
   "cell_type": "markdown",
   "metadata": {},
   "source": [
    "## Takeaways:\n",
    "* On average, the order is `WRANGLE`/`IMPORT` $\\,\\to\\,$ `EXPLORE`/`MODEL` $\\,\\to\\,$ `EVALUATE`"
   ]
  },
  {
   "cell_type": "markdown",
   "metadata": {},
   "source": [
    "# Relating Notebooks to Repos"
   ]
  },
  {
   "cell_type": "code",
   "execution_count": 17,
   "metadata": {},
   "outputs": [
    {
     "data": {
      "text/html": [
       "<div>\n",
       "<style scoped>\n",
       "    .dataframe tbody tr th:only-of-type {\n",
       "        vertical-align: middle;\n",
       "    }\n",
       "\n",
       "    .dataframe tbody tr th {\n",
       "        vertical-align: top;\n",
       "    }\n",
       "\n",
       "    .dataframe thead th {\n",
       "        text-align: right;\n",
       "    }\n",
       "</style>\n",
       "<table border=\"1\" class=\"dataframe\">\n",
       "  <thead>\n",
       "    <tr style=\"text-align: right;\">\n",
       "      <th></th>\n",
       "      <th>nb_id</th>\n",
       "      <th>html_url</th>\n",
       "      <th>max_filesize</th>\n",
       "      <th>min_filesize</th>\n",
       "      <th>name</th>\n",
       "      <th>path</th>\n",
       "      <th>query_page</th>\n",
       "      <th>repo_id</th>\n",
       "    </tr>\n",
       "  </thead>\n",
       "  <tbody>\n",
       "    <tr>\n",
       "      <th>0</th>\n",
       "      <td>0</td>\n",
       "      <td>https://github.com/dalequark/emotivExperiment/...</td>\n",
       "      <td>10</td>\n",
       "      <td>0</td>\n",
       "      <td>EmotivDataAnalysis.ipynb</td>\n",
       "      <td>ipynb/EmotivDataAnalysis.ipynb</td>\n",
       "      <td>1</td>\n",
       "      <td>26093748</td>\n",
       "    </tr>\n",
       "    <tr>\n",
       "      <th>1</th>\n",
       "      <td>1</td>\n",
       "      <td>https://github.com/kevcisme/madelon_redux/blob...</td>\n",
       "      <td>10</td>\n",
       "      <td>0</td>\n",
       "      <td>Part_IV_Project_3-checkpoint_BASE_63907.ipynb</td>\n",
       "      <td>ipynb/.ipynb_checkpoints/Part_IV_Project_3-che...</td>\n",
       "      <td>1</td>\n",
       "      <td>95729593</td>\n",
       "    </tr>\n",
       "    <tr>\n",
       "      <th>2</th>\n",
       "      <td>2</td>\n",
       "      <td>https://github.com/HaraldoFilho/DLND-Projects/...</td>\n",
       "      <td>10</td>\n",
       "      <td>0</td>\n",
       "      <td>_.ipynb</td>\n",
       "      <td>_.ipynb</td>\n",
       "      <td>1</td>\n",
       "      <td>88182909</td>\n",
       "    </tr>\n",
       "    <tr>\n",
       "      <th>3</th>\n",
       "      <td>3</td>\n",
       "      <td>https://github.com/mhjensen/CPMLS/blob/4a5b37e...</td>\n",
       "      <td>10</td>\n",
       "      <td>0</td>\n",
       "      <td>csexmas2015.ipynb</td>\n",
       "      <td>doc/pub/CSETalks/csexmas2015/ipynb/csexmas2015...</td>\n",
       "      <td>1</td>\n",
       "      <td>35169104</td>\n",
       "    </tr>\n",
       "    <tr>\n",
       "      <th>4</th>\n",
       "      <td>4</td>\n",
       "      <td>https://github.com/freqn/atom_configuration/bl...</td>\n",
       "      <td>10</td>\n",
       "      <td>0</td>\n",
       "      <td>jupyter.ipynb</td>\n",
       "      <td>packages/file-icons/examples/jupyter.ipynb</td>\n",
       "      <td>1</td>\n",
       "      <td>57460377</td>\n",
       "    </tr>\n",
       "  </tbody>\n",
       "</table>\n",
       "</div>"
      ],
      "text/plain": [
       "   nb_id                                           html_url  max_filesize  \\\n",
       "0      0  https://github.com/dalequark/emotivExperiment/...            10   \n",
       "1      1  https://github.com/kevcisme/madelon_redux/blob...            10   \n",
       "2      2  https://github.com/HaraldoFilho/DLND-Projects/...            10   \n",
       "3      3  https://github.com/mhjensen/CPMLS/blob/4a5b37e...            10   \n",
       "4      4  https://github.com/freqn/atom_configuration/bl...            10   \n",
       "\n",
       "   min_filesize                                           name  \\\n",
       "0             0                       EmotivDataAnalysis.ipynb   \n",
       "1             0  Part_IV_Project_3-checkpoint_BASE_63907.ipynb   \n",
       "2             0                                        _.ipynb   \n",
       "3             0                              csexmas2015.ipynb   \n",
       "4             0                                  jupyter.ipynb   \n",
       "\n",
       "                                                path  query_page   repo_id  \n",
       "0                     ipynb/EmotivDataAnalysis.ipynb           1  26093748  \n",
       "1  ipynb/.ipynb_checkpoints/Part_IV_Project_3-che...           1  95729593  \n",
       "2                                            _.ipynb           1  88182909  \n",
       "3  doc/pub/CSETalks/csexmas2015/ipynb/csexmas2015...           1  35169104  \n",
       "4         packages/file-icons/examples/jupyter.ipynb           1  57460377  "
      ]
     },
     "execution_count": 17,
     "metadata": {},
     "output_type": "execute_result"
    }
   ],
   "source": [
    "notebook_info = pd.read_csv(\"/projects/bdata/jupyter/notebook_info/notebooks.csv\")\n",
    "notebook_info.head()"
   ]
  },
  {
   "cell_type": "code",
   "execution_count": 18,
   "metadata": {},
   "outputs": [
    {
     "data": {
      "text/html": [
       "<div>\n",
       "<style scoped>\n",
       "    .dataframe tbody tr th:only-of-type {\n",
       "        vertical-align: middle;\n",
       "    }\n",
       "\n",
       "    .dataframe tbody tr th {\n",
       "        vertical-align: top;\n",
       "    }\n",
       "\n",
       "    .dataframe thead th {\n",
       "        text-align: right;\n",
       "    }\n",
       "</style>\n",
       "<table border=\"1\" class=\"dataframe\">\n",
       "  <thead>\n",
       "    <tr style=\"text-align: right;\">\n",
       "      <th></th>\n",
       "      <th>created_at</th>\n",
       "      <th>default_branch</th>\n",
       "      <th>description</th>\n",
       "      <th>fork</th>\n",
       "      <th>forks</th>\n",
       "      <th>forks_count</th>\n",
       "      <th>full_name</th>\n",
       "      <th>git_url</th>\n",
       "      <th>has_downloads</th>\n",
       "      <th>has_issues</th>\n",
       "      <th>...</th>\n",
       "      <th>permissions</th>\n",
       "      <th>private</th>\n",
       "      <th>pushed_at</th>\n",
       "      <th>size</th>\n",
       "      <th>ssh_url</th>\n",
       "      <th>stargazers_count</th>\n",
       "      <th>subscribers_count</th>\n",
       "      <th>updated_at</th>\n",
       "      <th>watchers</th>\n",
       "      <th>watchers_count</th>\n",
       "    </tr>\n",
       "  </thead>\n",
       "  <tbody>\n",
       "    <tr>\n",
       "      <th>0</th>\n",
       "      <td>2013-05-11T20:49:36Z</td>\n",
       "      <td>master</td>\n",
       "      <td>Educational Python</td>\n",
       "      <td>False</td>\n",
       "      <td>0.0</td>\n",
       "      <td>0.0</td>\n",
       "      <td>pratiks/PyEducation</td>\n",
       "      <td>git://github.com/pratiks/PyEducation.git</td>\n",
       "      <td>True</td>\n",
       "      <td>True</td>\n",
       "      <td>...</td>\n",
       "      <td>{'admin': False, 'push': False, 'pull': True}</td>\n",
       "      <td>False</td>\n",
       "      <td>2013-05-13T16:18:48Z</td>\n",
       "      <td>168.0</td>\n",
       "      <td>git@github.com:pratiks/PyEducation.git</td>\n",
       "      <td>0.0</td>\n",
       "      <td>0.0</td>\n",
       "      <td>2013-10-11T07:19:53Z</td>\n",
       "      <td>0.0</td>\n",
       "      <td>0.0</td>\n",
       "    </tr>\n",
       "    <tr>\n",
       "      <th>1</th>\n",
       "      <td>2013-05-11T21:46:33Z</td>\n",
       "      <td>ProjDev</td>\n",
       "      <td>NaN</td>\n",
       "      <td>False</td>\n",
       "      <td>0.0</td>\n",
       "      <td>0.0</td>\n",
       "      <td>danstrawser/Nlp2Commands</td>\n",
       "      <td>git://github.com/danstrawser/Nlp2Commands.git</td>\n",
       "      <td>True</td>\n",
       "      <td>True</td>\n",
       "      <td>...</td>\n",
       "      <td>{'admin': False, 'push': False, 'pull': True}</td>\n",
       "      <td>False</td>\n",
       "      <td>2015-12-15T00:29:05Z</td>\n",
       "      <td>46146.0</td>\n",
       "      <td>git@github.com:danstrawser/Nlp2Commands.git</td>\n",
       "      <td>0.0</td>\n",
       "      <td>1.0</td>\n",
       "      <td>2015-12-02T06:04:02Z</td>\n",
       "      <td>0.0</td>\n",
       "      <td>0.0</td>\n",
       "    </tr>\n",
       "    <tr>\n",
       "      <th>2</th>\n",
       "      <td>2013-05-12T00:24:17Z</td>\n",
       "      <td>master</td>\n",
       "      <td>Simple code for time domain simulations of the...</td>\n",
       "      <td>False</td>\n",
       "      <td>1.0</td>\n",
       "      <td>1.0</td>\n",
       "      <td>IanHawke/MultiFluid1d</td>\n",
       "      <td>git://github.com/IanHawke/MultiFluid1d.git</td>\n",
       "      <td>True</td>\n",
       "      <td>True</td>\n",
       "      <td>...</td>\n",
       "      <td>{'admin': False, 'push': False, 'pull': True}</td>\n",
       "      <td>False</td>\n",
       "      <td>2015-07-16T08:58:15Z</td>\n",
       "      <td>7741.0</td>\n",
       "      <td>git@github.com:IanHawke/MultiFluid1d.git</td>\n",
       "      <td>0.0</td>\n",
       "      <td>1.0</td>\n",
       "      <td>2015-07-16T08:58:15Z</td>\n",
       "      <td>0.0</td>\n",
       "      <td>0.0</td>\n",
       "    </tr>\n",
       "    <tr>\n",
       "      <th>3</th>\n",
       "      <td>2013-05-12T06:19:15Z</td>\n",
       "      <td>master</td>\n",
       "      <td>The official sources for the RDKit library</td>\n",
       "      <td>False</td>\n",
       "      <td>154.0</td>\n",
       "      <td>154.0</td>\n",
       "      <td>rdkit/rdkit</td>\n",
       "      <td>git://github.com/rdkit/rdkit.git</td>\n",
       "      <td>True</td>\n",
       "      <td>True</td>\n",
       "      <td>...</td>\n",
       "      <td>{'admin': False, 'push': False, 'pull': True}</td>\n",
       "      <td>False</td>\n",
       "      <td>2017-07-22T11:54:08Z</td>\n",
       "      <td>103731.0</td>\n",
       "      <td>git@github.com:rdkit/rdkit.git</td>\n",
       "      <td>248.0</td>\n",
       "      <td>61.0</td>\n",
       "      <td>2017-07-20T10:53:57Z</td>\n",
       "      <td>248.0</td>\n",
       "      <td>248.0</td>\n",
       "    </tr>\n",
       "    <tr>\n",
       "      <th>4</th>\n",
       "      <td>2013-05-12T07:37:28Z</td>\n",
       "      <td>master</td>\n",
       "      <td>NaN</td>\n",
       "      <td>False</td>\n",
       "      <td>4.0</td>\n",
       "      <td>4.0</td>\n",
       "      <td>Hanjun-Dai/lecast</td>\n",
       "      <td>git://github.com/Hanjun-Dai/lecast.git</td>\n",
       "      <td>True</td>\n",
       "      <td>True</td>\n",
       "      <td>...</td>\n",
       "      <td>{'admin': False, 'push': False, 'pull': True}</td>\n",
       "      <td>False</td>\n",
       "      <td>2013-05-12T07:43:33Z</td>\n",
       "      <td>3594.0</td>\n",
       "      <td>git@github.com:Hanjun-Dai/lecast.git</td>\n",
       "      <td>1.0</td>\n",
       "      <td>1.0</td>\n",
       "      <td>2014-05-30T10:56:49Z</td>\n",
       "      <td>1.0</td>\n",
       "      <td>1.0</td>\n",
       "    </tr>\n",
       "  </tbody>\n",
       "</table>\n",
       "<p>5 rows × 31 columns</p>\n",
       "</div>"
      ],
      "text/plain": [
       "             created_at default_branch  \\\n",
       "0  2013-05-11T20:49:36Z         master   \n",
       "1  2013-05-11T21:46:33Z        ProjDev   \n",
       "2  2013-05-12T00:24:17Z         master   \n",
       "3  2013-05-12T06:19:15Z         master   \n",
       "4  2013-05-12T07:37:28Z         master   \n",
       "\n",
       "                                         description   fork  forks  \\\n",
       "0                                 Educational Python  False    0.0   \n",
       "1                                                NaN  False    0.0   \n",
       "2  Simple code for time domain simulations of the...  False    1.0   \n",
       "3         The official sources for the RDKit library  False  154.0   \n",
       "4                                                NaN  False    4.0   \n",
       "\n",
       "   forks_count                 full_name  \\\n",
       "0          0.0       pratiks/PyEducation   \n",
       "1          0.0  danstrawser/Nlp2Commands   \n",
       "2          1.0     IanHawke/MultiFluid1d   \n",
       "3        154.0               rdkit/rdkit   \n",
       "4          4.0         Hanjun-Dai/lecast   \n",
       "\n",
       "                                         git_url has_downloads has_issues  \\\n",
       "0       git://github.com/pratiks/PyEducation.git          True       True   \n",
       "1  git://github.com/danstrawser/Nlp2Commands.git          True       True   \n",
       "2     git://github.com/IanHawke/MultiFluid1d.git          True       True   \n",
       "3               git://github.com/rdkit/rdkit.git          True       True   \n",
       "4         git://github.com/Hanjun-Dai/lecast.git          True       True   \n",
       "\n",
       "   ...                                    permissions private  \\\n",
       "0  ...  {'admin': False, 'push': False, 'pull': True}   False   \n",
       "1  ...  {'admin': False, 'push': False, 'pull': True}   False   \n",
       "2  ...  {'admin': False, 'push': False, 'pull': True}   False   \n",
       "3  ...  {'admin': False, 'push': False, 'pull': True}   False   \n",
       "4  ...  {'admin': False, 'push': False, 'pull': True}   False   \n",
       "\n",
       "              pushed_at      size  \\\n",
       "0  2013-05-13T16:18:48Z     168.0   \n",
       "1  2015-12-15T00:29:05Z   46146.0   \n",
       "2  2015-07-16T08:58:15Z    7741.0   \n",
       "3  2017-07-22T11:54:08Z  103731.0   \n",
       "4  2013-05-12T07:43:33Z    3594.0   \n",
       "\n",
       "                                       ssh_url stargazers_count  \\\n",
       "0       git@github.com:pratiks/PyEducation.git              0.0   \n",
       "1  git@github.com:danstrawser/Nlp2Commands.git              0.0   \n",
       "2     git@github.com:IanHawke/MultiFluid1d.git              0.0   \n",
       "3               git@github.com:rdkit/rdkit.git            248.0   \n",
       "4         git@github.com:Hanjun-Dai/lecast.git              1.0   \n",
       "\n",
       "  subscribers_count            updated_at  watchers  watchers_count  \n",
       "0               0.0  2013-10-11T07:19:53Z       0.0             0.0  \n",
       "1               1.0  2015-12-02T06:04:02Z       0.0             0.0  \n",
       "2               1.0  2015-07-16T08:58:15Z       0.0             0.0  \n",
       "3              61.0  2017-07-20T10:53:57Z     248.0           248.0  \n",
       "4               1.0  2014-05-30T10:56:49Z       1.0             1.0  \n",
       "\n",
       "[5 rows x 31 columns]"
      ]
     },
     "execution_count": 18,
     "metadata": {},
     "output_type": "execute_result"
    }
   ],
   "source": [
    "#Discard columns with mixed datatypes that we don't use anyway:\n",
    "REPO_INFO_DISCARD_COLUMNS = {\"mirror_url\",'allow_merge_commit', 'allow_rebase_merge', 'allow_squash_merge'}\n",
    "repo_info = pd.read_csv(\"/projects/bdata/jupyter/cleaned_repo_metadata.csv\",\n",
    "                        usecols = lambda x: x not in REPO_INFO_DISCARD_COLUMNS)\n",
    "repo_info.head()"
   ]
  },
  {
   "cell_type": "code",
   "execution_count": 19,
   "metadata": {},
   "outputs": [],
   "source": [
    "results_with_repo = nb_lengths.merge(notebook_info, on = \"nb_id\", how = \"left\").sort_values(\"repo_id\")\\\n",
    "                              .merge(repo_info, left_on = \"repo_id\", right_on = \"id\")\\"
   ]
  },
  {
   "cell_type": "code",
   "execution_count": null,
   "metadata": {},
   "outputs": [],
   "source": []
  },
  {
   "cell_type": "markdown",
   "metadata": {},
   "source": [
    "## How many notebooks are in the average repo?"
   ]
  },
  {
   "cell_type": "code",
   "execution_count": 20,
   "metadata": {},
   "outputs": [
    {
     "data": {
      "text/plain": [
       "count    42577.000000\n",
       "mean         2.773892\n",
       "std          8.497878\n",
       "min          1.000000\n",
       "25%          1.000000\n",
       "50%          1.000000\n",
       "75%          3.000000\n",
       "max       1213.000000\n",
       "dtype: float64"
      ]
     },
     "execution_count": 20,
     "metadata": {},
     "output_type": "execute_result"
    }
   ],
   "source": [
    "results_with_repo.drop_duplicates(subset=[\"nb_id\"]).groupby(\"repo_id\").size().describe()"
   ]
  },
  {
   "cell_type": "markdown",
   "metadata": {},
   "source": [
    "# Analysis Stages and Academic Papers"
   ]
  },
  {
   "cell_type": "code",
   "execution_count": 21,
   "metadata": {},
   "outputs": [
    {
     "name": "stderr",
     "output_type": "stream",
     "text": [
      "/homes/gws/mikeam/anaconda3/envs/analysis/lib/python3.7/site-packages/IPython/core/interactiveshell.py:3057: DtypeWarning: Columns (2) have mixed types. Specify dtype option on import or set low_memory=False.\n",
      "  interactivity=interactivity, compiler=compiler, result=result)\n"
     ]
    },
    {
     "data": {
      "text/html": [
       "<div>\n",
       "<style scoped>\n",
       "    .dataframe tbody tr th:only-of-type {\n",
       "        vertical-align: middle;\n",
       "    }\n",
       "\n",
       "    .dataframe tbody tr th {\n",
       "        vertical-align: top;\n",
       "    }\n",
       "\n",
       "    .dataframe thead th {\n",
       "        text-align: right;\n",
       "    }\n",
       "</style>\n",
       "<table border=\"1\" class=\"dataframe\">\n",
       "  <thead>\n",
       "    <tr style=\"text-align: right;\">\n",
       "      <th></th>\n",
       "      <th>abstract</th>\n",
       "      <th>acl_id</th>\n",
       "      <th>arxiv_id</th>\n",
       "      <th>authors</th>\n",
       "      <th>doi</th>\n",
       "      <th>github_refs</th>\n",
       "      <th>journal</th>\n",
       "      <th>paper_id</th>\n",
       "      <th>pmc_id</th>\n",
       "      <th>pubmed_id</th>\n",
       "      <th>title</th>\n",
       "      <th>venue</th>\n",
       "      <th>year</th>\n",
       "      <th>full_name</th>\n",
       "    </tr>\n",
       "  </thead>\n",
       "  <tbody>\n",
       "    <tr>\n",
       "      <th>0</th>\n",
       "      <td>PREMISE OF THE STUDY California's vascular flo...</td>\n",
       "      <td>NaN</td>\n",
       "      <td>NaN</td>\n",
       "      <td>[{'first': 'Bruce', 'middle': ['G'], 'last': '...</td>\n",
       "      <td>10.3732/ajb.1600326</td>\n",
       "      <td>['github.com/OpenRefine']</td>\n",
       "      <td>American journal of botany</td>\n",
       "      <td>43052386</td>\n",
       "      <td>NaN</td>\n",
       "      <td>28341628.0</td>\n",
       "      <td>Species richness and endemism in the native fl...</td>\n",
       "      <td>American journal of botany</td>\n",
       "      <td>2017.0</td>\n",
       "      <td>NaN</td>\n",
       "    </tr>\n",
       "    <tr>\n",
       "      <th>1</th>\n",
       "      <td>Background: Reduced-representation sequencing ...</td>\n",
       "      <td>NaN</td>\n",
       "      <td>NaN</td>\n",
       "      <td>[{'first': 'Jinpeng', 'middle': [], 'last': 'W...</td>\n",
       "      <td>10.1016/j.ejbt.2016.02.003</td>\n",
       "      <td>['github.com/JINPENG-WANG']</td>\n",
       "      <td>Electronic Journal of Biotechnology</td>\n",
       "      <td>56063937</td>\n",
       "      <td>NaN</td>\n",
       "      <td>NaN</td>\n",
       "      <td>RestrictionDigest: A powerful Perl module for ...</td>\n",
       "      <td>Electronic Journal of Biotechnology</td>\n",
       "      <td>2016.0</td>\n",
       "      <td>NaN</td>\n",
       "    </tr>\n",
       "    <tr>\n",
       "      <th>2</th>\n",
       "      <td>This thesis presents different methods of anal...</td>\n",
       "      <td>NaN</td>\n",
       "      <td>NaN</td>\n",
       "      <td>[{'first': 'Nejc', 'middle': [], 'last': 'Šilc...</td>\n",
       "      <td>NaN</td>\n",
       "      <td>['github.com/nejcsilc/lpa']</td>\n",
       "      <td>NaN</td>\n",
       "      <td>63301592</td>\n",
       "      <td>NaN</td>\n",
       "      <td>NaN</td>\n",
       "      <td>Communication Protocols Analysis and Testing Tool</td>\n",
       "      <td>NaN</td>\n",
       "      <td>2016.0</td>\n",
       "      <td>nejcsilc/lpa</td>\n",
       "    </tr>\n",
       "    <tr>\n",
       "      <th>3</th>\n",
       "      <td>We present BubbleProfiler, a C++ software pack...</td>\n",
       "      <td>NaN</td>\n",
       "      <td>1901.03714</td>\n",
       "      <td>[{'first': 'Peter', 'middle': [], 'last': 'Ath...</td>\n",
       "      <td>10.1016/j.cpc.2019.05.017</td>\n",
       "      <td>['github.com/bubbleprofiler/bubbleprofiler', '...</td>\n",
       "      <td>Computer Physics Communications</td>\n",
       "      <td>68153807</td>\n",
       "      <td>NaN</td>\n",
       "      <td>NaN</td>\n",
       "      <td>BubbleProfiler: finding the field profile and ...</td>\n",
       "      <td>Comput.Phys.Commun. 244 (2019) 448-468</td>\n",
       "      <td>2019.0</td>\n",
       "      <td>bubbleprofiler/bubbleprofiler</td>\n",
       "    </tr>\n",
       "    <tr>\n",
       "      <th>4</th>\n",
       "      <td>We present BubbleProfiler, a C++ software pack...</td>\n",
       "      <td>NaN</td>\n",
       "      <td>1901.03714</td>\n",
       "      <td>[{'first': 'Peter', 'middle': [], 'last': 'Ath...</td>\n",
       "      <td>10.1016/j.cpc.2019.05.017</td>\n",
       "      <td>['github.com/bubbleprofiler/bubbleprofiler', '...</td>\n",
       "      <td>Computer Physics Communications</td>\n",
       "      <td>68153807</td>\n",
       "      <td>NaN</td>\n",
       "      <td>NaN</td>\n",
       "      <td>BubbleProfiler: finding the field profile and ...</td>\n",
       "      <td>Comput.Phys.Commun. 244 (2019) 448-468</td>\n",
       "      <td>2019.0</td>\n",
       "      <td>bubbleprofiler/bubbleprofiler</td>\n",
       "    </tr>\n",
       "  </tbody>\n",
       "</table>\n",
       "</div>"
      ],
      "text/plain": [
       "                                            abstract acl_id    arxiv_id  \\\n",
       "0  PREMISE OF THE STUDY California's vascular flo...    NaN         NaN   \n",
       "1  Background: Reduced-representation sequencing ...    NaN         NaN   \n",
       "2  This thesis presents different methods of anal...    NaN         NaN   \n",
       "3  We present BubbleProfiler, a C++ software pack...    NaN  1901.03714   \n",
       "4  We present BubbleProfiler, a C++ software pack...    NaN  1901.03714   \n",
       "\n",
       "                                             authors  \\\n",
       "0  [{'first': 'Bruce', 'middle': ['G'], 'last': '...   \n",
       "1  [{'first': 'Jinpeng', 'middle': [], 'last': 'W...   \n",
       "2  [{'first': 'Nejc', 'middle': [], 'last': 'Šilc...   \n",
       "3  [{'first': 'Peter', 'middle': [], 'last': 'Ath...   \n",
       "4  [{'first': 'Peter', 'middle': [], 'last': 'Ath...   \n",
       "\n",
       "                          doi  \\\n",
       "0         10.3732/ajb.1600326   \n",
       "1  10.1016/j.ejbt.2016.02.003   \n",
       "2                         NaN   \n",
       "3   10.1016/j.cpc.2019.05.017   \n",
       "4   10.1016/j.cpc.2019.05.017   \n",
       "\n",
       "                                         github_refs  \\\n",
       "0                          ['github.com/OpenRefine']   \n",
       "1                        ['github.com/JINPENG-WANG']   \n",
       "2                        ['github.com/nejcsilc/lpa']   \n",
       "3  ['github.com/bubbleprofiler/bubbleprofiler', '...   \n",
       "4  ['github.com/bubbleprofiler/bubbleprofiler', '...   \n",
       "\n",
       "                               journal  paper_id pmc_id   pubmed_id  \\\n",
       "0           American journal of botany  43052386    NaN  28341628.0   \n",
       "1  Electronic Journal of Biotechnology  56063937    NaN         NaN   \n",
       "2                                  NaN  63301592    NaN         NaN   \n",
       "3      Computer Physics Communications  68153807    NaN         NaN   \n",
       "4      Computer Physics Communications  68153807    NaN         NaN   \n",
       "\n",
       "                                               title  \\\n",
       "0  Species richness and endemism in the native fl...   \n",
       "1  RestrictionDigest: A powerful Perl module for ...   \n",
       "2  Communication Protocols Analysis and Testing Tool   \n",
       "3  BubbleProfiler: finding the field profile and ...   \n",
       "4  BubbleProfiler: finding the field profile and ...   \n",
       "\n",
       "                                    venue    year  \\\n",
       "0              American journal of botany  2017.0   \n",
       "1     Electronic Journal of Biotechnology  2016.0   \n",
       "2                                     NaN  2016.0   \n",
       "3  Comput.Phys.Commun. 244 (2019) 448-468  2019.0   \n",
       "4  Comput.Phys.Commun. 244 (2019) 448-468  2019.0   \n",
       "\n",
       "                       full_name  \n",
       "0                            NaN  \n",
       "1                            NaN  \n",
       "2                   nejcsilc/lpa  \n",
       "3  bubbleprofiler/bubbleprofiler  \n",
       "4  bubbleprofiler/bubbleprofiler  "
      ]
     },
     "execution_count": 21,
     "metadata": {},
     "output_type": "execute_result"
    }
   ],
   "source": [
    "gorc_github_refs = pd.read_csv(\"gorc_github_refs.csv\")\n",
    "gorc_github_refs = gorc_github_refs.rename(columns = {\"repo_name\":\"full_name\"})\n",
    "gorc_github_refs.head()"
   ]
  },
  {
   "cell_type": "code",
   "execution_count": 22,
   "metadata": {},
   "outputs": [
    {
     "data": {
      "text/plain": [
       "78041"
      ]
     },
     "execution_count": 22,
     "metadata": {},
     "output_type": "execute_result"
    }
   ],
   "source": [
    "len(gorc_github_refs[\"year\"].dropna())"
   ]
  },
  {
   "cell_type": "code",
   "execution_count": 23,
   "metadata": {},
   "outputs": [
    {
     "data": {
      "text/html": [
       "<div>\n",
       "<style scoped>\n",
       "    .dataframe tbody tr th:only-of-type {\n",
       "        vertical-align: middle;\n",
       "    }\n",
       "\n",
       "    .dataframe tbody tr th {\n",
       "        vertical-align: top;\n",
       "    }\n",
       "\n",
       "    .dataframe thead th {\n",
       "        text-align: right;\n",
       "    }\n",
       "</style>\n",
       "<table border=\"1\" class=\"dataframe\">\n",
       "  <thead>\n",
       "    <tr style=\"text-align: right;\">\n",
       "      <th></th>\n",
       "      <th>abstract</th>\n",
       "      <th>acl_id</th>\n",
       "      <th>arxiv_id</th>\n",
       "      <th>authors</th>\n",
       "      <th>doi</th>\n",
       "      <th>github_refs</th>\n",
       "      <th>journal</th>\n",
       "      <th>paper_id</th>\n",
       "      <th>pmc_id</th>\n",
       "      <th>pubmed_id</th>\n",
       "      <th>title</th>\n",
       "      <th>venue</th>\n",
       "      <th>year</th>\n",
       "      <th>full_name</th>\n",
       "    </tr>\n",
       "  </thead>\n",
       "  <tbody>\n",
       "    <tr>\n",
       "      <th>0</th>\n",
       "      <td>PREMISE OF THE STUDY California's vascular flo...</td>\n",
       "      <td>NaN</td>\n",
       "      <td>NaN</td>\n",
       "      <td>[{'first': 'Bruce', 'middle': ['G'], 'last': '...</td>\n",
       "      <td>10.3732/ajb.1600326</td>\n",
       "      <td>['github.com/OpenRefine']</td>\n",
       "      <td>American journal of botany</td>\n",
       "      <td>43052386</td>\n",
       "      <td>NaN</td>\n",
       "      <td>28341628.0</td>\n",
       "      <td>Species richness and endemism in the native fl...</td>\n",
       "      <td>American journal of botany</td>\n",
       "      <td>2017.0</td>\n",
       "      <td>NaN</td>\n",
       "    </tr>\n",
       "    <tr>\n",
       "      <th>1</th>\n",
       "      <td>Background: Reduced-representation sequencing ...</td>\n",
       "      <td>NaN</td>\n",
       "      <td>NaN</td>\n",
       "      <td>[{'first': 'Jinpeng', 'middle': [], 'last': 'W...</td>\n",
       "      <td>10.1016/j.ejbt.2016.02.003</td>\n",
       "      <td>['github.com/JINPENG-WANG']</td>\n",
       "      <td>Electronic Journal of Biotechnology</td>\n",
       "      <td>56063937</td>\n",
       "      <td>NaN</td>\n",
       "      <td>NaN</td>\n",
       "      <td>RestrictionDigest: A powerful Perl module for ...</td>\n",
       "      <td>Electronic Journal of Biotechnology</td>\n",
       "      <td>2016.0</td>\n",
       "      <td>NaN</td>\n",
       "    </tr>\n",
       "    <tr>\n",
       "      <th>2</th>\n",
       "      <td>This thesis presents different methods of anal...</td>\n",
       "      <td>NaN</td>\n",
       "      <td>NaN</td>\n",
       "      <td>[{'first': 'Nejc', 'middle': [], 'last': 'Šilc...</td>\n",
       "      <td>NaN</td>\n",
       "      <td>['github.com/nejcsilc/lpa']</td>\n",
       "      <td>NaN</td>\n",
       "      <td>63301592</td>\n",
       "      <td>NaN</td>\n",
       "      <td>NaN</td>\n",
       "      <td>Communication Protocols Analysis and Testing Tool</td>\n",
       "      <td>NaN</td>\n",
       "      <td>2016.0</td>\n",
       "      <td>nejcsilc/lpa</td>\n",
       "    </tr>\n",
       "    <tr>\n",
       "      <th>3</th>\n",
       "      <td>We present BubbleProfiler, a C++ software pack...</td>\n",
       "      <td>NaN</td>\n",
       "      <td>1901.03714</td>\n",
       "      <td>[{'first': 'Peter', 'middle': [], 'last': 'Ath...</td>\n",
       "      <td>10.1016/j.cpc.2019.05.017</td>\n",
       "      <td>['github.com/bubbleprofiler/bubbleprofiler', '...</td>\n",
       "      <td>Computer Physics Communications</td>\n",
       "      <td>68153807</td>\n",
       "      <td>NaN</td>\n",
       "      <td>NaN</td>\n",
       "      <td>BubbleProfiler: finding the field profile and ...</td>\n",
       "      <td>Comput.Phys.Commun. 244 (2019) 448-468</td>\n",
       "      <td>2019.0</td>\n",
       "      <td>bubbleprofiler/bubbleprofiler</td>\n",
       "    </tr>\n",
       "    <tr>\n",
       "      <th>4</th>\n",
       "      <td>We present BubbleProfiler, a C++ software pack...</td>\n",
       "      <td>NaN</td>\n",
       "      <td>1901.03714</td>\n",
       "      <td>[{'first': 'Peter', 'middle': [], 'last': 'Ath...</td>\n",
       "      <td>10.1016/j.cpc.2019.05.017</td>\n",
       "      <td>['github.com/bubbleprofiler/bubbleprofiler', '...</td>\n",
       "      <td>Computer Physics Communications</td>\n",
       "      <td>68153807</td>\n",
       "      <td>NaN</td>\n",
       "      <td>NaN</td>\n",
       "      <td>BubbleProfiler: finding the field profile and ...</td>\n",
       "      <td>Comput.Phys.Commun. 244 (2019) 448-468</td>\n",
       "      <td>2019.0</td>\n",
       "      <td>bubbleprofiler/bubbleprofiler</td>\n",
       "    </tr>\n",
       "  </tbody>\n",
       "</table>\n",
       "</div>"
      ],
      "text/plain": [
       "                                            abstract acl_id    arxiv_id  \\\n",
       "0  PREMISE OF THE STUDY California's vascular flo...    NaN         NaN   \n",
       "1  Background: Reduced-representation sequencing ...    NaN         NaN   \n",
       "2  This thesis presents different methods of anal...    NaN         NaN   \n",
       "3  We present BubbleProfiler, a C++ software pack...    NaN  1901.03714   \n",
       "4  We present BubbleProfiler, a C++ software pack...    NaN  1901.03714   \n",
       "\n",
       "                                             authors  \\\n",
       "0  [{'first': 'Bruce', 'middle': ['G'], 'last': '...   \n",
       "1  [{'first': 'Jinpeng', 'middle': [], 'last': 'W...   \n",
       "2  [{'first': 'Nejc', 'middle': [], 'last': 'Šilc...   \n",
       "3  [{'first': 'Peter', 'middle': [], 'last': 'Ath...   \n",
       "4  [{'first': 'Peter', 'middle': [], 'last': 'Ath...   \n",
       "\n",
       "                          doi  \\\n",
       "0         10.3732/ajb.1600326   \n",
       "1  10.1016/j.ejbt.2016.02.003   \n",
       "2                         NaN   \n",
       "3   10.1016/j.cpc.2019.05.017   \n",
       "4   10.1016/j.cpc.2019.05.017   \n",
       "\n",
       "                                         github_refs  \\\n",
       "0                          ['github.com/OpenRefine']   \n",
       "1                        ['github.com/JINPENG-WANG']   \n",
       "2                        ['github.com/nejcsilc/lpa']   \n",
       "3  ['github.com/bubbleprofiler/bubbleprofiler', '...   \n",
       "4  ['github.com/bubbleprofiler/bubbleprofiler', '...   \n",
       "\n",
       "                               journal  paper_id pmc_id   pubmed_id  \\\n",
       "0           American journal of botany  43052386    NaN  28341628.0   \n",
       "1  Electronic Journal of Biotechnology  56063937    NaN         NaN   \n",
       "2                                  NaN  63301592    NaN         NaN   \n",
       "3      Computer Physics Communications  68153807    NaN         NaN   \n",
       "4      Computer Physics Communications  68153807    NaN         NaN   \n",
       "\n",
       "                                               title  \\\n",
       "0  Species richness and endemism in the native fl...   \n",
       "1  RestrictionDigest: A powerful Perl module for ...   \n",
       "2  Communication Protocols Analysis and Testing Tool   \n",
       "3  BubbleProfiler: finding the field profile and ...   \n",
       "4  BubbleProfiler: finding the field profile and ...   \n",
       "\n",
       "                                    venue    year  \\\n",
       "0              American journal of botany  2017.0   \n",
       "1     Electronic Journal of Biotechnology  2016.0   \n",
       "2                                     NaN  2016.0   \n",
       "3  Comput.Phys.Commun. 244 (2019) 448-468  2019.0   \n",
       "4  Comput.Phys.Commun. 244 (2019) 448-468  2019.0   \n",
       "\n",
       "                       full_name  \n",
       "0                            NaN  \n",
       "1                            NaN  \n",
       "2                   nejcsilc/lpa  \n",
       "3  bubbleprofiler/bubbleprofiler  \n",
       "4  bubbleprofiler/bubbleprofiler  "
      ]
     },
     "execution_count": 23,
     "metadata": {},
     "output_type": "execute_result"
    }
   ],
   "source": [
    "gorc_github_refs.head()"
   ]
  },
  {
   "cell_type": "code",
   "execution_count": 24,
   "metadata": {},
   "outputs": [],
   "source": [
    "results_with_gorc = results_with_repo.merge(gorc_github_refs,how=\"left\",on = \"full_name\")\n",
    "results_with_gorc[\"is_academic\"] = ~results_with_gorc[\"title\"].isnull()"
   ]
  },
  {
   "cell_type": "code",
   "execution_count": 139,
   "metadata": {},
   "outputs": [
    {
     "data": {
      "text/plain": [
       "584"
      ]
     },
     "execution_count": 139,
     "metadata": {},
     "output_type": "execute_result"
    }
   ],
   "source": [
    "results_with_repo.merge(gorc_github_refs,how=\"inner\",on = \"full_name\")[\"nb_id\"].nunique()"
   ]
  },
  {
   "cell_type": "code",
   "execution_count": 25,
   "metadata": {},
   "outputs": [
    {
     "data": {
      "image/png": "[encoded data removed]",
      "text/plain": [
       "<Figure size 429.375x360 with 1 Axes>"
      ]
     },
     "metadata": {
      "needs_background": "light"
     },
     "output_type": "display_data"
    }
   ],
   "source": [
    "g = sns.catplot(data = (results_with_gorc.groupby([\"is_academic\",\"nb_id\",\"readable_label\"])\n",
    "                        [\"n_lines\"].sum().reset_index())\n",
    "                , hue = \"is_academic\", y = \"n_lines\", x = \"readable_label\",kind = \"bar\")\n",
    "for ax in g.axes.flat:\n",
    "    ax.set_xticklabels(ax.get_xticklabels(),rotation = 70)\n",
    "    ax.set_xlabel(\"Stage\")\n",
    "    ax.set_ylabel(\"Average Number of Lines\")\n",
    "\n",
    "plt.suptitle(\"Average Number of Lines per Stage per Notebook\")\n",
    "plt.tight_layout()"
   ]
  },
  {
   "cell_type": "code",
   "execution_count": 26,
   "metadata": {},
   "outputs": [
    {
     "data": {
      "text/plain": [
       "is_academic\n",
       "False    117520\n",
       "True        584\n",
       "dtype: int64"
      ]
     },
     "execution_count": 26,
     "metadata": {},
     "output_type": "execute_result"
    }
   ],
   "source": [
    "results_with_gorc.drop_duplicates(\"nb_id\").groupby(\"is_academic\").size()"
   ]
  },
  {
   "cell_type": "code",
   "execution_count": 27,
   "metadata": {},
   "outputs": [
    {
     "data": {
      "text/plain": [
       "Text(0.5, 0.98, 'Average Number of Lines per Notebook')"
      ]
     },
     "execution_count": 27,
     "metadata": {},
     "output_type": "execute_result"
    },
    {
     "data": {
      "image/png": "[encoded data removed]",
      "text/plain": [
       "<Figure size 432x288 with 1 Axes>"
      ]
     },
     "metadata": {
      "needs_background": "light"
     },
     "output_type": "display_data"
    }
   ],
   "source": [
    "academic_nb_lengths = results_with_gorc.groupby([\"nb_id\",\"is_academic\"])[\"n_lines\"].sum().reset_index()\n",
    "sns.barplot(x = academic_nb_lengths[\"is_academic\"],\n",
    "            y = academic_nb_lengths[\"n_lines\"])\n",
    "\n",
    "#     ax.set_xticklabels(ax.get_xticklabels(),rotation = 70)\n",
    "#     ax.set_xlabel(\"Is Academic\")\n",
    "#     ax.set_ylabel(\"Total Number of Lines\")\n",
    "\n",
    "plt.suptitle(\"Average Number of Lines per Notebook\")\n",
    "# plt.tight_layout()"
   ]
  },
  {
   "cell_type": "code",
   "execution_count": 96,
   "metadata": {},
   "outputs": [
    {
     "data": {
      "image/png": "[encoded data removed]",
      "text/plain": [
       "<Figure size 429.375x360 with 1 Axes>"
      ]
     },
     "metadata": {
      "needs_background": "light"
     },
     "output_type": "display_data"
    }
   ],
   "source": [
    "g = sns.catplot(data = (results_with_gorc.groupby([\"is_academic\",\"nb_id\",\"readable_label\"])\n",
    "                        [\"n_lines\"].sum().reset_index())\n",
    "                , hue = \"is_academic\", y = \"n_lines\", x = \"readable_label\",kind = \"bar\")\n",
    "for ax in g.axes.flat:\n",
    "    ax.set_xticklabels(ax.get_xticklabels(),rotation = 40)\n",
    "    ax.set_xlabel(\"Stage\")\n",
    "    ax.set_ylabel(\"Average Number of Lines\")\n",
    "\n",
    "plt.suptitle(\"Average Number of Lines \\nper Stage per Notebook\")\n",
    "plt.tight_layout()"
   ]
  },
  {
   "cell_type": "code",
   "execution_count": 29,
   "metadata": {},
   "outputs": [
    {
     "data": {
      "text/plain": [
       "is_academic\n",
       "False    117520\n",
       "True        584\n",
       "Name: nb_id, dtype: int64"
      ]
     },
     "execution_count": 29,
     "metadata": {},
     "output_type": "execute_result"
    }
   ],
   "source": [
    "results_with_gorc.groupby([\"is_academic\"])[\"nb_id\"].nunique()"
   ]
  },
  {
   "cell_type": "markdown",
   "metadata": {},
   "source": [
    "# Number of stars:"
   ]
  },
  {
   "cell_type": "code",
   "execution_count": 30,
   "metadata": {},
   "outputs": [
    {
     "data": {
      "text/plain": [
       "count    2.008708e+06\n",
       "mean     1.888661e+01\n",
       "std      5.403466e+02\n",
       "min      0.000000e+00\n",
       "25%      0.000000e+00\n",
       "50%      0.000000e+00\n",
       "75%      0.000000e+00\n",
       "max      6.453800e+04\n",
       "Name: stargazers_count, dtype: float64"
      ]
     },
     "execution_count": 30,
     "metadata": {},
     "output_type": "execute_result"
    }
   ],
   "source": [
    "results_with_gorc[\"stargazers_count\"].describe()"
   ]
  },
  {
   "cell_type": "code",
   "execution_count": 31,
   "metadata": {},
   "outputs": [
    {
     "data": {
      "text/plain": [
       "count    17539.000000\n",
       "mean      1526.620446\n",
       "std       5442.529066\n",
       "min          0.000000\n",
       "25%          1.000000\n",
       "50%         14.000000\n",
       "75%       1531.000000\n",
       "max      64538.000000\n",
       "Name: stargazers_count, dtype: float64"
      ]
     },
     "execution_count": 31,
     "metadata": {},
     "output_type": "execute_result"
    }
   ],
   "source": [
    "results_with_gorc[results_with_gorc[\"is_academic\"]][\"stargazers_count\"].describe()"
   ]
  },
  {
   "cell_type": "code",
   "execution_count": 32,
   "metadata": {},
   "outputs": [
    {
     "data": {
      "text/plain": [
       "Text(0.5, 1, 'Median Number of Stars')"
      ]
     },
     "execution_count": 32,
     "metadata": {},
     "output_type": "execute_result"
    },
    {
     "data": {
      "image/png": "[encoded data removed]",
      "text/plain": [
       "<Figure size 360x360 with 1 Axes>"
      ]
     },
     "metadata": {
      "needs_background": "light"
     },
     "output_type": "display_data"
    }
   ],
   "source": [
    "g = sns.catplot(data = (results_with_gorc.drop_duplicates(\"nb_id\")),\n",
    "                 x = \"is_academic\", y = \"stargazers_count\",kind = \"bar\",\n",
    "               estimator = np.median)\n",
    "plt.title(\"Median Number of Stars\")"
   ]
  },
  {
   "cell_type": "code",
   "execution_count": 33,
   "metadata": {},
   "outputs": [
    {
     "data": {
      "text/plain": [
       "<matplotlib.axes._subplots.AxesSubplot at 0x7fe2e603b390>"
      ]
     },
     "execution_count": 33,
     "metadata": {},
     "output_type": "execute_result"
    },
    {
     "data": {
      "image/png": "[encoded data removed]",
      "text/plain": [
       "<Figure size 432x288 with 1 Axes>"
      ]
     },
     "metadata": {
      "needs_background": "light"
     },
     "output_type": "display_data"
    }
   ],
   "source": [
    "# category_entropy = \n",
    "nb_entropy = (results_with_gorc\n",
    "                  .groupby([\"nb_id\",\"readable_label\"])[\"n_lines\"]\n",
    "                  .sum()\n",
    "                  .groupby(\"nb_id\")\n",
    "                  .apply(scipy.stats.entropy)\n",
    "                  .rename(\"label_entropy\"))\n",
    "\n",
    "sns.distplot(nb_entropy)"
   ]
  },
  {
   "cell_type": "code",
   "execution_count": 34,
   "metadata": {},
   "outputs": [
    {
     "data": {
      "text/plain": [
       "<seaborn.axisgrid.JointGrid at 0x7fe2e5e04240>"
      ]
     },
     "execution_count": 34,
     "metadata": {},
     "output_type": "execute_result"
    },
    {
     "data": {
      "image/png": "[encoded data removed]",
      "text/plain": [
       "<Figure size 432x432 with 3 Axes>"
      ]
     },
     "metadata": {
      "needs_background": "light"
     },
     "output_type": "display_data"
    }
   ],
   "source": [
    "entropy_and_stars = (results_with_gorc[[\"nb_id\",\"is_academic\",\"stargazers_count\",\"subscribers_count\"]]\n",
    "                     .merge(nb_entropy.reset_index())\n",
    "                     .drop_duplicates())\n",
    "entropy_and_stars[\"log_stars\"] = np.log(entropy_and_stars[\"stargazers_count\"] + 1)\n",
    "entropy_and_stars[\"log_subscribers\"] = np.log(entropy_and_stars[\"subscribers_count\"] + 1) \n",
    "sns.jointplot(data = entropy_and_stars,x =\"label_entropy\", y = \"log_subscribers\", kind = \"reg\")\n"
   ]
  },
  {
   "cell_type": "code",
   "execution_count": 35,
   "metadata": {},
   "outputs": [
    {
     "data": {
      "text/plain": [
       "(-0.02917035281227622, 1.1623709178449252e-23)"
      ]
     },
     "execution_count": 35,
     "metadata": {},
     "output_type": "execute_result"
    }
   ],
   "source": [
    "scipy.stats.pearsonr(entropy_and_stars[\"log_subscribers\"],entropy_and_stars[\"label_entropy\"])"
   ]
  },
  {
   "cell_type": "code",
   "execution_count": 36,
   "metadata": {},
   "outputs": [
    {
     "data": {
      "text/plain": [
       "SpearmanrResult(correlation=-0.021296772815394514, pvalue=2.4860470739169586e-13)"
      ]
     },
     "execution_count": 36,
     "metadata": {},
     "output_type": "execute_result"
    }
   ],
   "source": [
    "scipy.stats.spearmanr(entropy_and_stars[\"subscribers_count\"],entropy_and_stars[\"label_entropy\"])"
   ]
  },
  {
   "cell_type": "markdown",
   "metadata": {},
   "source": [
    "Weak, but significant, non-linear relationship in the direction we wouldn't ordinarily expect to see. Worth noting we don't see a similar relationship with stargazers\n",
    "\n",
    "This is probably caused by having an incomplete record of notebooks. Fewer cells per notebook = artificially low entropy"
   ]
  },
  {
   "cell_type": "code",
   "execution_count": 37,
   "metadata": {},
   "outputs": [
    {
     "data": {
      "text/plain": [
       "(-0.0026238957273967706, 0.36720195852878484)"
      ]
     },
     "execution_count": 37,
     "metadata": {},
     "output_type": "execute_result"
    }
   ],
   "source": [
    "scipy.stats.pearsonr(entropy_and_stars[\"stargazers_count\"],entropy_and_stars[\"label_entropy\"])"
   ]
  },
  {
   "cell_type": "code",
   "execution_count": 38,
   "metadata": {},
   "outputs": [],
   "source": [
    "from collections import defaultdict\n",
    "\n",
    "def frequent_rec(patt, mdb):\n",
    "    results.append((len(mdb), patt))\n",
    "\n",
    "    occurs = defaultdict(list)\n",
    "    for (i, startpos) in mdb:\n",
    "        seq = db[i]\n",
    "        for j in range(startpos + 1, len(seq)):\n",
    "            l = occurs[seq[j]]\n",
    "            if len(l) == 0 or l[-1][0] != i:\n",
    "                l.append((i, j))\n",
    "\n",
    "    for (c, newmdb) in occurs.items():\n",
    "        if len(newmdb) >= minsup:\n",
    "            frequent_rec(patt + [c], newmdb)\n"
   ]
  },
  {
   "cell_type": "code",
   "execution_count": 39,
   "metadata": {},
   "outputs": [
    {
     "data": {
      "text/html": [
       "<div>\n",
       "<style scoped>\n",
       "    .dataframe tbody tr th:only-of-type {\n",
       "        vertical-align: middle;\n",
       "    }\n",
       "\n",
       "    .dataframe tbody tr th {\n",
       "        vertical-align: top;\n",
       "    }\n",
       "\n",
       "    .dataframe thead th {\n",
       "        text-align: right;\n",
       "    }\n",
       "</style>\n",
       "<table border=\"1\" class=\"dataframe\">\n",
       "  <thead>\n",
       "    <tr style=\"text-align: right;\">\n",
       "      <th></th>\n",
       "      <th>nb_id</th>\n",
       "      <th>stargazers_count</th>\n",
       "      <th>subscribers_count</th>\n",
       "      <th>label_entropy</th>\n",
       "      <th>log_stars</th>\n",
       "      <th>log_subscribers</th>\n",
       "    </tr>\n",
       "  </thead>\n",
       "  <tbody>\n",
       "    <tr>\n",
       "      <th>count</th>\n",
       "      <td>118104.000000</td>\n",
       "      <td>118104.000000</td>\n",
       "      <td>118104.000000</td>\n",
       "      <td>118104.000000</td>\n",
       "      <td>118104.000000</td>\n",
       "      <td>118104.000000</td>\n",
       "    </tr>\n",
       "    <tr>\n",
       "      <th>mean</th>\n",
       "      <td>505979.637108</td>\n",
       "      <td>8.914050</td>\n",
       "      <td>2.672492</td>\n",
       "      <td>1.017311</td>\n",
       "      <td>0.343127</td>\n",
       "      <td>0.831948</td>\n",
       "    </tr>\n",
       "    <tr>\n",
       "      <th>std</th>\n",
       "      <td>287111.210331</td>\n",
       "      <td>248.548931</td>\n",
       "      <td>22.866941</td>\n",
       "      <td>0.404421</td>\n",
       "      <td>0.869608</td>\n",
       "      <td>0.643321</td>\n",
       "    </tr>\n",
       "    <tr>\n",
       "      <th>min</th>\n",
       "      <td>585.000000</td>\n",
       "      <td>0.000000</td>\n",
       "      <td>0.000000</td>\n",
       "      <td>0.000000</td>\n",
       "      <td>0.000000</td>\n",
       "      <td>0.000000</td>\n",
       "    </tr>\n",
       "    <tr>\n",
       "      <th>25%</th>\n",
       "      <td>259016.500000</td>\n",
       "      <td>0.000000</td>\n",
       "      <td>1.000000</td>\n",
       "      <td>0.814595</td>\n",
       "      <td>0.000000</td>\n",
       "      <td>0.693147</td>\n",
       "    </tr>\n",
       "    <tr>\n",
       "      <th>50%</th>\n",
       "      <td>509693.500000</td>\n",
       "      <td>0.000000</td>\n",
       "      <td>1.000000</td>\n",
       "      <td>1.103433</td>\n",
       "      <td>0.000000</td>\n",
       "      <td>0.693147</td>\n",
       "    </tr>\n",
       "    <tr>\n",
       "      <th>75%</th>\n",
       "      <td>752418.000000</td>\n",
       "      <td>0.000000</td>\n",
       "      <td>1.000000</td>\n",
       "      <td>1.318593</td>\n",
       "      <td>0.000000</td>\n",
       "      <td>0.693147</td>\n",
       "    </tr>\n",
       "    <tr>\n",
       "      <th>max</th>\n",
       "      <td>999981.000000</td>\n",
       "      <td>64538.000000</td>\n",
       "      <td>5732.000000</td>\n",
       "      <td>1.606137</td>\n",
       "      <td>11.075025</td>\n",
       "      <td>8.653994</td>\n",
       "    </tr>\n",
       "  </tbody>\n",
       "</table>\n",
       "</div>"
      ],
      "text/plain": [
       "               nb_id  stargazers_count  subscribers_count  label_entropy  \\\n",
       "count  118104.000000     118104.000000      118104.000000  118104.000000   \n",
       "mean   505979.637108          8.914050           2.672492       1.017311   \n",
       "std    287111.210331        248.548931          22.866941       0.404421   \n",
       "min       585.000000          0.000000           0.000000       0.000000   \n",
       "25%    259016.500000          0.000000           1.000000       0.814595   \n",
       "50%    509693.500000          0.000000           1.000000       1.103433   \n",
       "75%    752418.000000          0.000000           1.000000       1.318593   \n",
       "max    999981.000000      64538.000000        5732.000000       1.606137   \n",
       "\n",
       "           log_stars  log_subscribers  \n",
       "count  118104.000000    118104.000000  \n",
       "mean        0.343127         0.831948  \n",
       "std         0.869608         0.643321  \n",
       "min         0.000000         0.000000  \n",
       "25%         0.000000         0.693147  \n",
       "50%         0.000000         0.693147  \n",
       "75%         0.000000         0.693147  \n",
       "max        11.075025         8.653994  "
      ]
     },
     "execution_count": 39,
     "metadata": {},
     "output_type": "execute_result"
    }
   ],
   "source": [
    "entropy_and_stars.describe()"
   ]
  },
  {
   "cell_type": "code",
   "execution_count": 40,
   "metadata": {},
   "outputs": [
    {
     "data": {
      "text/plain": [
       "count    118104.000000\n",
       "mean         17.007959\n",
       "std          19.828250\n",
       "min           1.000000\n",
       "25%           5.000000\n",
       "50%          11.000000\n",
       "75%          21.000000\n",
       "max         413.000000\n",
       "dtype: float64"
      ]
     },
     "execution_count": 40,
     "metadata": {},
     "output_type": "execute_result"
    }
   ],
   "source": [
    "results_with_gorc.groupby([\"nb_id\"]).size().describe()"
   ]
  },
  {
   "cell_type": "code",
   "execution_count": 41,
   "metadata": {},
   "outputs": [
    {
     "data": {
      "text/plain": [
       "count    118104.000000\n",
       "mean         91.241965\n",
       "std          85.669508\n",
       "min           2.000000\n",
       "25%          40.000000\n",
       "50%          69.000000\n",
       "75%         116.000000\n",
       "max        4032.000000\n",
       "Name: n_lines, dtype: float64"
      ]
     },
     "execution_count": 41,
     "metadata": {},
     "output_type": "execute_result"
    }
   ],
   "source": [
    "results_with_gorc.groupby([\"nb_id\"])[\"n_lines\"].sum().describe()"
   ]
  },
  {
   "cell_type": "code",
   "execution_count": 42,
   "metadata": {},
   "outputs": [
    {
     "data": {
      "text/plain": [
       "count    427373.000000\n",
       "mean         25.214604\n",
       "std          29.538667\n",
       "min           2.000000\n",
       "25%           8.000000\n",
       "50%          17.000000\n",
       "75%          32.000000\n",
       "max        2142.000000\n",
       "Name: n_lines, dtype: float64"
      ]
     },
     "execution_count": 42,
     "metadata": {},
     "output_type": "execute_result"
    }
   ],
   "source": [
    "(results_with_gorc\n",
    "                  .groupby([\"nb_id\",\"readable_label\"])[\"n_lines\"]\n",
    "                  .sum().describe())"
   ]
  },
  {
   "cell_type": "markdown",
   "metadata": {},
   "source": [
    "Why so many imports in academic notebooks?"
   ]
  },
  {
   "cell_type": "markdown",
   "metadata": {},
   "source": [
    "# Gorc Metadata\n",
    "Let's see what's in the GORC metadata\n",
    "\n",
    "What's up with the onces without `mag_fos`? Or no `inbound_citations?`\n",
    "\n",
    "Had to skips some lines because the file wouldn't parse otherwise"
   ]
  },
  {
   "cell_type": "code",
   "execution_count": 43,
   "metadata": {},
   "outputs": [
    {
     "name": "stderr",
     "output_type": "stream",
     "text": [
      "/homes/gws/mikeam/anaconda3/envs/analysis/lib/python3.7/site-packages/IPython/core/interactiveshell.py:3057: DtypeWarning: Columns (5) have mixed types. Specify dtype option on import or set low_memory=False.\n",
      "  interactivity=interactivity, compiler=compiler, result=result)\n"
     ]
    }
   ],
   "source": [
    "#pd.eval\n",
    "gorc_metadata = pd.read_csv(\"/projects/bdata/gorc/gorc_metadata.tsv\", sep = \"\\t\", error_bad_lines= False,\n",
    "                           usecols = [\"pid\",\"mag_fos\",\"inbound_citations\",\"year\"])"
   ]
  },
  {
   "cell_type": "markdown",
   "metadata": {},
   "source": [
    "# Number of citations "
   ]
  },
  {
   "cell_type": "code",
   "execution_count": 44,
   "metadata": {},
   "outputs": [],
   "source": [
    "def n_inbound_citations(x):\n",
    "    try:\n",
    "        citations =  ast.literal_eval(x)\n",
    "        return len(citations)\n",
    "    except ValueError:\n",
    "        return np.nan\n",
    "    \n",
    "gorc_metadata[\"n_inbound_citations\"] = gorc_metadata[\"inbound_citations\"].map(n_inbound_citations)"
   ]
  },
  {
   "cell_type": "code",
   "execution_count": 45,
   "metadata": {},
   "outputs": [],
   "source": [
    "def n_inbound_citations(x):\n",
    "    try:\n",
    "        citations =  ast.literal_eval(x)\n",
    "        return len(citations)\n",
    "    except ValueError:\n",
    "        return np.nan\n",
    "    \n",
    "\n",
    "def get_domains(x):\n",
    "    try:\n",
    "        parsed_list = ast.literal_eval(x)\n",
    "        if len(parsed_list) < 1:\n",
    "            return np.nan\n",
    "        return parsed_list\n",
    "    except (ValueError,TypeError):\n",
    "        return np.nan\n",
    "\n",
    "gorc_metadata[\"n_inbound_citations\"] = gorc_metadata[\"inbound_citations\"].map(n_inbound_citations)\n",
    "gorc_metadata[\"mag_fos\"] = gorc_metadata[\"mag_fos\"].map(get_domains)"
   ]
  },
  {
   "cell_type": "code",
   "execution_count": 46,
   "metadata": {},
   "outputs": [],
   "source": [
    "gorc_metadata_with_notebooks = gorc_metadata.merge(results_with_gorc, left_on = \"pid\", right_on = \"paper_id\",\n",
    "                                                   how = \"left\")\n",
    "\n",
    "gorc_metadata_with_notebooks[\"has_notebook\"] = ~gorc_metadata_with_notebooks[\"nb_id\"].isnull()\n",
    "gorc_domains = gorc_metadata_with_notebooks.dropna(subset = [\"mag_fos\"]).explode(\"mag_fos\")\n",
    "gorc_domains = gorc_domains.drop_duplicates([\"pid\",\"has_notebook\",\"mag_fos\"])"
   ]
  },
  {
   "cell_type": "markdown",
   "metadata": {},
   "source": [
    "Note that some papers are listed in multiple domains:"
   ]
  },
  {
   "cell_type": "code",
   "execution_count": 47,
   "metadata": {},
   "outputs": [
    {
     "data": {
      "text/plain": [
       "count    1.462432e+07\n",
       "mean     1.014064e+00\n",
       "std      1.713778e-01\n",
       "min      1.000000e+00\n",
       "25%      1.000000e+00\n",
       "50%      1.000000e+00\n",
       "75%      1.000000e+00\n",
       "max      1.870000e+02\n",
       "dtype: float64"
      ]
     },
     "execution_count": 47,
     "metadata": {},
     "output_type": "execute_result"
    }
   ],
   "source": [
    "gorc_domains.drop_duplicates([\"pid\",\"has_notebook\",\"mag_fos\"]).groupby([\"pid\"]).size().describe()"
   ]
  },
  {
   "cell_type": "markdown",
   "metadata": {},
   "source": [
    "We want to limit ourselves to the top-n domains:"
   ]
  },
  {
   "cell_type": "code",
   "execution_count": 48,
   "metadata": {},
   "outputs": [],
   "source": [
    "n_domains = 10\n",
    "gorc_domains_per_paper = gorc_domains.drop_duplicates([\"pid\",\"mag_fos\"])\n",
    "top_n_domains = gorc_domains_per_paper.groupby(\"mag_fos\").size().sort_values(ascending = False)[:n_domains].index\n",
    "\n",
    "papers_in_top_n_domains = gorc_domains_per_paper[gorc_domains_per_paper[\"mag_fos\"].isin(top_n_domains)]"
   ]
  },
  {
   "cell_type": "code",
   "execution_count": 49,
   "metadata": {},
   "outputs": [
    {
     "name": "stdout",
     "output_type": "stream",
     "text": [
      "                             OLS Regression Results                            \n",
      "===============================================================================\n",
      "Dep. Variable:     n_inbound_citations   R-squared:                       0.008\n",
      "Model:                             OLS   Adj. R-squared:                  0.008\n",
      "Method:                  Least Squares   F-statistic:                 1.067e+04\n",
      "Date:                 Wed, 22 Jan 2020   Prob (F-statistic):               0.00\n",
      "Time:                         14:43:10   Log-Likelihood:            -7.0702e+07\n",
      "No. Observations:             13708391   AIC:                         1.414e+08\n",
      "Df Residuals:                 13708379   BIC:                         1.414e+08\n",
      "Df Model:                           11                                         \n",
      "Covariance Type:             nonrobust                                         \n",
      "=====================================================================================\n",
      "                        coef    std err          t      P>|t|      [0.025      0.975]\n",
      "-------------------------------------------------------------------------------------\n",
      "has_notebook          2.5054      2.469      1.015      0.310      -2.333       7.344\n",
      "year_x               -0.0367      0.000    -87.740      0.000      -0.037      -0.036\n",
      "Biology              88.5933      0.839    105.553      0.000      86.948      90.238\n",
      "Business             76.9970      0.844     91.235      0.000      75.343      78.651\n",
      "Chemistry            79.7585      0.840     94.963      0.000      78.112      81.405\n",
      "Computer Science     80.8228      0.840     96.161      0.000      79.176      82.470\n",
      "Economics            81.3484      0.842     96.658      0.000      79.699      82.998\n",
      "Engineering          77.6625      0.841     92.355      0.000      76.014      79.311\n",
      "Materials Science    76.7215      0.842     91.149      0.000      75.072      78.371\n",
      "Mathematics          81.4637      0.840     97.025      0.000      79.818      83.109\n",
      "Medicine             82.4646      0.840     98.137      0.000      80.818      84.112\n",
      "Physics              77.8659      0.839     92.769      0.000      76.221      79.511\n",
      "================================================================================\n",
      "Omnibus:                 61980411.089   Durbin-Watson:                     1.905\n",
      "Prob(Omnibus):                  0.000   Jarque-Bera (JB):   1927450276931166.500\n",
      "Skew:                         151.802   Prob(JB):                           0.00\n",
      "Kurtosis:                   58092.554   Cond. No.                       4.70e+05\n",
      "================================================================================\n",
      "\n",
      "Warnings:\n",
      "[1] Standard Errors assume that the covariance matrix of the errors is correctly specified.\n",
      "[2] The condition number is large, 4.7e+05. This might indicate that there are\n",
      "strong multicollinearity or other numerical problems.\n"
     ]
    },
    {
     "data": {
      "text/plain": [
       "<statsmodels.regression.linear_model.RegressionResultsWrapper at 0x7fe2da40b4a8>"
      ]
     },
     "execution_count": 49,
     "metadata": {},
     "output_type": "execute_result"
    }
   ],
   "source": [
    "#Add an intercept\n",
    "one_hot_domains = pd.get_dummies(papers_in_top_n_domains[\"mag_fos\"])\n",
    "to_ols = pd.concat([papers_in_top_n_domains[[\"n_inbound_citations\",\"has_notebook\",\"year_x\"]],one_hot_domains],\n",
    "                  axis = 1).dropna()\n",
    "to_ols[\"has_notebook\"] = to_ols[\"has_notebook\"].astype(int)\n",
    "to_ols[\"year_x\"] = to_ols[\"year_x\"].astype(int)\n",
    "\n",
    "def get_ols_fit(y,X):\n",
    "    model = sm.OLS(y, X)\n",
    "    results = model.fit()\n",
    "    print(results.summary())\n",
    "    return results\n",
    "\n",
    "get_ols_fit(to_ols[\"n_inbound_citations\"],to_ols.iloc[:,1:])"
   ]
  },
  {
   "cell_type": "code",
   "execution_count": 50,
   "metadata": {},
   "outputs": [
    {
     "data": {
      "text/plain": [
       "17495"
      ]
     },
     "execution_count": 50,
     "metadata": {},
     "output_type": "execute_result"
    }
   ],
   "source": [
    "gorc_metadata_with_notebooks[\"has_notebook\"].sum()"
   ]
  },
  {
   "cell_type": "markdown",
   "metadata": {},
   "source": [
    "# Mining Sequences"
   ]
  },
  {
   "cell_type": "code",
   "execution_count": 51,
   "metadata": {},
   "outputs": [],
   "source": [
    "import skopus"
   ]
  },
  {
   "cell_type": "code",
   "execution_count": 52,
   "metadata": {},
   "outputs": [],
   "source": [
    "readable_sequences = results.sort_values([\"nb_id\",\"code_line_no\"]).groupby([\"nb_id\"])[\"readable_label\"].apply(list)\n",
    "skpous_command = skopus.skopus(readable_sequences.to_list(), k =10, l = 5)\n",
    "#Can't get subprocess module to run, so I have to use this instead:"
   ]
  },
  {
   "cell_type": "code",
   "execution_count": 53,
   "metadata": {},
   "outputs": [
    {
     "name": "stdout",
     "output_type": "stream",
     "text": [
      "bootstrap 3\n",
      "Finished bootstrap depth 2\n",
      "finished bootstrap 3\n",
      "Bootstrap done\n",
      "Content topK Total K Itemset Number: \t10\n",
      "<IMPORT, EXPLORE>\t\tSupport=60906\tInterestingness=12471.5\n",
      "<IMPORT, MODEL>\t\tSupport=61302\tInterestingness=12419.0\n",
      "<IMPORT, EVALUATE>\t\tSupport=40198\tInterestingness=10968.5\n",
      "<IMPORT, MODEL, MODEL>\t\tSupport=48637\tInterestingness=9381.5\n",
      "<IMPORT, WRANGLE>\t\tSupport=59901\tInterestingness=9336.0\n",
      "<IMPORT, EXPLORE, EXPLORE>\t\tSupport=48249\tInterestingness=9278.0\n",
      "<IMPORT, EVALUATE, EVALUATE>\t\tSupport=24736\tInterestingness=6569.0\n",
      "<IMPORT, WRANGLE, WRANGLE>\t\tSupport=44587\tInterestingness=6442.5\n",
      "<IMPORT, MODEL, EXPLORE>\t\tSupport=46638\tInterestingness=6271.0\n",
      "<IMPORT, WRANGLE, EXPLORE>\t\tSupport=46453\tInterestingness=5520.0\n",
      "\n",
      "\n",
      "Execution time= 1292262 ms\n",
      "OK\n"
     ]
    }
   ],
   "source": [
    "! $skpous_command"
   ]
  },
  {
   "cell_type": "code",
   "execution_count": 54,
   "metadata": {},
   "outputs": [
    {
     "data": {
      "text/plain": [
       "'java -Xmx1G -classpath /homes/gws/mikeam/RobustDS/skopus skopus.InterestingnessMeasureMain /homes/gws/mikeam/RobustDS/skopus/tmp_x_in /homes/gws/mikeam/RobustDS/skopus/tmp_label_out -i2 -m1 -k10 -l5'"
      ]
     },
     "execution_count": 54,
     "metadata": {},
     "output_type": "execute_result"
    }
   ],
   "source": [
    "skpous_command"
   ]
  },
  {
   "cell_type": "markdown",
   "metadata": {},
   "source": [
    "## Data / Features that we need:\n",
    "* Notebooks/Repo relationship\n",
    "* Total length of each notebook?\n",
    "* How much should we worry about partial notebooks?\n",
    "    * Probably a lot if we want to extend our unit of analysis outside of individual cells"
   ]
  },
  {
   "cell_type": "code",
   "execution_count": 55,
   "metadata": {},
   "outputs": [],
   "source": [
    "!test -f /projects/bdata/jupyter/target/nb_589.py "
   ]
  },
  {
   "cell_type": "code",
   "execution_count": 56,
   "metadata": {},
   "outputs": [
    {
     "name": "stdout",
     "output_type": "stream",
     "text": [
      "hey\n"
     ]
    }
   ],
   "source": [
    "print(\"hey\")"
   ]
  },
  {
   "cell_type": "code",
   "execution_count": 57,
   "metadata": {},
   "outputs": [
    {
     "ename": "KeyError",
     "evalue": "'has_notebook'",
     "output_type": "error",
     "traceback": [
      "\u001b[0;31m---------------------------------------------------------------------------\u001b[0m",
      "\u001b[0;31mKeyError\u001b[0m                                  Traceback (most recent call last)",
      "\u001b[0;32m<ipython-input-57-13ad31ac356d>\u001b[0m in \u001b[0;36m<module>\u001b[0;34m\u001b[0m\n\u001b[0;32m----> 1\u001b[0;31m \u001b[0mgorc_metadata\u001b[0m\u001b[0;34m.\u001b[0m\u001b[0mgroupby\u001b[0m\u001b[0;34m(\u001b[0m\u001b[0;34m\"has_notebook\"\u001b[0m\u001b[0;34m)\u001b[0m\u001b[0;34m[\u001b[0m\u001b[0;34m\"n_inbound_citations\"\u001b[0m\u001b[0;34m]\u001b[0m\u001b[0;34m.\u001b[0m\u001b[0mcount\u001b[0m\u001b[0;34m(\u001b[0m\u001b[0;34m)\u001b[0m\u001b[0;34m\u001b[0m\u001b[0;34m\u001b[0m\u001b[0m\n\u001b[0m",
      "\u001b[0;32m~/anaconda3/envs/analysis/lib/python3.7/site-packages/pandas/core/generic.py\u001b[0m in \u001b[0;36mgroupby\u001b[0;34m(self, by, axis, level, as_index, sort, group_keys, squeeze, observed, **kwargs)\u001b[0m\n\u001b[1;32m   7892\u001b[0m             \u001b[0msqueeze\u001b[0m\u001b[0;34m=\u001b[0m\u001b[0msqueeze\u001b[0m\u001b[0;34m,\u001b[0m\u001b[0;34m\u001b[0m\u001b[0;34m\u001b[0m\u001b[0m\n\u001b[1;32m   7893\u001b[0m             \u001b[0mobserved\u001b[0m\u001b[0;34m=\u001b[0m\u001b[0mobserved\u001b[0m\u001b[0;34m,\u001b[0m\u001b[0;34m\u001b[0m\u001b[0;34m\u001b[0m\u001b[0m\n\u001b[0;32m-> 7894\u001b[0;31m             \u001b[0;34m**\u001b[0m\u001b[0mkwargs\u001b[0m\u001b[0;34m\u001b[0m\u001b[0;34m\u001b[0m\u001b[0m\n\u001b[0m\u001b[1;32m   7895\u001b[0m         )\n\u001b[1;32m   7896\u001b[0m \u001b[0;34m\u001b[0m\u001b[0m\n",
      "\u001b[0;32m~/anaconda3/envs/analysis/lib/python3.7/site-packages/pandas/core/groupby/groupby.py\u001b[0m in \u001b[0;36mgroupby\u001b[0;34m(obj, by, **kwds)\u001b[0m\n\u001b[1;32m   2520\u001b[0m         \u001b[0;32mraise\u001b[0m \u001b[0mTypeError\u001b[0m\u001b[0;34m(\u001b[0m\u001b[0;34m\"invalid type: {}\"\u001b[0m\u001b[0;34m.\u001b[0m\u001b[0mformat\u001b[0m\u001b[0;34m(\u001b[0m\u001b[0mobj\u001b[0m\u001b[0;34m)\u001b[0m\u001b[0;34m)\u001b[0m\u001b[0;34m\u001b[0m\u001b[0;34m\u001b[0m\u001b[0m\n\u001b[1;32m   2521\u001b[0m \u001b[0;34m\u001b[0m\u001b[0m\n\u001b[0;32m-> 2522\u001b[0;31m     \u001b[0;32mreturn\u001b[0m \u001b[0mklass\u001b[0m\u001b[0;34m(\u001b[0m\u001b[0mobj\u001b[0m\u001b[0;34m,\u001b[0m \u001b[0mby\u001b[0m\u001b[0;34m,\u001b[0m \u001b[0;34m**\u001b[0m\u001b[0mkwds\u001b[0m\u001b[0;34m)\u001b[0m\u001b[0;34m\u001b[0m\u001b[0;34m\u001b[0m\u001b[0m\n\u001b[0m",
      "\u001b[0;32m~/anaconda3/envs/analysis/lib/python3.7/site-packages/pandas/core/groupby/groupby.py\u001b[0m in \u001b[0;36m__init__\u001b[0;34m(self, obj, keys, axis, level, grouper, exclusions, selection, as_index, sort, group_keys, squeeze, observed, **kwargs)\u001b[0m\n\u001b[1;32m    389\u001b[0m                 \u001b[0msort\u001b[0m\u001b[0;34m=\u001b[0m\u001b[0msort\u001b[0m\u001b[0;34m,\u001b[0m\u001b[0;34m\u001b[0m\u001b[0;34m\u001b[0m\u001b[0m\n\u001b[1;32m    390\u001b[0m                 \u001b[0mobserved\u001b[0m\u001b[0;34m=\u001b[0m\u001b[0mobserved\u001b[0m\u001b[0;34m,\u001b[0m\u001b[0;34m\u001b[0m\u001b[0;34m\u001b[0m\u001b[0m\n\u001b[0;32m--> 391\u001b[0;31m                 \u001b[0mmutated\u001b[0m\u001b[0;34m=\u001b[0m\u001b[0mself\u001b[0m\u001b[0;34m.\u001b[0m\u001b[0mmutated\u001b[0m\u001b[0;34m,\u001b[0m\u001b[0;34m\u001b[0m\u001b[0;34m\u001b[0m\u001b[0m\n\u001b[0m\u001b[1;32m    392\u001b[0m             )\n\u001b[1;32m    393\u001b[0m \u001b[0;34m\u001b[0m\u001b[0m\n",
      "\u001b[0;32m~/anaconda3/envs/analysis/lib/python3.7/site-packages/pandas/core/groupby/grouper.py\u001b[0m in \u001b[0;36m_get_grouper\u001b[0;34m(obj, key, axis, level, sort, observed, mutated, validate)\u001b[0m\n\u001b[1;32m    619\u001b[0m                 \u001b[0min_axis\u001b[0m\u001b[0;34m,\u001b[0m \u001b[0mname\u001b[0m\u001b[0;34m,\u001b[0m \u001b[0mlevel\u001b[0m\u001b[0;34m,\u001b[0m \u001b[0mgpr\u001b[0m \u001b[0;34m=\u001b[0m \u001b[0;32mFalse\u001b[0m\u001b[0;34m,\u001b[0m \u001b[0;32mNone\u001b[0m\u001b[0;34m,\u001b[0m \u001b[0mgpr\u001b[0m\u001b[0;34m,\u001b[0m \u001b[0;32mNone\u001b[0m\u001b[0;34m\u001b[0m\u001b[0;34m\u001b[0m\u001b[0m\n\u001b[1;32m    620\u001b[0m             \u001b[0;32melse\u001b[0m\u001b[0;34m:\u001b[0m\u001b[0;34m\u001b[0m\u001b[0;34m\u001b[0m\u001b[0m\n\u001b[0;32m--> 621\u001b[0;31m                 \u001b[0;32mraise\u001b[0m \u001b[0mKeyError\u001b[0m\u001b[0;34m(\u001b[0m\u001b[0mgpr\u001b[0m\u001b[0;34m)\u001b[0m\u001b[0;34m\u001b[0m\u001b[0;34m\u001b[0m\u001b[0m\n\u001b[0m\u001b[1;32m    622\u001b[0m         \u001b[0;32melif\u001b[0m \u001b[0misinstance\u001b[0m\u001b[0;34m(\u001b[0m\u001b[0mgpr\u001b[0m\u001b[0;34m,\u001b[0m \u001b[0mGrouper\u001b[0m\u001b[0;34m)\u001b[0m \u001b[0;32mand\u001b[0m \u001b[0mgpr\u001b[0m\u001b[0;34m.\u001b[0m\u001b[0mkey\u001b[0m \u001b[0;32mis\u001b[0m \u001b[0;32mnot\u001b[0m \u001b[0;32mNone\u001b[0m\u001b[0;34m:\u001b[0m\u001b[0;34m\u001b[0m\u001b[0;34m\u001b[0m\u001b[0m\n\u001b[1;32m    623\u001b[0m             \u001b[0;31m# Add key to exclusions\u001b[0m\u001b[0;34m\u001b[0m\u001b[0;34m\u001b[0m\u001b[0;34m\u001b[0m\u001b[0m\n",
      "\u001b[0;31mKeyError\u001b[0m: 'has_notebook'"
     ]
    }
   ],
   "source": [
    "gorc_metadata.groupby(\"has_notebook\")[\"n_inbound_citations\"].count()"
   ]
  },
  {
   "cell_type": "code",
   "execution_count": null,
   "metadata": {},
   "outputs": [],
   "source": [
    "print(\"hey\")"
   ]
  },
  {
   "cell_type": "code",
   "execution_count": null,
   "metadata": {},
   "outputs": [],
   "source": []
  }
 ],
 "metadata": {
  "kernelspec": {
   "display_name": "Python 3",
   "language": "python",
   "name": "python3"
  },
  "language_info": {
   "codemirror_mode": {
    "name": "ipython",
    "version": 3
   },
   "file_extension": ".py",
   "mimetype": "text/x-python",
   "name": "python",
   "nbconvert_exporter": "python",
   "pygments_lexer": "ipython3",
   "version": "3.7.3"
  }
 },
 "nbformat": 4,
 "nbformat_minor": 4
}
