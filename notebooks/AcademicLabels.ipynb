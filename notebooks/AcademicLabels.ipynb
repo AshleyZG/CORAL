{
 "cells": [
  {
   "cell_type": "markdown",
   "metadata": {},
   "source": [
    "# Academic Labels\n",
    "This notebook contains analysis of CORAL results on notebooks from academic papers. "
   ]
  },
  {
   "cell_type": "code",
   "execution_count": 1,
   "metadata": {},
   "outputs": [
    {
     "name": "stderr",
     "output_type": "stream",
     "text": [
      "/homes/gws/mikeam/anaconda3/envs/analysis/lib/python3.7/site-packages/statsmodels/compat/pandas.py:23: FutureWarning: The Panel class is removed from pandas. Accessing it from the top-level namespace will also be removed in the next version\n",
      "  data_klasses = (pandas.Series, pandas.DataFrame, pandas.Panel)\n"
     ]
    }
   ],
   "source": [
    "%load_ext autoreload\n",
    "%autoreload 2\n",
    "import pandas as pd\n",
    "import numpy as np\n",
    "import scipy.stats\n",
    "import json\n",
    "import seaborn as sns\n",
    "\n",
    "from matplotlib import pyplot as plt\n",
    "import matplotlib.ticker as mtick\n",
    "import matplotlib.patches as patches\n",
    "\n",
    "\n",
    "\n",
    "import missingno as msno\n",
    "import os\n",
    "import glob\n",
    "import ast\n",
    "from copy import deepcopy\n",
    "import statsmodels.api as sm\n",
    "from statsmodels.compat import lzip\n",
    "import itertools\n",
    "from matplotlib import rcParams\n",
    "rcParams['figure.figsize'] = 8,10\n",
    "plt.rcParams['agg.path.chunksize'] = 20000"
   ]
  },
  {
   "cell_type": "code",
   "execution_count": 2,
   "metadata": {},
   "outputs": [],
   "source": [
    "LABELS_RAW = \"/projects/bdata/jupyter/results/train/results_graphs_layer_4_1_12.model.ep2_0116_2020.txt\"\n",
    "ACADEMIC_LABELS_RAW = \"/projects/bdata/jupyter/results/academic/results_graphs_layer_4_1_12.model.ep2_0122_2020.txt\""
   ]
  },
  {
   "cell_type": "code",
   "execution_count": 3,
   "metadata": {},
   "outputs": [],
   "source": [
    "READABLE_LABELS = [\"STAGE_PAD\",\"WRANGLE\",\"EXPLORE\",\"MODEL\",\"EVALUATE\",\"IMPORT\"]\n",
    "ORDERED_LABELS = [\"IMPORT\",\"WRANGLE\",\"EXPLORE\",\"MODEL\",\"EVALUATE\",\"STAGE_PAD\"]\n",
    "READABLE_LABEL_TO_INT = dict(zip(READABLE_LABELS,range(len(READABLE_LABELS))))\n",
    "\n",
    "def path_to_nb_id(path):\n",
    "    filename = path.split(\"/\")[-1]\n",
    "    no_ext = filename.split(\".\")[0]\n",
    "    no_prefix = no_ext.split(\"_\")[-1]\n",
    "    return int(no_prefix)\n",
    "\n",
    "def split_lines(string):\n",
    "    try:\n",
    "        return string.split(\"\\n\\n\")\n",
    "    except AttributeError:\n",
    "        return None\n",
    "\n",
    "    \n",
    "def get_code_line_no(group):\n",
    "    group = group.sort_values(\"target_lineno\")\n",
    "    return (group[\"n_lines\"].cumsum().shift() + 1 ).fillna(0)\n",
    "\n",
    "def load_results(path):\n",
    "    results = pd.read_json(path,lines=True)\n",
    "    results[\"label\"] = results[\"pred\"]\n",
    "    results[\"readable_label\"] = results[\"label\"].map(lambda x: READABLE_LABELS[x])\n",
    "    results[\"converted_py_lineno\"] = results[\"target_lineno\"]\n",
    "    results[\"n_lines\"] = results[\"context\"].map(lambda x: len(split_lines(x)))\n",
    "    results[\"nb_id\"] = results[\"file\"].map(path_to_nb_id)\n",
    "    results[\"code_line_no\"] = results.groupby(\"nb_id\").apply(get_code_line_no).reset_index(-2)[\"n_lines\"]\n",
    "    return results\n",
    "\n"
   ]
  },
  {
   "cell_type": "code",
   "execution_count": 4,
   "metadata": {},
   "outputs": [],
   "source": [
    "def save_for_pub(path):\n",
    "    plt.savefig(path,bbox_inches=\"tight\",transparent = True)\n",
    "    \n",
    "def df_to_latex(df):\n",
    "    return df.to_latex().replace(\"\\n\",\"\\r\")\n",
    "\n",
    "def sm_model_results_to_latex(results):\n",
    "    return results.summary().tables[1].as_latex_tabular()"
   ]
  },
  {
   "cell_type": "code",
   "execution_count": 5,
   "metadata": {},
   "outputs": [],
   "source": [
    "filtered_nb_results = load_results(LABELS_RAW)\n",
    "filtered_nb_results[\"dataset\"] = \"General Analysis\"\n",
    "\n",
    "academic_nb_results = load_results(ACADEMIC_LABELS_RAW)\n",
    "academic_nb_results[\"dataset\"] = \"Academic\""
   ]
  },
  {
   "cell_type": "code",
   "execution_count": 6,
   "metadata": {},
   "outputs": [
    {
     "data": {
      "text/plain": [
       "118333"
      ]
     },
     "execution_count": 6,
     "metadata": {},
     "output_type": "execute_result"
    }
   ],
   "source": [
    "filtered_nb_results[\"nb_id\"].nunique()"
   ]
  },
  {
   "cell_type": "code",
   "execution_count": 7,
   "metadata": {},
   "outputs": [],
   "source": [
    "all_results = pd.concat([filtered_nb_results,academic_nb_results],sort = False)\\\n",
    "                .drop_duplicates(subset = [\"nb_id\",\"target_lineno\"],keep=\"last\")"
   ]
  },
  {
   "cell_type": "markdown",
   "metadata": {},
   "source": [
    "## Load Notebook Metadata"
   ]
  },
  {
   "cell_type": "code",
   "execution_count": 8,
   "metadata": {},
   "outputs": [],
   "source": [
    "nb_metadata = pd.read_csv(\"/projects/bdata/jupyter/notebook_info/notebooks.csv\")\n",
    "\n",
    "REPO_INFO_DISCARD_COLUMNS = {\"mirror_url\",'allow_merge_commit', 'allow_rebase_merge', 'allow_squash_merge'}\n",
    "repo_metadata = pd.read_csv(\"/projects/bdata/jupyter/cleaned_repo_metadata.csv\",\n",
    "                        usecols = lambda x: x not in REPO_INFO_DISCARD_COLUMNS)\n",
    "\n",
    "#Gives us all results with notebook metadata, and repo_metadata\n",
    "all_results_with_metadata = all_results.merge(nb_metadata, on = \"nb_id\", how = \"left\").sort_values(\"repo_id\")\\\n",
    "                               .merge(repo_metadata[[\"id\",\"full_name\"]], left_on = \"repo_id\", right_on = \"id\")\\"
   ]
  },
  {
   "cell_type": "code",
   "execution_count": 9,
   "metadata": {},
   "outputs": [
    {
     "data": {
      "text/plain": [
       "Index(['nb_id', 'html_url', 'max_filesize', 'min_filesize', 'name', 'path',\n",
       "       'query_page', 'repo_id'],\n",
       "      dtype='object')"
      ]
     },
     "execution_count": 9,
     "metadata": {},
     "output_type": "execute_result"
    }
   ],
   "source": [
    "nb_metadata.columns"
   ]
  },
  {
   "cell_type": "markdown",
   "metadata": {},
   "source": [
    "## Load GORC Metadata"
   ]
  },
  {
   "cell_type": "code",
   "execution_count": 10,
   "metadata": {},
   "outputs": [
    {
     "name": "stderr",
     "output_type": "stream",
     "text": [
      "/homes/gws/mikeam/anaconda3/envs/analysis/lib/python3.7/site-packages/IPython/core/interactiveshell.py:3057: DtypeWarning: Columns (2) have mixed types. Specify dtype option on import or set low_memory=False.\n",
      "  interactivity=interactivity, compiler=compiler, result=result)\n"
     ]
    }
   ],
   "source": [
    "gorc_github_refs = pd.read_csv(\"gorc_github_refs.csv\")\n",
    "gorc_github_refs = gorc_github_refs.rename(columns = {\"repo_name\":\"full_name\"})"
   ]
  },
  {
   "cell_type": "code",
   "execution_count": 11,
   "metadata": {},
   "outputs": [
    {
     "data": {
      "text/html": [
       "<div>\n",
       "<style scoped>\n",
       "    .dataframe tbody tr th:only-of-type {\n",
       "        vertical-align: middle;\n",
       "    }\n",
       "\n",
       "    .dataframe tbody tr th {\n",
       "        vertical-align: top;\n",
       "    }\n",
       "\n",
       "    .dataframe thead th {\n",
       "        text-align: right;\n",
       "    }\n",
       "</style>\n",
       "<table border=\"1\" class=\"dataframe\">\n",
       "  <thead>\n",
       "    <tr style=\"text-align: right;\">\n",
       "      <th></th>\n",
       "      <th>abstract</th>\n",
       "      <th>acl_id</th>\n",
       "      <th>arxiv_id</th>\n",
       "      <th>authors</th>\n",
       "      <th>doi</th>\n",
       "      <th>github_refs</th>\n",
       "      <th>journal</th>\n",
       "      <th>paper_id</th>\n",
       "      <th>pmc_id</th>\n",
       "      <th>pubmed_id</th>\n",
       "      <th>title</th>\n",
       "      <th>venue</th>\n",
       "      <th>year</th>\n",
       "      <th>full_name</th>\n",
       "    </tr>\n",
       "  </thead>\n",
       "  <tbody>\n",
       "    <tr>\n",
       "      <th>0</th>\n",
       "      <td>PREMISE OF THE STUDY California's vascular flo...</td>\n",
       "      <td>NaN</td>\n",
       "      <td>NaN</td>\n",
       "      <td>[{'first': 'Bruce', 'middle': ['G'], 'last': '...</td>\n",
       "      <td>10.3732/ajb.1600326</td>\n",
       "      <td>['github.com/OpenRefine']</td>\n",
       "      <td>American journal of botany</td>\n",
       "      <td>43052386</td>\n",
       "      <td>NaN</td>\n",
       "      <td>28341628.0</td>\n",
       "      <td>Species richness and endemism in the native fl...</td>\n",
       "      <td>American journal of botany</td>\n",
       "      <td>2017.0</td>\n",
       "      <td>NaN</td>\n",
       "    </tr>\n",
       "    <tr>\n",
       "      <th>1</th>\n",
       "      <td>Background: Reduced-representation sequencing ...</td>\n",
       "      <td>NaN</td>\n",
       "      <td>NaN</td>\n",
       "      <td>[{'first': 'Jinpeng', 'middle': [], 'last': 'W...</td>\n",
       "      <td>10.1016/j.ejbt.2016.02.003</td>\n",
       "      <td>['github.com/JINPENG-WANG']</td>\n",
       "      <td>Electronic Journal of Biotechnology</td>\n",
       "      <td>56063937</td>\n",
       "      <td>NaN</td>\n",
       "      <td>NaN</td>\n",
       "      <td>RestrictionDigest: A powerful Perl module for ...</td>\n",
       "      <td>Electronic Journal of Biotechnology</td>\n",
       "      <td>2016.0</td>\n",
       "      <td>NaN</td>\n",
       "    </tr>\n",
       "    <tr>\n",
       "      <th>2</th>\n",
       "      <td>This thesis presents different methods of anal...</td>\n",
       "      <td>NaN</td>\n",
       "      <td>NaN</td>\n",
       "      <td>[{'first': 'Nejc', 'middle': [], 'last': 'Šilc...</td>\n",
       "      <td>NaN</td>\n",
       "      <td>['github.com/nejcsilc/lpa']</td>\n",
       "      <td>NaN</td>\n",
       "      <td>63301592</td>\n",
       "      <td>NaN</td>\n",
       "      <td>NaN</td>\n",
       "      <td>Communication Protocols Analysis and Testing Tool</td>\n",
       "      <td>NaN</td>\n",
       "      <td>2016.0</td>\n",
       "      <td>nejcsilc/lpa</td>\n",
       "    </tr>\n",
       "    <tr>\n",
       "      <th>3</th>\n",
       "      <td>We present BubbleProfiler, a C++ software pack...</td>\n",
       "      <td>NaN</td>\n",
       "      <td>1901.03714</td>\n",
       "      <td>[{'first': 'Peter', 'middle': [], 'last': 'Ath...</td>\n",
       "      <td>10.1016/j.cpc.2019.05.017</td>\n",
       "      <td>['github.com/bubbleprofiler/bubbleprofiler', '...</td>\n",
       "      <td>Computer Physics Communications</td>\n",
       "      <td>68153807</td>\n",
       "      <td>NaN</td>\n",
       "      <td>NaN</td>\n",
       "      <td>BubbleProfiler: finding the field profile and ...</td>\n",
       "      <td>Comput.Phys.Commun. 244 (2019) 448-468</td>\n",
       "      <td>2019.0</td>\n",
       "      <td>bubbleprofiler/bubbleprofiler</td>\n",
       "    </tr>\n",
       "    <tr>\n",
       "      <th>4</th>\n",
       "      <td>We present BubbleProfiler, a C++ software pack...</td>\n",
       "      <td>NaN</td>\n",
       "      <td>1901.03714</td>\n",
       "      <td>[{'first': 'Peter', 'middle': [], 'last': 'Ath...</td>\n",
       "      <td>10.1016/j.cpc.2019.05.017</td>\n",
       "      <td>['github.com/bubbleprofiler/bubbleprofiler', '...</td>\n",
       "      <td>Computer Physics Communications</td>\n",
       "      <td>68153807</td>\n",
       "      <td>NaN</td>\n",
       "      <td>NaN</td>\n",
       "      <td>BubbleProfiler: finding the field profile and ...</td>\n",
       "      <td>Comput.Phys.Commun. 244 (2019) 448-468</td>\n",
       "      <td>2019.0</td>\n",
       "      <td>bubbleprofiler/bubbleprofiler</td>\n",
       "    </tr>\n",
       "  </tbody>\n",
       "</table>\n",
       "</div>"
      ],
      "text/plain": [
       "                                            abstract acl_id    arxiv_id  \\\n",
       "0  PREMISE OF THE STUDY California's vascular flo...    NaN         NaN   \n",
       "1  Background: Reduced-representation sequencing ...    NaN         NaN   \n",
       "2  This thesis presents different methods of anal...    NaN         NaN   \n",
       "3  We present BubbleProfiler, a C++ software pack...    NaN  1901.03714   \n",
       "4  We present BubbleProfiler, a C++ software pack...    NaN  1901.03714   \n",
       "\n",
       "                                             authors  \\\n",
       "0  [{'first': 'Bruce', 'middle': ['G'], 'last': '...   \n",
       "1  [{'first': 'Jinpeng', 'middle': [], 'last': 'W...   \n",
       "2  [{'first': 'Nejc', 'middle': [], 'last': 'Šilc...   \n",
       "3  [{'first': 'Peter', 'middle': [], 'last': 'Ath...   \n",
       "4  [{'first': 'Peter', 'middle': [], 'last': 'Ath...   \n",
       "\n",
       "                          doi  \\\n",
       "0         10.3732/ajb.1600326   \n",
       "1  10.1016/j.ejbt.2016.02.003   \n",
       "2                         NaN   \n",
       "3   10.1016/j.cpc.2019.05.017   \n",
       "4   10.1016/j.cpc.2019.05.017   \n",
       "\n",
       "                                         github_refs  \\\n",
       "0                          ['github.com/OpenRefine']   \n",
       "1                        ['github.com/JINPENG-WANG']   \n",
       "2                        ['github.com/nejcsilc/lpa']   \n",
       "3  ['github.com/bubbleprofiler/bubbleprofiler', '...   \n",
       "4  ['github.com/bubbleprofiler/bubbleprofiler', '...   \n",
       "\n",
       "                               journal  paper_id pmc_id   pubmed_id  \\\n",
       "0           American journal of botany  43052386    NaN  28341628.0   \n",
       "1  Electronic Journal of Biotechnology  56063937    NaN         NaN   \n",
       "2                                  NaN  63301592    NaN         NaN   \n",
       "3      Computer Physics Communications  68153807    NaN         NaN   \n",
       "4      Computer Physics Communications  68153807    NaN         NaN   \n",
       "\n",
       "                                               title  \\\n",
       "0  Species richness and endemism in the native fl...   \n",
       "1  RestrictionDigest: A powerful Perl module for ...   \n",
       "2  Communication Protocols Analysis and Testing Tool   \n",
       "3  BubbleProfiler: finding the field profile and ...   \n",
       "4  BubbleProfiler: finding the field profile and ...   \n",
       "\n",
       "                                    venue    year  \\\n",
       "0              American journal of botany  2017.0   \n",
       "1     Electronic Journal of Biotechnology  2016.0   \n",
       "2                                     NaN  2016.0   \n",
       "3  Comput.Phys.Commun. 244 (2019) 448-468  2019.0   \n",
       "4  Comput.Phys.Commun. 244 (2019) 448-468  2019.0   \n",
       "\n",
       "                       full_name  \n",
       "0                            NaN  \n",
       "1                            NaN  \n",
       "2                   nejcsilc/lpa  \n",
       "3  bubbleprofiler/bubbleprofiler  \n",
       "4  bubbleprofiler/bubbleprofiler  "
      ]
     },
     "execution_count": 11,
     "metadata": {},
     "output_type": "execute_result"
    }
   ],
   "source": [
    "gorc_github_refs.head()"
   ]
  },
  {
   "cell_type": "code",
   "execution_count": 12,
   "metadata": {},
   "outputs": [
    {
     "name": "stderr",
     "output_type": "stream",
     "text": [
      "/homes/gws/mikeam/anaconda3/envs/analysis/lib/python3.7/site-packages/IPython/core/interactiveshell.py:3057: DtypeWarning: Columns (5) have mixed types. Specify dtype option on import or set low_memory=False.\n",
      "  interactivity=interactivity, compiler=compiler, result=result)\n"
     ]
    }
   ],
   "source": [
    "def n_inbound_citations(x):\n",
    "    try:\n",
    "        citations =  ast.literal_eval(x)\n",
    "        return len(citations)\n",
    "    except ValueError:\n",
    "        return np.nan\n",
    "    \n",
    "\n",
    "def get_domains(x):\n",
    "    try:\n",
    "        parsed_list = ast.literal_eval(x)\n",
    "        if len(parsed_list) < 1:\n",
    "            return np.nan\n",
    "        return parsed_list\n",
    "    except (ValueError,TypeError):\n",
    "        return np.nan\n",
    "\n",
    "gorc_metadata = pd.read_csv(\"/projects/bdata/gorc/gorc_metadata.tsv\", sep = \"\\t\", error_bad_lines= False,\n",
    "                           usecols = [\"pid\",\"mag_fos\",\"inbound_citations\",\"year\"])\n",
    "gorc_metadata[\"n_inbound_citations\"] = gorc_metadata[\"inbound_citations\"].map(n_inbound_citations)\n",
    "gorc_metadata[\"mag_fos\"] = gorc_metadata[\"mag_fos\"].map(get_domains)"
   ]
  },
  {
   "cell_type": "markdown",
   "metadata": {},
   "source": [
    "## Stitch it all together into one big notebook:"
   ]
  },
  {
   "cell_type": "code",
   "execution_count": 13,
   "metadata": {},
   "outputs": [],
   "source": [
    "results_with_gorc = all_results_with_metadata.merge(gorc_github_refs,how=\"left\",on = \"full_name\")"
   ]
  },
  {
   "cell_type": "code",
   "execution_count": 14,
   "metadata": {},
   "outputs": [],
   "source": [
    "gorc_metadata_with_notebooks = gorc_metadata.merge(results_with_gorc, left_on = \"pid\", right_on = \"paper_id\",\n",
    "                                                   how = \"left\")\n",
    "\n",
    "gorc_metadata_with_notebooks[\"has_notebook\"] = ~gorc_metadata_with_notebooks[\"nb_id\"].isnull()\n",
    "gorc_domains = gorc_metadata_with_notebooks.dropna(subset = [\"mag_fos\"]).explode(\"mag_fos\")\n",
    "gorc_domains = gorc_domains.drop_duplicates([\"pid\",\"has_notebook\",\"mag_fos\"])"
   ]
  },
  {
   "cell_type": "code",
   "execution_count": 15,
   "metadata": {},
   "outputs": [
    {
     "data": {
      "text/plain": [
       "['\\n(models_lin, traces_lin) = run_models(dfs_lin, 5)\\n']"
      ]
     },
     "execution_count": 15,
     "metadata": {},
     "output_type": "execute_result"
    }
   ],
   "source": [
    "results_with_gorc[\"context\"].iloc[50].split(\"\\n\\n\")"
   ]
  },
  {
   "cell_type": "code",
   "execution_count": 16,
   "metadata": {},
   "outputs": [],
   "source": [
    "results_with_gorc[\"is_academic\"] = ~results_with_gorc[\"title\"].isnull()"
   ]
  },
  {
   "cell_type": "markdown",
   "metadata": {},
   "source": [
    "## How do use patterns change between academic and non-academic notebooks?"
   ]
  },
  {
   "cell_type": "code",
   "execution_count": 17,
   "metadata": {},
   "outputs": [
    {
     "data": {
      "image/png": "[encoded data removed]",
      "text/plain": [
       "<Figure size 429.375x360 with 1 Axes>"
      ]
     },
     "metadata": {
      "needs_background": "light"
     },
     "output_type": "display_data"
    }
   ],
   "source": [
    "g = sns.catplot(data = (results_with_gorc.groupby([\"is_academic\",\"nb_id\",\"readable_label\"])\n",
    "                        [\"n_lines\"].sum().reset_index())\n",
    "                , hue = \"is_academic\", y = \"n_lines\", x = \"readable_label\",kind = \"bar\")\n",
    "for ax in g.axes.flat:\n",
    "    ax.set_xticklabels(ax.get_xticklabels(),rotation = 70)\n",
    "    ax.set_xlabel(\"Stage\")\n",
    "    ax.set_ylabel(\"Average Number of Lines\")\n",
    "\n",
    "plt.suptitle(\"Average Number of Lines per Stage per Notebook\")\n",
    "plt.tight_layout()"
   ]
  },
  {
   "cell_type": "code",
   "execution_count": 18,
   "metadata": {},
   "outputs": [
    {
     "data": {
      "text/plain": [
       "2087"
      ]
     },
     "execution_count": 18,
     "metadata": {},
     "output_type": "execute_result"
    }
   ],
   "source": [
    "results_with_gorc[results_with_gorc[\"is_academic\"]][\"paper_id\"].nunique()"
   ]
  },
  {
   "cell_type": "code",
   "execution_count": 19,
   "metadata": {},
   "outputs": [
    {
     "data": {
      "text/plain": [
       "7898"
      ]
     },
     "execution_count": 19,
     "metadata": {},
     "output_type": "execute_result"
    }
   ],
   "source": [
    "results_with_gorc[results_with_gorc[\"is_academic\"]][\"nb_id\"].nunique()"
   ]
  },
  {
   "cell_type": "code",
   "execution_count": 20,
   "metadata": {},
   "outputs": [
    {
     "data": {
      "text/plain": [
       "Text(0.5, 0.98, 'Average Number of Lines per Notebook')"
      ]
     },
     "execution_count": 20,
     "metadata": {},
     "output_type": "execute_result"
    },
    {
     "data": {
      "image/png": "[encoded data removed]",
      "text/plain": [
       "<Figure size 432x288 with 1 Axes>"
      ]
     },
     "metadata": {
      "needs_background": "light"
     },
     "output_type": "display_data"
    }
   ],
   "source": [
    "academic_nb_lengths = results_with_gorc.groupby([\"nb_id\",\"is_academic\"])[\"n_lines\"].sum().reset_index()\n",
    "sns.barplot(x = academic_nb_lengths[\"is_academic\"],\n",
    "            y = academic_nb_lengths[\"n_lines\"])\n",
    "\n",
    "#     ax.set_xticklabels(ax.get_xticklabels(),rotation = 70)\n",
    "#     ax.set_xlabel(\"Is Academic\")\n",
    "#     ax.set_ylabel(\"Total Number of Lines\")\n",
    "\n",
    "plt.suptitle(\"Average Number of Lines per Notebook\")"
   ]
  },
  {
   "cell_type": "code",
   "execution_count": 21,
   "metadata": {},
   "outputs": [
    {
     "data": {
      "image/png": "[encoded data removed]",
      "text/plain": [
       "<Figure size 429.375x360 with 1 Axes>"
      ]
     },
     "metadata": {
      "needs_background": "light"
     },
     "output_type": "display_data"
    }
   ],
   "source": [
    "g = sns.catplot(data = (results_with_gorc.groupby([\"is_academic\",\"nb_id\",\"readable_label\"])\n",
    "                        [\"n_lines\"].sum().reset_index())\n",
    "                , hue = \"is_academic\", y = \"n_lines\", x = \"readable_label\",kind = \"bar\")\n",
    "for ax in g.axes.flat:\n",
    "    ax.set_xticklabels(ax.get_xticklabels(),rotation = 70)\n",
    "    ax.set_xlabel(\"Stage\")\n",
    "    ax.set_ylabel(\"Average Number of Lines\")\n",
    "\n",
    "plt.suptitle(\"Average Number of Lines per Stage per Notebook\")\n",
    "plt.tight_layout()"
   ]
  },
  {
   "cell_type": "code",
   "execution_count": 22,
   "metadata": {},
   "outputs": [
    {
     "data": {
      "image/png": "[encoded data removed]",
      "text/plain": [
       "<Figure size 518.4x320.4 with 1 Axes>"
      ]
     },
     "metadata": {
      "needs_background": "light"
     },
     "output_type": "display_data"
    }
   ],
   "source": [
    "with plt.style.context(\"publications.mplstyle\"): \n",
    "    nb_lengths = (results_with_gorc\n",
    "                  .merge(results_with_gorc.groupby(\"nb_id\")[\"n_lines\"].sum().rename(\"total_nb_length\"),\n",
    "                         how = \"left\",\n",
    "                         on = \"nb_id\"))\n",
    "    nb_lengths[\"normalized_position\"] = nb_lengths[\"code_line_no\"] / nb_lengths[\"total_nb_length\"]\n",
    "    \n",
    "    g = sns.boxplot(data = nb_lengths, x = \"normalized_position\", y = \"readable_label\",\n",
    "                   palette=\"Set2\", order = ORDERED_LABELS[:-1])\n",
    "    \n",
    "    plt.ylabel(\"Stage\")\n",
    "    plt.xlabel(\"Normalized Line Position\")\n",
    "\n",
    "    save_for_pub(\"figs/norm_doc_position.pdf\")"
   ]
  },
  {
   "cell_type": "code",
   "execution_count": 23,
   "metadata": {},
   "outputs": [
    {
     "data": {
      "text/plain": [
       "readable_label\n",
       "EVALUATE    0.631579\n",
       "EXPLORE     0.500000\n",
       "IMPORT      0.070175\n",
       "MODEL       0.540541\n",
       "WRANGLE     0.410256\n",
       "Name: normalized_position, dtype: float64"
      ]
     },
     "execution_count": 23,
     "metadata": {},
     "output_type": "execute_result"
    }
   ],
   "source": [
    "nb_lengths.groupby(\"readable_label\")[\"normalized_position\"].median()"
   ]
  },
  {
   "cell_type": "code",
   "execution_count": 64,
   "metadata": {},
   "outputs": [
    {
     "data": {
      "image/png": "[encoded data removed]",
      "text/plain": [
       "<Figure size 360x360 with 1 Axes>"
      ]
     },
     "metadata": {
      "needs_background": "light"
     },
     "output_type": "display_data"
    }
   ],
   "source": [
    "## import itertools\n",
    "with plt.style.context(\"publications.mplstyle\"): \n",
    "    unique_nb_id = nb_lengths[\"nb_id\"].unique()\n",
    "    unique_stages = READABLE_LABELS[1:]\n",
    "    iterables = [unique_nb_id,unique_stages]\n",
    "    all_possible_all_possible_stages_per_nb = list(itertools.product(unique_nb_id,unique_stages))\n",
    "    line_count_per_nb_per_stage = nb_lengths\\\n",
    "                                    .groupby([\"nb_id\",\"readable_label\",\"is_academic\"])[\"n_lines\"]\\\n",
    "                                    .sum().rename(\"n_lines_stage\")\\\n",
    "                                    .reset_index(level = -1)\\\n",
    "                                    .reindex(pd.MultiIndex.from_product(iterables, names=['nb_id', 'readable_label']))\\\n",
    "\n",
    "    line_count_per_nb_per_stage = line_count_per_nb_per_stage.reset_index(-1)\n",
    "    line_count_per_nb_per_stage[\"is_academic\"] = line_count_per_nb_per_stage.groupby(level=0)[\"is_academic\"].any() \n",
    "    line_count_per_nb_per_stage[\"n_lines_stage\"] = line_count_per_nb_per_stage[\"n_lines_stage\"].fillna(0)\n",
    "\n",
    "    # line_count_per_nb_page[\"is_academic\"] = line_count_per_nb_per_stage.\n",
    "    total_line_counts = nb_lengths.drop_duplicates([\"is_academic\",\"nb_id\"]).set_index(\"nb_id\")[\"total_nb_length\"]\n",
    "    line_count_per_nb_per_stage = line_count_per_nb_per_stage.reset_index().merge(total_line_counts.reset_index())\n",
    "    line_count_per_nb_per_stage[\"stage_fraction\"] = line_count_per_nb_per_stage[\"n_lines_stage\"] / \\\n",
    "                                                    line_count_per_nb_per_stage[\"total_nb_length\"]\n",
    "\n",
    "    g = sns.catplot(data = line_count_per_nb_per_stage, x = \"stage_fraction\", y = \"readable_label\",kind = \"bar\",hue = \"is_academic\",\n",
    "                    order = ORDERED_LABELS[:-1], legend = False)\n",
    "\n",
    "    \n",
    "    num_stages = len(ORDERED_LABELS[:-1])\n",
    "    hatch_list = [None, \"//\"]\n",
    "    hatches = itertools.cycle(hatch_list)\n",
    "    colors = itertools.cycle(sns.color_palette(\"Set2\")[:num_stages])\n",
    "    is_academic = [\"Non-Academic\",\"Academic\"]\n",
    "    \n",
    "  \n",
    "     \n",
    "    for i, patch in enumerate(g.axes.flat[0].patches):\n",
    "        # Blue bars first, then green bars\n",
    "        if i % num_stages == 0:\n",
    "            hatch = next(hatches)\n",
    "        \n",
    "        patch.set_facecolor(next(colors))\n",
    "        \n",
    "        patch.set_hatch(hatch)\n",
    "        patch.set_label(is_academic[i%2])\n",
    "      \n",
    "    \n",
    "    plt.gca().xaxis.set_major_formatter(mtick.FuncFormatter(lambda y, _: '{:.0%}'.format(y)))\n",
    "    \n",
    "  \n",
    "    \n",
    "    custom_patches = [patches.Patch(facecolor='grey', hatch=hatch_list[0]),\n",
    "                      patches.Patch(facecolor='grey', hatch=hatch_list[1])]\n",
    "\n",
    "    plt.legend(custom_patches, ['Non-Academic', 'Academic'], bbox_to_anchor=(0.6, 1))\n",
    "    \n",
    "    \n",
    "#     plt.xticks(rotation=40)\n",
    "    plt.ylabel(\"Stage\")\n",
    "    plt.xlabel(\"Fraction of Lines of Code\")\n",
    "    plt.title(\"\")\n",
    "    plt.tight_layout()\n",
    "    save_for_pub(\"figs/frac_code_per_stage.pdf\")"
   ]
  },
  {
   "cell_type": "code",
   "execution_count": 26,
   "metadata": {},
   "outputs": [
    {
     "data": {
      "text/plain": [
       "is_academic  readable_label\n",
       "False        EVALUATE          0.088220\n",
       "             EXPLORE           0.255847\n",
       "             IMPORT            0.195377\n",
       "             MODEL             0.235617\n",
       "             WRANGLE           0.224939\n",
       "True         EVALUATE          0.070529\n",
       "             EXPLORE           0.399975\n",
       "             IMPORT            0.105555\n",
       "             MODEL             0.175099\n",
       "             WRANGLE           0.248841\n",
       "Name: stage_fraction, dtype: float64"
      ]
     },
     "execution_count": 26,
     "metadata": {},
     "output_type": "execute_result"
    }
   ],
   "source": [
    "line_count_per_nb_per_stage.groupby([\"is_academic\",\"readable_label\"])[\"stage_fraction\"].mean()"
   ]
  },
  {
   "cell_type": "markdown",
   "metadata": {},
   "source": [
    "# Regression"
   ]
  },
  {
   "cell_type": "code",
   "execution_count": 27,
   "metadata": {},
   "outputs": [],
   "source": [
    "n_domains = 5\n",
    "gorc_domains_per_paper = gorc_domains.drop_duplicates([\"pid\",\"mag_fos\"])[[\"mag_fos\",\"pid\",\"has_notebook\",\"year_x\",\"nb_id\",\"title\",\"n_inbound_citations\"]]\n",
    "top_n_domains = gorc_domains_per_paper.groupby(\"mag_fos\").size().sort_values(ascending = False)[:n_domains].index\n",
    "\n",
    "papers_in_top_n_domains = gorc_domains_per_paper[gorc_domains_per_paper[\"mag_fos\"].isin(top_n_domains)].rename(columns = {\"pid\":\"paper_id\"})"
   ]
  },
  {
   "cell_type": "code",
   "execution_count": 30,
   "metadata": {},
   "outputs": [
    {
     "data": {
      "image/png": "[encoded data removed]",
      "text/plain": [
       "<Figure size 720x288 with 2 Axes>"
      ]
     },
     "metadata": {
      "needs_background": "light"
     },
     "output_type": "display_data"
    }
   ],
   "source": [
    "with plt.style.context(\"publications.mplstyle\"): \n",
    "    plt.figure(figsize=(10, 4))\n",
    "    plt.subplot(2, 2, 1)\n",
    "    domain_counts = papers_in_top_n_domains[\"mag_fos\"].value_counts().sort_values(ascending = False).rename(\"Paper Counts\")\n",
    "    sns.barplot(y = domain_counts.index, x = domain_counts)\n",
    "    plt.title(\"Count of Papers from\\nTop Domains in GORC\")\n",
    "    plt.xlabel(\"Paper Count\")\n",
    "    plt.gca().ticklabel_format(axis = \"x\", style = \"scientific\")\n",
    "    plt.ylabel(\"Domain\")\n",
    "\n",
    "    plt.subplot(222)\n",
    "    notebook_counts = (papers_in_top_n_domains.groupby(\"mag_fos\")\n",
    "                            [\"has_notebook\"].sum().sort_values(ascending = False)).rename(\"Notebook Counts\")\n",
    "    sns.barplot(y = notebook_counts.index, x = notebook_counts, order = domain_counts.index)\n",
    "    plt.title(\"Count of Papers that Reference Notebook\")\n",
    "    plt.xlabel(\"Notebook Count\")\n",
    "    plt.ylabel(\"\")\n",
    "    save_for_pub(\"figs/notebook_and_paper_counts.pdf\")\n",
    "\n",
    "    \n",
    "    plt.tight_layout()"
   ]
  },
  {
   "cell_type": "code",
   "execution_count": 31,
   "metadata": {},
   "outputs": [
    {
     "data": {
      "text/html": [
       "<div>\n",
       "<style scoped>\n",
       "    .dataframe tbody tr th:only-of-type {\n",
       "        vertical-align: middle;\n",
       "    }\n",
       "\n",
       "    .dataframe tbody tr th {\n",
       "        vertical-align: top;\n",
       "    }\n",
       "\n",
       "    .dataframe thead th {\n",
       "        text-align: right;\n",
       "    }\n",
       "</style>\n",
       "<table border=\"1\" class=\"dataframe\">\n",
       "  <thead>\n",
       "    <tr style=\"text-align: right;\">\n",
       "      <th></th>\n",
       "      <th>mag_fos</th>\n",
       "      <th>paper_id</th>\n",
       "      <th>has_notebook</th>\n",
       "      <th>year_x</th>\n",
       "      <th>nb_id</th>\n",
       "      <th>title</th>\n",
       "      <th>n_inbound_citations</th>\n",
       "    </tr>\n",
       "  </thead>\n",
       "  <tbody>\n",
       "    <tr>\n",
       "      <th>2</th>\n",
       "      <td>Biology</td>\n",
       "      <td>1009792</td>\n",
       "      <td>False</td>\n",
       "      <td>2012</td>\n",
       "      <td>NaN</td>\n",
       "      <td>NaN</td>\n",
       "      <td>2.0</td>\n",
       "    </tr>\n",
       "    <tr>\n",
       "      <th>3</th>\n",
       "      <td>Biology</td>\n",
       "      <td>10006097</td>\n",
       "      <td>False</td>\n",
       "      <td>2012</td>\n",
       "      <td>NaN</td>\n",
       "      <td>NaN</td>\n",
       "      <td>1.0</td>\n",
       "    </tr>\n",
       "    <tr>\n",
       "      <th>30</th>\n",
       "      <td>Biology</td>\n",
       "      <td>10070197</td>\n",
       "      <td>False</td>\n",
       "      <td>2012</td>\n",
       "      <td>NaN</td>\n",
       "      <td>NaN</td>\n",
       "      <td>15.0</td>\n",
       "    </tr>\n",
       "    <tr>\n",
       "      <th>46</th>\n",
       "      <td>Computer Science</td>\n",
       "      <td>10103267</td>\n",
       "      <td>False</td>\n",
       "      <td>2011</td>\n",
       "      <td>NaN</td>\n",
       "      <td>NaN</td>\n",
       "      <td>0.0</td>\n",
       "    </tr>\n",
       "    <tr>\n",
       "      <th>68</th>\n",
       "      <td>Mathematics</td>\n",
       "      <td>10138504</td>\n",
       "      <td>False</td>\n",
       "      <td>1999</td>\n",
       "      <td>NaN</td>\n",
       "      <td>NaN</td>\n",
       "      <td>2.0</td>\n",
       "    </tr>\n",
       "    <tr>\n",
       "      <th>...</th>\n",
       "      <td>...</td>\n",
       "      <td>...</td>\n",
       "      <td>...</td>\n",
       "      <td>...</td>\n",
       "      <td>...</td>\n",
       "      <td>...</td>\n",
       "      <td>...</td>\n",
       "    </tr>\n",
       "    <tr>\n",
       "      <th>81348167</th>\n",
       "      <td>Medicine</td>\n",
       "      <td>9660813</td>\n",
       "      <td>False</td>\n",
       "      <td>2000</td>\n",
       "      <td>NaN</td>\n",
       "      <td>NaN</td>\n",
       "      <td>0.0</td>\n",
       "    </tr>\n",
       "    <tr>\n",
       "      <th>81348230</th>\n",
       "      <td>Computer Science</td>\n",
       "      <td>9759736</td>\n",
       "      <td>False</td>\n",
       "      <td>2006</td>\n",
       "      <td>NaN</td>\n",
       "      <td>NaN</td>\n",
       "      <td>62.0</td>\n",
       "    </tr>\n",
       "    <tr>\n",
       "      <th>81348256</th>\n",
       "      <td>Medicine</td>\n",
       "      <td>9788833</td>\n",
       "      <td>False</td>\n",
       "      <td>2015</td>\n",
       "      <td>NaN</td>\n",
       "      <td>NaN</td>\n",
       "      <td>6.0</td>\n",
       "    </tr>\n",
       "    <tr>\n",
       "      <th>81348267</th>\n",
       "      <td>Computer Science</td>\n",
       "      <td>986442</td>\n",
       "      <td>False</td>\n",
       "      <td>1997</td>\n",
       "      <td>NaN</td>\n",
       "      <td>NaN</td>\n",
       "      <td>1.0</td>\n",
       "    </tr>\n",
       "    <tr>\n",
       "      <th>81348354</th>\n",
       "      <td>Physics</td>\n",
       "      <td>9902557</td>\n",
       "      <td>False</td>\n",
       "      <td>2004</td>\n",
       "      <td>NaN</td>\n",
       "      <td>NaN</td>\n",
       "      <td>7.0</td>\n",
       "    </tr>\n",
       "  </tbody>\n",
       "</table>\n",
       "<p>10265258 rows × 7 columns</p>\n",
       "</div>"
      ],
      "text/plain": [
       "                   mag_fos  paper_id  has_notebook year_x  nb_id title  \\\n",
       "2                  Biology   1009792         False   2012    NaN   NaN   \n",
       "3                  Biology  10006097         False   2012    NaN   NaN   \n",
       "30                 Biology  10070197         False   2012    NaN   NaN   \n",
       "46        Computer Science  10103267         False   2011    NaN   NaN   \n",
       "68             Mathematics  10138504         False   1999    NaN   NaN   \n",
       "...                    ...       ...           ...    ...    ...   ...   \n",
       "81348167          Medicine   9660813         False   2000    NaN   NaN   \n",
       "81348230  Computer Science   9759736         False   2006    NaN   NaN   \n",
       "81348256          Medicine   9788833         False   2015    NaN   NaN   \n",
       "81348267  Computer Science    986442         False   1997    NaN   NaN   \n",
       "81348354           Physics   9902557         False   2004    NaN   NaN   \n",
       "\n",
       "          n_inbound_citations  \n",
       "2                         2.0  \n",
       "3                         1.0  \n",
       "30                       15.0  \n",
       "46                        0.0  \n",
       "68                        2.0  \n",
       "...                       ...  \n",
       "81348167                  0.0  \n",
       "81348230                 62.0  \n",
       "81348256                  6.0  \n",
       "81348267                  1.0  \n",
       "81348354                  7.0  \n",
       "\n",
       "[10265258 rows x 7 columns]"
      ]
     },
     "execution_count": 31,
     "metadata": {},
     "output_type": "execute_result"
    }
   ],
   "source": [
    "papers_in_top_n_domains"
   ]
  },
  {
   "cell_type": "code",
   "execution_count": 32,
   "metadata": {},
   "outputs": [
    {
     "name": "stderr",
     "output_type": "stream",
     "text": [
      "/homes/gws/mikeam/anaconda3/envs/analysis/lib/python3.7/site-packages/numpy/core/fromnumeric.py:2389: FutureWarning: Method .ptp is deprecated and will be removed in a future version. Use numpy.ptp instead.\n",
      "  return ptp(axis=axis, out=out, **kwargs)\n"
     ]
    },
    {
     "name": "stdout",
     "output_type": "stream",
     "text": [
      "                             OLS Regression Results                            \n",
      "===============================================================================\n",
      "Dep. Variable:     n_inbound_citations   R-squared:                       0.026\n",
      "Model:                             OLS   Adj. R-squared:                  0.026\n",
      "Method:                  Least Squares   F-statistic:                 4.033e+04\n",
      "Date:                 Thu, 13 Feb 2020   Prob (F-statistic):               0.00\n",
      "Time:                         12:18:36   Log-Likelihood:            -4.5782e+07\n",
      "No. Observations:              9167156   AIC:                         9.156e+07\n",
      "Df Residuals:                  9167149   BIC:                         9.156e+07\n",
      "Df Model:                            6                                         \n",
      "Covariance Type:             nonrobust                                         \n",
      "====================================================================================\n",
      "                       coef    std err          t      P>|t|      [0.025      0.975]\n",
      "------------------------------------------------------------------------------------\n",
      "const               -4.5355      0.040   -114.706      0.000      -4.613      -4.458\n",
      "has_notebook        11.2035      1.081     10.368      0.000       9.085      13.321\n",
      "year_x               0.9522      0.002    400.997      0.000       0.948       0.957\n",
      "Biology              9.2950      0.041    228.293      0.000       9.215       9.375\n",
      "Computer Science     2.9414      0.041     71.728      0.000       2.861       3.022\n",
      "Mathematics          2.8609      0.048     59.208      0.000       2.766       2.956\n",
      "Medicine             5.2376      0.040    130.139      0.000       5.159       5.316\n",
      "===============================================================================\n",
      "Omnibus:                 37615014.342   Durbin-Watson:                    1.942\n",
      "Prob(Omnibus):                  0.000   Jarque-Bera (JB):   523236154531819.000\n",
      "Skew:                         109.994   Prob(JB):                          0.00\n",
      "Kurtosis:                   37013.888   Cond. No.                          924.\n",
      "===============================================================================\n",
      "\n",
      "Warnings:\n",
      "[1] Standard Errors assume that the covariance matrix of the errors is correctly specified.\n"
     ]
    }
   ],
   "source": [
    "#Using all but the last category to prevent multicolinearity\n",
    "one_hot_domains = pd.get_dummies(papers_in_top_n_domains[\"mag_fos\"])\n",
    "to_ols = pd.concat([papers_in_top_n_domains[[\"n_inbound_citations\",\"has_notebook\",\"year_x\",\"nb_id\",\"title\",\"paper_id\"]],one_hot_domains],\n",
    "                  axis = 1).dropna(subset = [\"n_inbound_citations\",\"has_notebook\",\"year_x\"])\n",
    "to_ols = to_ols[to_ols[\"year_x\"].astype(int).between(2000,2020)]\n",
    "to_ols[\"has_notebook\"] = to_ols[\"has_notebook\"].astype(int)\n",
    "to_ols[\"year_x\"] = 2020 - (to_ols[\"year_x\"].astype(int))\n",
    "# to_ols[\"n_inbound_citations\"] = np.log(to_ols[\"n_inbound_citations\"] + 1)\n",
    "\n",
    "def get_ols_fit(y,X, add_intercept = True):\n",
    "    if add_intercept:\n",
    "        X = sm.add_constant(X)\n",
    "    model = sm.OLS(y, X)\n",
    "    results = model.fit()\n",
    "    print(results.summary())\n",
    "    return results\n",
    "\n",
    "\n",
    "y_col = \"n_inbound_citations\"\n",
    "X_cols = [\"has_notebook\",\"year_x\"]+list(one_hot_domains.columns[:-1])\n",
    "citations_results = get_ols_fit(to_ols[y_col],to_ols.loc[:,X_cols])"
   ]
  },
  {
   "cell_type": "code",
   "execution_count": 33,
   "metadata": {},
   "outputs": [
    {
     "data": {
      "text/html": [
       "<div>\n",
       "<style scoped>\n",
       "    .dataframe tbody tr th:only-of-type {\n",
       "        vertical-align: middle;\n",
       "    }\n",
       "\n",
       "    .dataframe tbody tr th {\n",
       "        vertical-align: top;\n",
       "    }\n",
       "\n",
       "    .dataframe thead th {\n",
       "        text-align: right;\n",
       "    }\n",
       "</style>\n",
       "<table border=\"1\" class=\"dataframe\">\n",
       "  <thead>\n",
       "    <tr style=\"text-align: right;\">\n",
       "      <th></th>\n",
       "      <th>count</th>\n",
       "      <th>mean</th>\n",
       "      <th>std</th>\n",
       "      <th>min</th>\n",
       "      <th>25%</th>\n",
       "      <th>50%</th>\n",
       "      <th>75%</th>\n",
       "      <th>max</th>\n",
       "    </tr>\n",
       "    <tr>\n",
       "      <th>mag_fos</th>\n",
       "      <th></th>\n",
       "      <th></th>\n",
       "      <th></th>\n",
       "      <th></th>\n",
       "      <th></th>\n",
       "      <th></th>\n",
       "      <th></th>\n",
       "      <th></th>\n",
       "    </tr>\n",
       "  </thead>\n",
       "  <tbody>\n",
       "    <tr>\n",
       "      <th>Biology</th>\n",
       "      <td>2642998.0</td>\n",
       "      <td>14.981741</td>\n",
       "      <td>57.107017</td>\n",
       "      <td>0.0</td>\n",
       "      <td>1.0</td>\n",
       "      <td>5.0</td>\n",
       "      <td>14.0</td>\n",
       "      <td>27033.0</td>\n",
       "    </tr>\n",
       "    <tr>\n",
       "      <th>Computer Science</th>\n",
       "      <td>2394215.0</td>\n",
       "      <td>7.117187</td>\n",
       "      <td>49.440440</td>\n",
       "      <td>0.0</td>\n",
       "      <td>0.0</td>\n",
       "      <td>1.0</td>\n",
       "      <td>5.0</td>\n",
       "      <td>21489.0</td>\n",
       "    </tr>\n",
       "    <tr>\n",
       "      <th>Mathematics</th>\n",
       "      <td>1194901.0</td>\n",
       "      <td>7.871253</td>\n",
       "      <td>50.899994</td>\n",
       "      <td>0.0</td>\n",
       "      <td>0.0</td>\n",
       "      <td>1.0</td>\n",
       "      <td>6.0</td>\n",
       "      <td>17999.0</td>\n",
       "    </tr>\n",
       "    <tr>\n",
       "      <th>Medicine</th>\n",
       "      <td>2698805.0</td>\n",
       "      <td>8.768899</td>\n",
       "      <td>35.466433</td>\n",
       "      <td>0.0</td>\n",
       "      <td>0.0</td>\n",
       "      <td>2.0</td>\n",
       "      <td>8.0</td>\n",
       "      <td>21854.0</td>\n",
       "    </tr>\n",
       "    <tr>\n",
       "      <th>Physics</th>\n",
       "      <td>1334339.0</td>\n",
       "      <td>4.293183</td>\n",
       "      <td>20.115268</td>\n",
       "      <td>0.0</td>\n",
       "      <td>0.0</td>\n",
       "      <td>1.0</td>\n",
       "      <td>3.0</td>\n",
       "      <td>5076.0</td>\n",
       "    </tr>\n",
       "  </tbody>\n",
       "</table>\n",
       "</div>"
      ],
      "text/plain": [
       "                      count       mean        std  min  25%  50%   75%  \\\n",
       "mag_fos                                                                  \n",
       "Biology           2642998.0  14.981741  57.107017  0.0  1.0  5.0  14.0   \n",
       "Computer Science  2394215.0   7.117187  49.440440  0.0  0.0  1.0   5.0   \n",
       "Mathematics       1194901.0   7.871253  50.899994  0.0  0.0  1.0   6.0   \n",
       "Medicine          2698805.0   8.768899  35.466433  0.0  0.0  2.0   8.0   \n",
       "Physics           1334339.0   4.293183  20.115268  0.0  0.0  1.0   3.0   \n",
       "\n",
       "                      max  \n",
       "mag_fos                    \n",
       "Biology           27033.0  \n",
       "Computer Science  21489.0  \n",
       "Mathematics       17999.0  \n",
       "Medicine          21854.0  \n",
       "Physics            5076.0  "
      ]
     },
     "execution_count": 33,
     "metadata": {},
     "output_type": "execute_result"
    }
   ],
   "source": [
    "papers_in_top_n_domains.groupby(\"mag_fos\")[\"n_inbound_citations\"].describe()"
   ]
  },
  {
   "cell_type": "markdown",
   "metadata": {},
   "source": [
    "Lots of interactions here? Having a notebook might matter more for different domains. Also some non-linearity"
   ]
  },
  {
   "cell_type": "markdown",
   "metadata": {},
   "source": [
    "Negative Binomial allows for heteroskedasticity, allowing variance to be independent of the mean. Poisson is a special case of NB. Coefficents should be interpreted as percentage changes in the response variable. We note that the significance of this result does not change if we examine the top five or top 20 or top 5 domains. "
   ]
  },
  {
   "cell_type": "code",
   "execution_count": 34,
   "metadata": {},
   "outputs": [],
   "source": [
    "def get_GLM_fit(y,X,family,add_intercept = True,robust_cov=False):\n",
    "    if add_intercept:\n",
    "        X = sm.add_constant(X)\n",
    "    \n",
    "    model = sm.GLM(y, X,family = family)\n",
    "    results = model.fit()\n",
    "    print(results.summary())\n",
    "    return results"
   ]
  },
  {
   "cell_type": "code",
   "execution_count": 35,
   "metadata": {},
   "outputs": [
    {
     "name": "stdout",
     "output_type": "stream",
     "text": [
      "                  Generalized Linear Model Regression Results                  \n",
      "===============================================================================\n",
      "Dep. Variable:     n_inbound_citations   No. Observations:              9167156\n",
      "Model:                             GLM   Df Residuals:                  9167149\n",
      "Model Family:         NegativeBinomial   Df Model:                            6\n",
      "Link Function:                     log   Scale:                          1.0000\n",
      "Method:                           IRLS   Log-Likelihood:            -2.7391e+07\n",
      "Date:                 Thu, 13 Feb 2020   Deviance:                   2.0326e+07\n",
      "Time:                         12:19:17   Pearson chi2:                 1.50e+08\n",
      "No. Iterations:                     17                                         \n",
      "Covariance Type:             nonrobust                                         \n",
      "====================================================================================\n",
      "                       coef    std err          z      P>|z|      [0.025      0.975]\n",
      "------------------------------------------------------------------------------------\n",
      "const                0.2100      0.001    166.181      0.000       0.208       0.212\n",
      "has_notebook         1.3471      0.032     42.396      0.000       1.285       1.409\n",
      "year_x               0.1247   7.18e-05   1737.800      0.000       0.125       0.125\n",
      "Biology              1.0537      0.001    834.663      0.000       1.051       1.056\n",
      "Computer Science     0.4493      0.001    348.248      0.000       0.447       0.452\n",
      "Mathematics          0.4057      0.002    268.479      0.000       0.403       0.409\n",
      "Medicine             0.7035      0.001    557.533      0.000       0.701       0.706\n",
      "====================================================================================\n"
     ]
    },
    {
     "data": {
      "text/plain": [
       "<statsmodels.genmod.generalized_linear_model.GLMResultsWrapper at 0x7fe289c89780>"
      ]
     },
     "execution_count": 35,
     "metadata": {},
     "output_type": "execute_result"
    }
   ],
   "source": [
    "get_GLM_fit(to_ols[y_col],to_ols.loc[:,X_cols],family = sm.families.NegativeBinomial())"
   ]
  },
  {
   "cell_type": "code",
   "execution_count": 36,
   "metadata": {},
   "outputs": [
    {
     "data": {
      "text/plain": [
       "1308.368560134819"
      ]
     },
     "execution_count": 36,
     "metadata": {},
     "output_type": "execute_result"
    }
   ],
   "source": [
    "to_ols[y_col].var()"
   ]
  },
  {
   "cell_type": "code",
   "execution_count": 37,
   "metadata": {},
   "outputs": [
    {
     "data": {
      "text/plain": [
       "8.524289976084185"
      ]
     },
     "execution_count": 37,
     "metadata": {},
     "output_type": "execute_result"
    }
   ],
   "source": [
    "to_ols[y_col].mean()"
   ]
  },
  {
   "cell_type": "code",
   "execution_count": 38,
   "metadata": {},
   "outputs": [],
   "source": [
    "notebooks_in_top_n_domains = line_count_per_nb_per_stage"
   ]
  },
  {
   "cell_type": "code",
   "execution_count": 39,
   "metadata": {},
   "outputs": [
    {
     "data": {
      "text/html": [
       "<div>\n",
       "<style scoped>\n",
       "    .dataframe tbody tr th:only-of-type {\n",
       "        vertical-align: middle;\n",
       "    }\n",
       "\n",
       "    .dataframe tbody tr th {\n",
       "        vertical-align: top;\n",
       "    }\n",
       "\n",
       "    .dataframe thead th {\n",
       "        text-align: right;\n",
       "    }\n",
       "</style>\n",
       "<table border=\"1\" class=\"dataframe\">\n",
       "  <thead>\n",
       "    <tr style=\"text-align: right;\">\n",
       "      <th></th>\n",
       "      <th>nb_id</th>\n",
       "      <th>readable_label</th>\n",
       "      <th>is_academic</th>\n",
       "      <th>n_lines_stage</th>\n",
       "      <th>total_nb_length</th>\n",
       "      <th>stage_fraction</th>\n",
       "    </tr>\n",
       "  </thead>\n",
       "  <tbody>\n",
       "    <tr>\n",
       "      <th>0</th>\n",
       "      <td>196368</td>\n",
       "      <td>WRANGLE</td>\n",
       "      <td>True</td>\n",
       "      <td>24.0</td>\n",
       "      <td>456</td>\n",
       "      <td>0.052632</td>\n",
       "    </tr>\n",
       "    <tr>\n",
       "      <th>1</th>\n",
       "      <td>196368</td>\n",
       "      <td>EXPLORE</td>\n",
       "      <td>True</td>\n",
       "      <td>372.0</td>\n",
       "      <td>456</td>\n",
       "      <td>0.815789</td>\n",
       "    </tr>\n",
       "    <tr>\n",
       "      <th>2</th>\n",
       "      <td>196368</td>\n",
       "      <td>MODEL</td>\n",
       "      <td>True</td>\n",
       "      <td>60.0</td>\n",
       "      <td>456</td>\n",
       "      <td>0.131579</td>\n",
       "    </tr>\n",
       "    <tr>\n",
       "      <th>3</th>\n",
       "      <td>196368</td>\n",
       "      <td>EVALUATE</td>\n",
       "      <td>True</td>\n",
       "      <td>0.0</td>\n",
       "      <td>456</td>\n",
       "      <td>0.000000</td>\n",
       "    </tr>\n",
       "    <tr>\n",
       "      <th>4</th>\n",
       "      <td>196368</td>\n",
       "      <td>IMPORT</td>\n",
       "      <td>True</td>\n",
       "      <td>0.0</td>\n",
       "      <td>456</td>\n",
       "      <td>0.000000</td>\n",
       "    </tr>\n",
       "    <tr>\n",
       "      <th>...</th>\n",
       "      <td>...</td>\n",
       "      <td>...</td>\n",
       "      <td>...</td>\n",
       "      <td>...</td>\n",
       "      <td>...</td>\n",
       "      <td>...</td>\n",
       "    </tr>\n",
       "    <tr>\n",
       "      <th>627085</th>\n",
       "      <td>71288</td>\n",
       "      <td>WRANGLE</td>\n",
       "      <td>False</td>\n",
       "      <td>8.0</td>\n",
       "      <td>40</td>\n",
       "      <td>0.200000</td>\n",
       "    </tr>\n",
       "    <tr>\n",
       "      <th>627086</th>\n",
       "      <td>71288</td>\n",
       "      <td>EXPLORE</td>\n",
       "      <td>False</td>\n",
       "      <td>11.0</td>\n",
       "      <td>40</td>\n",
       "      <td>0.275000</td>\n",
       "    </tr>\n",
       "    <tr>\n",
       "      <th>627087</th>\n",
       "      <td>71288</td>\n",
       "      <td>MODEL</td>\n",
       "      <td>False</td>\n",
       "      <td>15.0</td>\n",
       "      <td>40</td>\n",
       "      <td>0.375000</td>\n",
       "    </tr>\n",
       "    <tr>\n",
       "      <th>627088</th>\n",
       "      <td>71288</td>\n",
       "      <td>EVALUATE</td>\n",
       "      <td>False</td>\n",
       "      <td>6.0</td>\n",
       "      <td>40</td>\n",
       "      <td>0.150000</td>\n",
       "    </tr>\n",
       "    <tr>\n",
       "      <th>627089</th>\n",
       "      <td>71288</td>\n",
       "      <td>IMPORT</td>\n",
       "      <td>False</td>\n",
       "      <td>0.0</td>\n",
       "      <td>40</td>\n",
       "      <td>0.000000</td>\n",
       "    </tr>\n",
       "  </tbody>\n",
       "</table>\n",
       "<p>627090 rows × 6 columns</p>\n",
       "</div>"
      ],
      "text/plain": [
       "         nb_id readable_label  is_academic  n_lines_stage  total_nb_length  \\\n",
       "0       196368        WRANGLE         True           24.0              456   \n",
       "1       196368        EXPLORE         True          372.0              456   \n",
       "2       196368          MODEL         True           60.0              456   \n",
       "3       196368       EVALUATE         True            0.0              456   \n",
       "4       196368         IMPORT         True            0.0              456   \n",
       "...        ...            ...          ...            ...              ...   \n",
       "627085   71288        WRANGLE        False            8.0               40   \n",
       "627086   71288        EXPLORE        False           11.0               40   \n",
       "627087   71288          MODEL        False           15.0               40   \n",
       "627088   71288       EVALUATE        False            6.0               40   \n",
       "627089   71288         IMPORT        False            0.0               40   \n",
       "\n",
       "        stage_fraction  \n",
       "0             0.052632  \n",
       "1             0.815789  \n",
       "2             0.131579  \n",
       "3             0.000000  \n",
       "4             0.000000  \n",
       "...                ...  \n",
       "627085        0.200000  \n",
       "627086        0.275000  \n",
       "627087        0.375000  \n",
       "627088        0.150000  \n",
       "627089        0.000000  \n",
       "\n",
       "[627090 rows x 6 columns]"
      ]
     },
     "execution_count": 39,
     "metadata": {},
     "output_type": "execute_result"
    }
   ],
   "source": [
    "line_count_per_nb_per_stage"
   ]
  },
  {
   "cell_type": "markdown",
   "metadata": {},
   "source": [
    "# Differences in Notebooks based on domain:\n",
    "Maybe want to consider limiting this (or indeed the whole paper) to the top 5 domains? Results don't change appreciably"
   ]
  },
  {
   "cell_type": "code",
   "execution_count": 40,
   "metadata": {},
   "outputs": [],
   "source": [
    "notebooks_in_papers = results_with_gorc.drop_duplicates([\"nb_id\",\"paper_id\"])[[\"nb_id\",\"paper_id\"]].dropna()"
   ]
  },
  {
   "cell_type": "code",
   "execution_count": 41,
   "metadata": {},
   "outputs": [
    {
     "data": {
      "image/png": "[encoded data removed]",
      "text/plain": [
       "<Figure size 720x288 with 1 Axes>"
      ]
     },
     "metadata": {
      "needs_background": "light"
     },
     "output_type": "display_data"
    }
   ],
   "source": [
    "# line_counts_with_domain = line_count_per_nb_per_stage.reset_index().merge(papers_in_top_n_domains, on = \"nb_id\")\n",
    "line_counts_with_domain = line_count_per_nb_per_stage.reset_index().merge(notebooks_in_papers,how = \"right\").merge(papers_in_top_n_domains[[\"paper_id\",\"mag_fos\"]],how = \"left\").dropna(subset = [\"mag_fos\"])\n",
    "\n",
    "with plt.style.context(\"publications.mplstyle\"):\n",
    "    g = sns.catplot(data = line_counts_with_domain, y = \"stage_fraction\", hue = \"mag_fos\",kind = \"bar\",\n",
    "                    x = \"readable_label\", order=ORDERED_LABELS[:-1], palette = \"Set3\",\n",
    "                    legend = False)\n",
    "\n",
    "    g.fig.set_size_inches(10,4)\n",
    "\n",
    "    plt.gca().yaxis.set_major_formatter(mtick.FuncFormatter(lambda y, _: '{:.0%}'.format(y)))\n",
    "    \n",
    "    plt.legend(title=\"Domain\", loc = \"upper left\", ncol = 2,bbox_to_anchor=(0.5, 1.3))\n",
    "#     plt.xticks(rotation=15)\n",
    "    \n",
    "    plt.ylabel(\"Fraction of Code\")\n",
    "    plt.xlabel(None)\n",
    "#     plt.title(\"Fraction of Code per Stage per Domain\")\n",
    "    \n",
    "    plt.tight_layout()\n",
    "    \n",
    "    plt.savefig(\"figs/per_domain_stage_fractions.pdf\",bbox_inches=\"tight\",transparent = True)\n"
   ]
  },
  {
   "cell_type": "code",
   "execution_count": 42,
   "metadata": {},
   "outputs": [
    {
     "data": {
      "image/png": "[encoded data removed]",
      "text/plain": [
       "<Figure size 720x288 with 1 Axes>"
      ]
     },
     "metadata": {
      "needs_background": "light"
     },
     "output_type": "display_data"
    }
   ],
   "source": [
    "with plt.style.context(\"publications.mplstyle\"):\n",
    "    g = sns.catplot(data = line_counts_with_domain, y = \"n_lines_stage\", hue = \"mag_fos\",kind = \"bar\",\n",
    "                    x = \"readable_label\",\n",
    "                    legend = False,order=ORDERED_LABELS[:-1], palette = \"Set3\")\n",
    "\n",
    "    g.fig.set_size_inches(10,4)\n",
    "\n",
    "#     plt.gca().yaxis.set_major_formatter(mtick.FuncFormatter(lambda y, _: '{:.0%}'.format(y)))\n",
    "    \n",
    "    plt.legend(title=\"Stage\", loc = \"upper center\", ncol = 5,bbox_to_anchor=(0.5, 1.3))\n",
    "#     plt.xticks(rotation=15)\n",
    "    \n",
    "    plt.ylabel(\"Lines of Code\")\n",
    "    plt.xlabel(None)\n",
    "#     plt.title(\"Fraction of Code per Stage per Domain\")\n",
    "    \n",
    "    plt.tight_layout()\n",
    "    \n",
    "    plt.savefig(\"figs/per_domain_stage_counts.pdf\",bbox_inches=\"tight\",transparent = True)"
   ]
  },
  {
   "cell_type": "markdown",
   "metadata": {},
   "source": [
    "# Notebook Entropy and Citations\n",
    "Having a high entropy is significantly correlated with having more citations!"
   ]
  },
  {
   "cell_type": "code",
   "execution_count": 43,
   "metadata": {},
   "outputs": [],
   "source": [
    "per_nb_entropy = line_counts_with_domain.groupby([\"nb_id\"])[\"stage_fraction\"].apply(scipy.stats.entropy).rename(\"entropy\").reset_index()\n",
    "per_paper_entropy = notebooks_in_papers.merge(per_nb_entropy).groupby(\"paper_id\")[\"entropy\"].mean()\n",
    "entropy_reg = per_paper_entropy.reset_index().merge(to_ols, how = \"inner\", on = \"paper_id\")\n",
    "entropy_reg[\"entropy_z\"] = scipy.stats.mstats.zscore(entropy_reg[\"entropy\"])\n",
    "del entropy_reg[\"nb_id\"]"
   ]
  },
  {
   "cell_type": "code",
   "execution_count": 44,
   "metadata": {},
   "outputs": [
    {
     "name": "stdout",
     "output_type": "stream",
     "text": [
      "                  Generalized Linear Model Regression Results                  \n",
      "===============================================================================\n",
      "Dep. Variable:     n_inbound_citations   No. Observations:                 1092\n",
      "Model:                             GLM   Df Residuals:                     1085\n",
      "Model Family:         NegativeBinomial   Df Model:                            6\n",
      "Link Function:                     log   Scale:                          1.0000\n",
      "Method:                           IRLS   Log-Likelihood:                -3314.6\n",
      "Date:                 Thu, 13 Feb 2020   Deviance:                       2490.0\n",
      "Time:                         12:19:39   Pearson chi2:                 8.42e+03\n",
      "No. Iterations:                     14                                         \n",
      "Covariance Type:             nonrobust                                         \n",
      "====================================================================================\n",
      "                       coef    std err          z      P>|z|      [0.025      0.975]\n",
      "------------------------------------------------------------------------------------\n",
      "const               -1.2708      0.106    -12.040      0.000      -1.478      -1.064\n",
      "year_x               0.6259      0.023     26.876      0.000       0.580       0.672\n",
      "entropy_z            0.3259      0.034      9.725      0.000       0.260       0.392\n",
      "Biology              1.8894      0.100     18.853      0.000       1.693       2.086\n",
      "Computer Science     1.8878      0.084     22.379      0.000       1.722       2.053\n",
      "Mathematics          1.7236      0.112     15.437      0.000       1.505       1.942\n",
      "Medicine             1.3781      0.313      4.399      0.000       0.764       1.992\n",
      "====================================================================================\n"
     ]
    },
    {
     "name": "stderr",
     "output_type": "stream",
     "text": [
      "/homes/gws/mikeam/anaconda3/envs/analysis/lib/python3.7/site-packages/numpy/core/fromnumeric.py:2389: FutureWarning: Method .ptp is deprecated and will be removed in a future version. Use numpy.ptp instead.\n",
      "  return ptp(axis=axis, out=out, **kwargs)\n"
     ]
    },
    {
     "data": {
      "text/plain": [
       "<statsmodels.genmod.generalized_linear_model.GLMResultsWrapper at 0x7fe2edddc080>"
      ]
     },
     "execution_count": 44,
     "metadata": {},
     "output_type": "execute_result"
    }
   ],
   "source": [
    "entropy_reg_y = \"n_inbound_citations\"\n",
    "entropy_reg_X = [\"year_x\",\"entropy_z\"] + list(one_hot_domains.columns[:-1]) \n",
    "get_GLM_fit(entropy_reg[entropy_reg_y],entropy_reg.loc[:,entropy_reg_X],family = sm.families.NegativeBinomial())"
   ]
  },
  {
   "cell_type": "markdown",
   "metadata": {},
   "source": [
    "# Why does entropy matter?"
   ]
  },
  {
   "cell_type": "code",
   "execution_count": 45,
   "metadata": {},
   "outputs": [],
   "source": [
    "line_counts_with_domain.head()\n",
    "per_nb_stage_sizes = pd.pivot_table(line_count_per_nb_per_stage, index = [\"nb_id\"], \n",
    "                             columns = \"readable_label\", values = \"n_lines_stage\").reset_index()\n",
    "per_paper_stage_sizes = notebooks_in_papers.merge(per_nb_stage_sizes).groupby(\"paper_id\").sum()\n",
    "del per_paper_stage_sizes[\"nb_id\"]"
   ]
  },
  {
   "cell_type": "code",
   "execution_count": 46,
   "metadata": {},
   "outputs": [
    {
     "data": {
      "text/html": [
       "<div>\n",
       "<style scoped>\n",
       "    .dataframe tbody tr th:only-of-type {\n",
       "        vertical-align: middle;\n",
       "    }\n",
       "\n",
       "    .dataframe tbody tr th {\n",
       "        vertical-align: top;\n",
       "    }\n",
       "\n",
       "    .dataframe thead th {\n",
       "        text-align: right;\n",
       "    }\n",
       "</style>\n",
       "<table border=\"1\" class=\"dataframe\">\n",
       "  <thead>\n",
       "    <tr style=\"text-align: right;\">\n",
       "      <th></th>\n",
       "      <th>EVALUATE</th>\n",
       "      <th>EXPLORE</th>\n",
       "      <th>IMPORT</th>\n",
       "      <th>MODEL</th>\n",
       "      <th>WRANGLE</th>\n",
       "    </tr>\n",
       "    <tr>\n",
       "      <th>paper_id</th>\n",
       "      <th></th>\n",
       "      <th></th>\n",
       "      <th></th>\n",
       "      <th></th>\n",
       "      <th></th>\n",
       "    </tr>\n",
       "  </thead>\n",
       "  <tbody>\n",
       "    <tr>\n",
       "      <th>17355.0</th>\n",
       "      <td>10.0</td>\n",
       "      <td>71.0</td>\n",
       "      <td>38.0</td>\n",
       "      <td>67.0</td>\n",
       "      <td>49.0</td>\n",
       "    </tr>\n",
       "    <tr>\n",
       "      <th>33504.0</th>\n",
       "      <td>4.0</td>\n",
       "      <td>35.0</td>\n",
       "      <td>24.0</td>\n",
       "      <td>14.0</td>\n",
       "      <td>33.0</td>\n",
       "    </tr>\n",
       "    <tr>\n",
       "      <th>58913.0</th>\n",
       "      <td>0.0</td>\n",
       "      <td>38.0</td>\n",
       "      <td>20.0</td>\n",
       "      <td>0.0</td>\n",
       "      <td>30.0</td>\n",
       "    </tr>\n",
       "    <tr>\n",
       "      <th>60945.0</th>\n",
       "      <td>108.0</td>\n",
       "      <td>132.0</td>\n",
       "      <td>35.0</td>\n",
       "      <td>135.0</td>\n",
       "      <td>130.0</td>\n",
       "    </tr>\n",
       "    <tr>\n",
       "      <th>91460.0</th>\n",
       "      <td>82.0</td>\n",
       "      <td>140.0</td>\n",
       "      <td>38.0</td>\n",
       "      <td>44.0</td>\n",
       "      <td>125.0</td>\n",
       "    </tr>\n",
       "  </tbody>\n",
       "</table>\n",
       "</div>"
      ],
      "text/plain": [
       "          EVALUATE  EXPLORE  IMPORT  MODEL  WRANGLE\n",
       "paper_id                                           \n",
       "17355.0       10.0     71.0    38.0   67.0     49.0\n",
       "33504.0        4.0     35.0    24.0   14.0     33.0\n",
       "58913.0        0.0     38.0    20.0    0.0     30.0\n",
       "60945.0      108.0    132.0    35.0  135.0    130.0\n",
       "91460.0       82.0    140.0    38.0   44.0    125.0"
      ]
     },
     "execution_count": 46,
     "metadata": {},
     "output_type": "execute_result"
    }
   ],
   "source": [
    "per_paper_stage_sizes.head()"
   ]
  },
  {
   "cell_type": "markdown",
   "metadata": {},
   "source": [
    "## Citations ~ Raw Stage Length "
   ]
  },
  {
   "cell_type": "code",
   "execution_count": 47,
   "metadata": {},
   "outputs": [
    {
     "name": "stdout",
     "output_type": "stream",
     "text": [
      "                  Generalized Linear Model Regression Results                  \n",
      "===============================================================================\n",
      "Dep. Variable:     n_inbound_citations   No. Observations:                 1092\n",
      "Model:                             GLM   Df Residuals:                     1081\n",
      "Model Family:         NegativeBinomial   Df Model:                           10\n",
      "Link Function:                     log   Scale:                          1.0000\n",
      "Method:                           IRLS   Log-Likelihood:                -3294.3\n",
      "Date:                 Thu, 13 Feb 2020   Deviance:                       2449.4\n",
      "Time:                         12:19:47   Pearson chi2:                 8.09e+03\n",
      "No. Iterations:                     15                                         \n",
      "Covariance Type:             nonrobust                                         \n",
      "====================================================================================\n",
      "                       coef    std err          z      P>|z|      [0.025      0.975]\n",
      "------------------------------------------------------------------------------------\n",
      "const               -1.2462      0.110    -11.360      0.000      -1.461      -1.031\n",
      "year_x               0.6398      0.024     26.885      0.000       0.593       0.686\n",
      "IMPORT            9.291e-05   3.48e-05      2.669      0.008    2.47e-05       0.000\n",
      "WRANGLE          -4.652e-06   3.45e-05     -0.135      0.893   -7.24e-05    6.31e-05\n",
      "EXPLORE          -8.498e-05   2.02e-05     -4.201      0.000      -0.000   -4.53e-05\n",
      "MODEL             6.399e-05   7.33e-05      0.874      0.382   -7.96e-05       0.000\n",
      "EVALUATE          7.302e-05      0.000      0.635      0.525      -0.000       0.000\n",
      "Biology              1.7034      0.103     16.609      0.000       1.502       1.904\n",
      "Computer Science     1.7093      0.091     18.844      0.000       1.532       1.887\n",
      "Mathematics          1.7480      0.114     15.289      0.000       1.524       1.972\n",
      "Medicine             1.2178      0.317      3.836      0.000       0.596       1.840\n",
      "====================================================================================\n"
     ]
    },
    {
     "data": {
      "text/plain": [
       "<statsmodels.genmod.generalized_linear_model.GLMResultsWrapper at 0x7fe2ec41f1d0>"
      ]
     },
     "execution_count": 47,
     "metadata": {},
     "output_type": "execute_result"
    }
   ],
   "source": [
    "to_size_reg = per_paper_stage_sizes.merge(to_ols, on = \"paper_id\")\n",
    "\n",
    "to_size_reg_X = [\"year_x\",\"IMPORT\",\"WRANGLE\",\"EXPLORE\",\"MODEL\",\"EVALUATE\"] + list(one_hot_domains.columns[:-1]) \n",
    "to_size_reg_y = \"n_inbound_citations\"\n",
    "\n",
    "\n",
    "\n",
    "get_GLM_fit(to_size_reg[to_size_reg_y],to_size_reg[to_size_reg_X],family = sm.families.NegativeBinomial())"
   ]
  },
  {
   "cell_type": "markdown",
   "metadata": {},
   "source": [
    "## Citations ~ Stage Fractions"
   ]
  },
  {
   "cell_type": "code",
   "execution_count": 48,
   "metadata": {},
   "outputs": [
    {
     "name": "stdout",
     "output_type": "stream",
     "text": [
      "                  Generalized Linear Model Regression Results                  \n",
      "===============================================================================\n",
      "Dep. Variable:     n_inbound_citations   No. Observations:                 1092\n",
      "Model:                             GLM   Df Residuals:                     1082\n",
      "Model Family:         NegativeBinomial   Df Model:                            9\n",
      "Link Function:                     log   Scale:                          1.0000\n",
      "Method:                           IRLS   Log-Likelihood:                -3299.8\n",
      "Date:                 Thu, 13 Feb 2020   Deviance:                       2460.4\n",
      "Time:                         12:19:56   Pearson chi2:                 8.17e+03\n",
      "No. Iterations:                     15                                         \n",
      "Covariance Type:             nonrobust                                         \n",
      "====================================================================================\n",
      "                       coef    std err          z      P>|z|      [0.025      0.975]\n",
      "------------------------------------------------------------------------------------\n",
      "const                0.5119      0.318      1.610      0.107      -0.111       1.135\n",
      "year_x               0.6396      0.023     27.277      0.000       0.594       0.686\n",
      "IMPORT               0.7068      0.415      1.701      0.089      -0.107       1.521\n",
      "WRANGLE             -1.7463      0.366     -4.773      0.000      -2.463      -1.029\n",
      "EXPLORE             -2.3465      0.326     -7.202      0.000      -2.985      -1.708\n",
      "MODEL               -2.3918      0.389     -6.156      0.000      -3.153      -1.630\n",
      "Biology              1.7298      0.102     16.902      0.000       1.529       1.930\n",
      "Computer Science     1.7007      0.090     18.992      0.000       1.525       1.876\n",
      "Mathematics          1.7017      0.114     14.937      0.000       1.478       1.925\n",
      "Medicine             1.1625      0.318      3.651      0.000       0.539       1.787\n",
      "====================================================================================\n"
     ]
    },
    {
     "data": {
      "text/plain": [
       "<statsmodels.genmod.generalized_linear_model.GLMResultsWrapper at 0x7fe2ed9970b8>"
      ]
     },
     "execution_count": 48,
     "metadata": {},
     "output_type": "execute_result"
    }
   ],
   "source": [
    "per_paper_stage_fracs = per_paper_stage_sizes.div(per_paper_stage_sizes.sum(axis = 1), axis = 0).reset_index()\n",
    "\n",
    "to_frac_reg = per_paper_stage_fracs.merge(to_ols, on = \"paper_id\")\n",
    "to_frac_reg_X = [\"year_x\"] + ORDERED_LABELS[:-2]+ list(one_hot_domains.columns[:-1]) \n",
    "to_frac_reg_y = \"n_inbound_citations\"\n",
    "\n",
    "\n",
    "get_GLM_fit(to_frac_reg[to_frac_reg_y],to_frac_reg[to_frac_reg_X],family = sm.families.NegativeBinomial())"
   ]
  },
  {
   "cell_type": "markdown",
   "metadata": {},
   "source": [
    "## Citations ~ Entropy and Fractions"
   ]
  },
  {
   "cell_type": "code",
   "execution_count": 49,
   "metadata": {},
   "outputs": [
    {
     "name": "stdout",
     "output_type": "stream",
     "text": [
      "                  Generalized Linear Model Regression Results                  \n",
      "===============================================================================\n",
      "Dep. Variable:     n_inbound_citations   No. Observations:                 1092\n",
      "Model:                             GLM   Df Residuals:                     1081\n",
      "Model Family:         NegativeBinomial   Df Model:                           10\n",
      "Link Function:                     log   Scale:                          1.0000\n",
      "Method:                           IRLS   Log-Likelihood:                -3282.2\n",
      "Date:                 Thu, 13 Feb 2020   Deviance:                       2425.2\n",
      "Time:                         12:19:56   Pearson chi2:                 7.35e+03\n",
      "No. Iterations:                     15                                         \n",
      "Covariance Type:             nonrobust                                         \n",
      "====================================================================================\n",
      "                       coef    std err          z      P>|z|      [0.025      0.975]\n",
      "------------------------------------------------------------------------------------\n",
      "const               -0.2714      0.336     -0.807      0.419      -0.930       0.388\n",
      "year_x               0.6576      0.024     27.895      0.000       0.611       0.704\n",
      "entropy              0.1983      0.030      6.620      0.000       0.140       0.257\n",
      "WRANGLE             -1.2838      0.370     -3.473      0.001      -2.008      -0.559\n",
      "IMPORT               0.4274      0.418      1.022      0.307      -0.392       1.247\n",
      "EXPLORE             -1.8443      0.333     -5.534      0.000      -2.497      -1.191\n",
      "MODEL               -2.0203      0.391     -5.163      0.000      -2.787      -1.253\n",
      "Biology              1.7947      0.104     17.234      0.000       1.591       1.999\n",
      "Computer Science     1.6553      0.090     18.332      0.000       1.478       1.832\n",
      "Mathematics          1.6326      0.114     14.262      0.000       1.408       1.857\n",
      "Medicine             1.2428      0.318      3.914      0.000       0.621       1.865\n",
      "====================================================================================\n"
     ]
    }
   ],
   "source": [
    "to_frac_and_ent_reg = per_paper_stage_fracs.merge(entropy_reg,on = \"paper_id\")\n",
    "to_frac_and_ent_reg_res = get_GLM_fit(to_frac_and_ent_reg[\"n_inbound_citations\"],\n",
    "            to_frac_and_ent_reg[[\"year_x\",\"entropy\",\"WRANGLE\",\"IMPORT\",\"EXPLORE\",\"MODEL\"] + list(one_hot_domains.columns[:-1]) ],family = sm.families.NegativeBinomial())"
   ]
  },
  {
   "cell_type": "markdown",
   "metadata": {},
   "source": [
    "## Citations ~ Entropy and Raw Lengths"
   ]
  },
  {
   "cell_type": "code",
   "execution_count": 50,
   "metadata": {},
   "outputs": [
    {
     "name": "stdout",
     "output_type": "stream",
     "text": [
      "                  Generalized Linear Model Regression Results                  \n",
      "===============================================================================\n",
      "Dep. Variable:     n_inbound_citations   No. Observations:                 1092\n",
      "Model:                             GLM   Df Residuals:                     1080\n",
      "Model Family:         NegativeBinomial   Df Model:                           11\n",
      "Link Function:                     log   Scale:                          1.0000\n",
      "Method:                           IRLS   Log-Likelihood:                -3272.5\n",
      "Date:                 Thu, 13 Feb 2020   Deviance:                       2405.9\n",
      "Time:                         12:19:56   Pearson chi2:                 7.09e+03\n",
      "No. Iterations:                     15                                         \n",
      "Covariance Type:             nonrobust                                         \n",
      "====================================================================================\n",
      "                       coef    std err          z      P>|z|      [0.025      0.975]\n",
      "------------------------------------------------------------------------------------\n",
      "const               -0.3759      0.105     -3.584      0.000      -0.581      -0.170\n",
      "year_x               0.6406      0.024     26.863      0.000       0.594       0.687\n",
      "entropy              0.3077      0.045      6.853      0.000       0.220       0.396\n",
      "IMPORT            4.546e-05    3.5e-05      1.298      0.194   -2.32e-05       0.000\n",
      "EXPLORE          -8.187e-05   2.04e-05     -4.020      0.000      -0.000    -4.2e-05\n",
      "MODEL             7.088e-05   7.45e-05      0.951      0.342   -7.52e-05       0.000\n",
      "EVALUATE          2.778e-05      0.000      0.239      0.811      -0.000       0.000\n",
      "WRANGLE          -5.266e-05   3.66e-05     -1.440      0.150      -0.000     1.9e-05\n",
      "Biology              0.4299      0.086      4.979      0.000       0.261       0.599\n",
      "Computer Science     0.3493      0.076      4.571      0.000       0.200       0.499\n",
      "Mathematics          0.2604      0.095      2.733      0.006       0.074       0.447\n",
      "Medicine            -0.0756      0.258     -0.293      0.770      -0.581       0.430\n",
      "Physics             -1.3399      0.085    -15.855      0.000      -1.506      -1.174\n",
      "====================================================================================\n"
     ]
    },
    {
     "data": {
      "text/plain": [
       "<statsmodels.genmod.generalized_linear_model.GLMResultsWrapper at 0x7fe2ed536240>"
      ]
     },
     "execution_count": 50,
     "metadata": {},
     "output_type": "execute_result"
    }
   ],
   "source": [
    "to_size_and_ent_reg = per_paper_stage_sizes.merge(entropy_reg, on = \"paper_id\")\n",
    "get_GLM_fit(to_size_and_ent_reg[\"n_inbound_citations\"],\n",
    "    to_size_and_ent_reg[[\"year_x\",\"entropy\",\"IMPORT\",\"EXPLORE\",\"MODEL\",\"EVALUATE\",\"WRANGLE\"] + list(one_hot_domains.columns) ],family = sm.families.NegativeBinomial())"
   ]
  },
  {
   "cell_type": "markdown",
   "metadata": {},
   "source": [
    "## Citations ~ Entropy and Z Score of Raw Lengths"
   ]
  },
  {
   "cell_type": "code",
   "execution_count": 51,
   "metadata": {},
   "outputs": [
    {
     "name": "stdout",
     "output_type": "stream",
     "text": [
      "                  Generalized Linear Model Regression Results                  \n",
      "===============================================================================\n",
      "Dep. Variable:     n_inbound_citations   No. Observations:                 1092\n",
      "Model:                             GLM   Df Residuals:                     1080\n",
      "Model Family:         NegativeBinomial   Df Model:                           11\n",
      "Link Function:                     log   Scale:                          1.0000\n",
      "Method:                           IRLS   Log-Likelihood:                -3272.5\n",
      "Date:                 Thu, 13 Feb 2020   Deviance:                       2405.9\n",
      "Time:                         12:19:56   Pearson chi2:                 7.09e+03\n",
      "No. Iterations:                     13                                         \n",
      "Covariance Type:             nonrobust                                         \n",
      "====================================================================================\n",
      "                       coef    std err          z      P>|z|      [0.025      0.975]\n",
      "------------------------------------------------------------------------------------\n",
      "const                0.0280      0.085      0.329      0.742      -0.139       0.195\n",
      "year_x               0.6406      0.024     26.863      0.000       0.594       0.687\n",
      "entropy              0.3631      0.053      6.853      0.000       0.259       0.467\n",
      "IMPORT               0.1230      0.095      1.298      0.194      -0.063       0.309\n",
      "EXPLORE             -0.4325      0.108     -4.020      0.000      -0.643      -0.222\n",
      "MODEL                0.1652      0.174      0.951      0.342      -0.175       0.506\n",
      "EVALUATE             0.0537      0.225      0.239      0.811      -0.387       0.494\n",
      "WRANGLE             -0.1437      0.100     -1.440      0.150      -0.339       0.052\n",
      "Biology              0.5107      0.086      5.919      0.000       0.342       0.680\n",
      "Computer Science     0.4301      0.076      5.654      0.000       0.281       0.579\n",
      "Mathematics          0.3412      0.094      3.623      0.000       0.157       0.526\n",
      "Medicine             0.0052      0.258      0.020      0.984      -0.500       0.510\n",
      "Physics             -1.2592      0.083    -15.237      0.000      -1.421      -1.097\n",
      "====================================================================================\n"
     ]
    },
    {
     "data": {
      "text/plain": [
       "<statsmodels.genmod.generalized_linear_model.GLMResultsWrapper at 0x7fe2ecc5cda0>"
      ]
     },
     "execution_count": 51,
     "metadata": {},
     "output_type": "execute_result"
    }
   ],
   "source": [
    "per_paper_z_stage_sizes = per_paper_stage_sizes.apply(scipy.stats.mstats.zscore)\n",
    "to_z_stage_size_and_ent_reg = per_paper_z_stage_sizes.merge(entropy_reg, on = \"paper_id\")\n",
    "to_z_stage_size_and_ent_reg[\"entropy\"] = scipy.stats.mstats.zscore(to_z_stage_size_and_ent_reg[\"entropy\"])\n",
    "get_GLM_fit(to_z_stage_size_and_ent_reg[\"n_inbound_citations\"],\n",
    "           to_z_stage_size_and_ent_reg[[\"year_x\",\"entropy\",\"IMPORT\",\"EXPLORE\",\"MODEL\",\"EVALUATE\",\"WRANGLE\"] + list(one_hot_domains.columns) ],family = sm.families.NegativeBinomial())"
   ]
  },
  {
   "cell_type": "markdown",
   "metadata": {},
   "source": [
    "# Domain Interactions\n",
    "## Interactions of Notebook Stage Length and Domain"
   ]
  },
  {
   "cell_type": "code",
   "execution_count": 52,
   "metadata": {},
   "outputs": [
    {
     "name": "stdout",
     "output_type": "stream",
     "text": [
      "                  Generalized Linear Model Regression Results                  \n",
      "===============================================================================\n",
      "Dep. Variable:     n_inbound_citations   No. Observations:                 1092\n",
      "Model:                             GLM   Df Residuals:                     1062\n",
      "Model Family:         NegativeBinomial   Df Model:                           29\n",
      "Link Function:                     log   Scale:                          1.0000\n",
      "Method:                           IRLS   Log-Likelihood:                -3523.9\n",
      "Date:                 Thu, 13 Feb 2020   Deviance:                       2908.6\n",
      "Time:                         12:19:56   Pearson chi2:                 9.91e+03\n",
      "No. Iterations:                     54                                         \n",
      "Covariance Type:             nonrobust                                         \n",
      "=============================================================================================\n",
      "                                coef    std err          z      P>|z|      [0.025      0.975]\n",
      "---------------------------------------------------------------------------------------------\n",
      "Intercept                     1.0608      0.072     14.820      0.000       0.921       1.201\n",
      "Biology                       1.8961      0.112     16.989      0.000       1.677       2.115\n",
      "IMPORT                       -0.0017      0.001     -3.068      0.002      -0.003      -0.001\n",
      "Biology:IMPORT               -0.0006      0.001     -0.598      0.550      -0.002       0.001\n",
      "WRANGLE                       0.0014      0.000      3.624      0.000       0.001       0.002\n",
      "Biology:WRANGLE              -0.0006      0.000     -1.347      0.178      -0.001       0.000\n",
      "EXPLORE                      -0.0003      0.000     -2.923      0.003      -0.001      -0.000\n",
      "Biology:EXPLORE            2.352e-05      0.000      0.137      0.891      -0.000       0.000\n",
      "MODEL                     -4.636e-06      0.000     -0.015      0.988      -0.001       0.001\n",
      "Biology:MODEL                -0.0004      0.000     -1.059      0.289      -0.001       0.000\n",
      "EVALUATE                     -0.0001      0.000     -0.504      0.614      -0.001       0.000\n",
      "Biology:EVALUATE              0.0003      0.000      0.627      0.531      -0.001       0.001\n",
      "Computer_Science              1.8156      0.097     18.799      0.000       1.626       2.005\n",
      "Computer_Science:IMPORT       0.0019      0.001      3.248      0.001       0.001       0.003\n",
      "Computer_Science:WRANGLE     -0.0014      0.000     -3.617      0.000      -0.002      -0.001\n",
      "Computer_Science:EXPLORE      0.0002      0.000      1.130      0.259      -0.000       0.000\n",
      "Computer_Science:MODEL    -4.489e-05      0.000     -0.112      0.911      -0.001       0.001\n",
      "Computer_Science:EVALUATE     0.0005      0.000      0.994      0.320      -0.000       0.001\n",
      "Mathematics                   1.8359      0.125     14.708      0.000       1.591       2.081\n",
      "Mathematics:IMPORT            0.0020      0.001      3.398      0.001       0.001       0.003\n",
      "Mathematics:WRANGLE          -0.0016      0.000     -4.112      0.000      -0.002      -0.001\n",
      "Mathematics:EXPLORE           0.0005      0.000      3.531      0.000       0.000       0.001\n",
      "Mathematics:MODEL            -0.0006      0.000     -1.702      0.089      -0.001    9.73e-05\n",
      "Mathematics:EVALUATE          0.0005      0.000      1.240      0.215      -0.000       0.001\n",
      "Medicine                      0.0774      0.514      0.151      0.880      -0.930       1.085\n",
      "Medicine:IMPORT               0.0228      0.013      1.689      0.091      -0.004       0.049\n",
      "Medicine:WRANGLE             -0.0132      0.005     -2.826      0.005      -0.022      -0.004\n",
      "Medicine:EXPLORE              0.0082      0.004      1.906      0.057      -0.000       0.017\n",
      "Medicine:MODEL                0.0065      0.005      1.233      0.218      -0.004       0.017\n",
      "Medicine:EVALUATE             0.0024      0.010      0.241      0.810      -0.017       0.022\n",
      "=============================================================================================\n"
     ]
    }
   ],
   "source": [
    "to_size_and_ent_reg = to_size_and_ent_reg.rename(columns = {\"Computer Science\":\"Computer_Science\"})\n",
    "def get_interaction_formula(x1_cols,x2_cols):\n",
    "    to_return = \"\"\n",
    "    for x1 in x1_cols:\n",
    "        for x2 in x2_cols:\n",
    "            to_return = to_return + \"{}*{} + \".format(x1,x2)\n",
    "    return to_return[:-2]   \n",
    "\n",
    "domain_interactions = get_interaction_formula([\"Biology\",\"Computer_Science\",\"Mathematics\",\"Medicine\"], \n",
    "                                              ORDERED_LABELS[:-1])\n",
    "\n",
    "domain_interactions_formula = \"n_inbound_citations ~ \" + domain_interactions \n",
    "print(sm.GLM.from_formula(domain_interactions_formula, data = to_size_and_ent_reg, \n",
    "                          family = sm.families.NegativeBinomial()).fit().summary())"
   ]
  },
  {
   "cell_type": "code",
   "execution_count": 53,
   "metadata": {},
   "outputs": [
    {
     "data": {
      "text/plain": [
       "0       1\n",
       "1       1\n",
       "2       1\n",
       "3       1\n",
       "4       1\n",
       "       ..\n",
       "1087    1\n",
       "1088    1\n",
       "1089    1\n",
       "1090    1\n",
       "1091    1\n",
       "Length: 1092, dtype: int64"
      ]
     },
     "execution_count": 53,
     "metadata": {},
     "output_type": "execute_result"
    }
   ],
   "source": [
    "to_size_and_ent_reg[[\"Biology\",\"Computer_Science\",\"Physics\",\"Medicine\",\"Mathematics\"]].sum(axis=1)"
   ]
  },
  {
   "cell_type": "markdown",
   "metadata": {},
   "source": [
    "## Interaction Effects With Z-Scores of Length:"
   ]
  },
  {
   "cell_type": "code",
   "execution_count": 54,
   "metadata": {},
   "outputs": [
    {
     "name": "stdout",
     "output_type": "stream",
     "text": [
      "                  Generalized Linear Model Regression Results                  \n",
      "===============================================================================\n",
      "Dep. Variable:     n_inbound_citations   No. Observations:                 1092\n",
      "Model:                             GLM   Df Residuals:                     1062\n",
      "Model Family:         NegativeBinomial   Df Model:                           29\n",
      "Link Function:                     log   Scale:                          1.0000\n",
      "Method:                           IRLS   Log-Likelihood:                -3523.9\n",
      "Date:                 Thu, 13 Feb 2020   Deviance:                       2908.6\n",
      "Time:                         12:19:57   Pearson chi2:                 9.91e+03\n",
      "No. Iterations:                     54                                         \n",
      "Covariance Type:             nonrobust                                         \n",
      "=============================================================================================\n",
      "                                coef    std err          z      P>|z|      [0.025      0.975]\n",
      "---------------------------------------------------------------------------------------------\n",
      "Intercept                     0.5476      0.280      1.959      0.050      -0.000       1.096\n",
      "Biology                       0.7119      0.468      1.523      0.128      -0.204       1.628\n",
      "IMPORT                       -4.6959      1.531     -3.068      0.002      -7.696      -1.696\n",
      "Biology:IMPORT               -1.5389      2.575     -0.598      0.550      -6.586       3.508\n",
      "WRANGLE                       3.7018      1.021      3.624      0.000       1.700       5.704\n",
      "Biology:WRANGLE              -1.5344      1.139     -1.347      0.178      -3.766       0.698\n",
      "EXPLORE                      -1.8414      0.630     -2.923      0.003      -3.076      -0.607\n",
      "Biology:EXPLORE               0.1242      0.905      0.137      0.891      -1.650       1.898\n",
      "MODEL                        -0.0108      0.712     -0.015      0.988      -1.407       1.385\n",
      "Biology:MODEL                -0.8847      0.835     -1.059      0.289      -2.521       0.752\n",
      "EVALUATE                     -0.2462      0.488     -0.504      0.614      -1.203       0.711\n",
      "Biology:EVALUATE              0.6047      0.965      0.627      0.531      -1.286       2.495\n",
      "Computer_Science              2.2097      0.292      7.573      0.000       1.638       2.782\n",
      "Computer_Science:IMPORT       5.0736      1.562      3.248      0.001       2.012       8.135\n",
      "Computer_Science:WRANGLE     -3.9001      1.078     -3.617      0.000      -6.014      -1.787\n",
      "Computer_Science:EXPLORE      0.9132      0.809      1.130      0.259      -0.671       2.498\n",
      "Computer_Science:MODEL       -0.1046      0.933     -0.112      0.911      -1.933       1.724\n",
      "Computer_Science:EVALUATE     0.8917      0.897      0.994      0.320      -0.866       2.649\n",
      "Mathematics                   2.1694      0.297      7.295      0.000       1.586       2.752\n",
      "Mathematics:IMPORT            5.2976      1.559      3.398      0.001       2.242       8.354\n",
      "Mathematics:WRANGLE          -4.3672      1.062     -4.112      0.000      -6.449      -2.285\n",
      "Mathematics:EXPLORE           2.8075      0.795      3.531      0.000       1.249       4.366\n",
      "Mathematics:MODEL            -1.4938      0.878     -1.702      0.089      -3.214       0.227\n",
      "Mathematics:EVALUATE          0.9167      0.739      1.240      0.215      -0.532       2.366\n",
      "Medicine                     24.7401     10.526      2.350      0.019       4.110      45.370\n",
      "Medicine:IMPORT              61.5397     36.430      1.689      0.091      -9.861     132.940\n",
      "Medicine:WRANGLE            -35.9390     12.719     -2.826      0.005     -60.869     -11.009\n",
      "Medicine:EXPLORE             43.3164     22.730      1.906      0.057      -1.234      87.866\n",
      "Medicine:MODEL               15.0953     12.246      1.233      0.218      -8.906      39.097\n",
      "Medicine:EVALUATE             4.6241     19.211      0.241      0.810     -33.028      42.276\n",
      "=============================================================================================\n"
     ]
    }
   ],
   "source": [
    "to_z_stage_size_and_ent_reg = to_z_stage_size_and_ent_reg\\\n",
    "                            .rename(columns = {\"Computer Science\":\"Computer_Science\"})\\\n",
    "            \n",
    "to_z_stage_size_and_ent_reg_res = sm.GLM.from_formula(domain_interactions_formula, data = to_z_stage_size_and_ent_reg,\n",
    "                              family = sm.families.NegativeBinomial()).fit()\n",
    "print(to_z_stage_size_and_ent_reg_res.summary())"
   ]
  },
  {
   "cell_type": "code",
   "execution_count": 55,
   "metadata": {},
   "outputs": [
    {
     "data": {
      "text/plain": [
       "Intercept                     0.547599\n",
       "Biology                       0.711882\n",
       "IMPORT                       -4.695851\n",
       "Biology:IMPORT               -1.538894\n",
       "WRANGLE                       3.701754\n",
       "Biology:WRANGLE              -1.534374\n",
       "EXPLORE                      -1.841390\n",
       "Biology:EXPLORE               0.124226\n",
       "MODEL                        -0.010805\n",
       "Biology:MODEL                -0.884713\n",
       "EVALUATE                     -0.246217\n",
       "Biology:EVALUATE              0.604653\n",
       "Computer_Science              2.209720\n",
       "Computer_Science:IMPORT       5.073574\n",
       "Computer_Science:WRANGLE     -3.900065\n",
       "Computer_Science:EXPLORE      0.913220\n",
       "Computer_Science:MODEL       -0.104640\n",
       "Computer_Science:EVALUATE     0.891699\n",
       "Mathematics                   2.169372\n",
       "Mathematics:IMPORT            5.297553\n",
       "Mathematics:WRANGLE          -4.367201\n",
       "Mathematics:EXPLORE           2.807474\n",
       "Mathematics:MODEL            -1.493751\n",
       "Mathematics:EVALUATE          0.916694\n",
       "Medicine                     24.740106\n",
       "Medicine:IMPORT              61.539652\n",
       "Medicine:WRANGLE            -35.939033\n",
       "Medicine:EXPLORE             43.316370\n",
       "Medicine:MODEL               15.095264\n",
       "Medicine:EVALUATE             4.624067\n",
       "dtype: float64"
      ]
     },
     "execution_count": 55,
     "metadata": {},
     "output_type": "execute_result"
    }
   ],
   "source": [
    "to_z_stage_size_and_ent_reg_res.params"
   ]
  },
  {
   "cell_type": "code",
   "execution_count": 56,
   "metadata": {},
   "outputs": [],
   "source": [
    "def results_to_df(result):\n",
    "    df = pd.read_html(result.summary().tables[1].as_html(),header=0,index_col=0)[0]\n",
    "    df = df.rename(columns = {\"[0.025\":\"CI_Low\", \"0.975]\":\"CI_High\"})\n",
    "    return df\n",
    "\n",
    "results_df = results_to_df(to_z_stage_size_and_ent_reg_res)\n",
    "results_df[\"domain\"] = results_df.index.str.split(\":\").str[0]\n",
    "results_df[\"stage\"] = results_df.index.str.split(\":\").str[1]\n",
    "results_df = results_df.dropna()\n",
    "results_df = results_df.replace(\"Computer_Science\",\"Computer Science\")\n",
    "\n",
    "#THere's nothing significant for Medicine, so we remove it:\n",
    "results_df = results_df[results_df[\"domain\"].isin([\"Biology\",\"Computer Science\",\"Mathematics\"])]\n",
    "results_df[\"stage_order\"] = results_df[\"stage\"].map(lambda x: ORDERED_LABELS[:-1].index(x))"
   ]
  },
  {
   "cell_type": "code",
   "execution_count": 58,
   "metadata": {},
   "outputs": [
    {
     "data": {
      "image/png": "[encoded data removed]",
      "text/plain": [
       "<Figure size 504x360 with 1 Axes>"
      ]
     },
     "metadata": {
      "needs_background": "light"
     },
     "output_type": "display_data"
    }
   ],
   "source": [
    " with plt.style.context(\"publications.mplstyle\"):\n",
    "    g = sns.catplot(data = results_df, y = \"coef\", hue = \"domain\",kind = \"bar\",\n",
    "                    x = \"stage\", order=ORDERED_LABELS[:-1], palette = \"Set3\",\n",
    "                    legend = False,edgecolor=\".2\")\n",
    "\n",
    "    g.fig.set_size_inches(7,5)\n",
    "    \n",
    "    plt.legend(title=\"Domain\", ncol = 3 , loc = 'upper center',bbox_to_anchor=(0.5,1.5))\n",
    "\n",
    "    two_std_errs = (results_df.sort_values([\"stage_order\",\"domain\"])[\"std err\"] * 2).tolist()\n",
    "    plt.axhline(0, color='black', lw=1)\n",
    "    \n",
    "    for i,patch in enumerate(g.axes.flatten()[0].patches):\n",
    "        # get_width pulls left or right; get_y pushes up or down\n",
    "        \n",
    "        err_bar_x = patch.get_x() + (patch.get_width()/2)\n",
    "        err_bar_y = patch.get_y() + (patch.get_height())\n",
    "\n",
    "        plt.errorbar(yerr = two_std_errs[i], x = err_bar_x, y =  err_bar_y, c= \"black\")\n",
    "\n",
    "    \n",
    "    plt.ylabel(r\"$ \\beta_i $\", rotation = 0)\n",
    "    plt.xlabel(\"\")\n",
    "    plt.xticks(None, rotation = 40)\n",
    "    \n",
    "#     plt.title(\"Fraction of Code per Stage per Domain\")\n",
    "    \n",
    "    plt.tight_layout()\n",
    "    plt.savefig(\"figs/per_domain_betas.pdf\",bbox_inches=\"tight\",transparent = True)\n",
    "    "
   ]
  }
 ],
 "metadata": {
  "kernelspec": {
   "display_name": "Python 3",
   "language": "python",
   "name": "python3"
  },
  "language_info": {
   "codemirror_mode": {
    "name": "ipython",
    "version": 3
   },
   "file_extension": ".py",
   "mimetype": "text/x-python",
   "name": "python",
   "nbconvert_exporter": "python",
   "pygments_lexer": "ipython3",
   "version": "3.7.3"
  }
 },
 "nbformat": 4,
 "nbformat_minor": 4
}
