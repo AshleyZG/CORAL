{
 "cells": [
  {
   "cell_type": "markdown",
   "metadata": {},
   "source": [
    "# GORC-Dask\n",
    "This notebook uses Dask to load GORC and perform a regex search for references to github repositories."
   ]
  },
  {
   "cell_type": "code",
   "execution_count": 1,
   "metadata": {},
   "outputs": [],
   "source": [
    "import json\n",
    "import re\n",
    "import pickle\n",
    "import pandas as pd\n",
    "from fuzzywuzzy import process\n",
    "import numpy as np"
   ]
  },
  {
   "cell_type": "code",
   "execution_count": 2,
   "metadata": {},
   "outputs": [],
   "source": [
    "from dask.distributed import Client, LocalCluster\n",
    "cluster = LocalCluster()\n",
    "client = Client(cluster)"
   ]
  },
  {
   "cell_type": "code",
   "execution_count": 3,
   "metadata": {},
   "outputs": [],
   "source": [
    "import dask.bag as db"
   ]
  },
  {
   "cell_type": "code",
   "execution_count": 4,
   "metadata": {},
   "outputs": [],
   "source": [
    "papers = db.read_text(\"/projects/bdata/gorc/papers/*.jsonl\")"
   ]
  },
  {
   "cell_type": "code",
   "execution_count": 5,
   "metadata": {},
   "outputs": [],
   "source": [
    "GITHUB_REGEX = r\"\\b(?P<github>github\\.com\\S*(?:(?![\\.\\/\\\"\\]&\\)\\'<>[\\\\])\\S)+)\\b\"\n",
    "search_regex = re.compile(GITHUB_REGEX)\n",
    "def fetch_github(paper):\n",
    "    paper_loaded = json.loads(paper)\n",
    "    metadata = paper_loaded[\"metadata\"]\n",
    "    metadata[\"paper_id\"] = paper_loaded[\"paper_id\"]\n",
    "    \n",
    "    result = re.findall(search_regex,paper)\n",
    "    metadata[\"github_refs\"] = result\n",
    "    metadata[\"s2_pdf_hash\"] = paper_loaded[\"s2_pdf_hash\"]\n",
    "    \n",
    "    return metadata\n",
    "            \n",
    "github_links = papers.map(fetch_github)"
   ]
  },
  {
   "cell_type": "code",
   "execution_count": null,
   "metadata": {
    "deletable": false,
    "editable": false,
    "run_control": {
     "frozen": true
    }
   },
   "outputs": [],
   "source": [
    "result = github_links.compute()"
   ]
  },
  {
   "cell_type": "code",
   "execution_count": null,
   "metadata": {},
   "outputs": [],
   "source": [
    "gorc_github_refs = pd.DataFrame(github_links)"
   ]
  },
  {
   "cell_type": "code",
   "execution_count": null,
   "metadata": {},
   "outputs": [],
   "source": [
    "#Could do this better with regex\n",
    "def get_repo_name(github_url):\n",
    "    components = github_url.split(\"/\")\n",
    "    if len(components) > 2:\n",
    "        repo_name = components[1] + \"/\" + components[2]\n",
    "        return repo_name\n",
    "    else:\n",
    "        return np.nan\n",
    "gorc_github_refs[\"repo_names\"] = gorc_github_refs[\"github_refs\"].map(lambda x: list(map(get_repo_name,x)))"
   ]
  },
  {
   "cell_type": "code",
   "execution_count": null,
   "metadata": {},
   "outputs": [],
   "source": [
    "gorc_github_repo_names = [item for sublist in gorc_github_refs[\"repo_names\"] for item in sublist]"
   ]
  },
  {
   "cell_type": "code",
   "execution_count": null,
   "metadata": {},
   "outputs": [],
   "source": [
    "expanded_gorc_github_refs = [item for sublist in gorc_github_refs[\"github_refs\"] for item in sublist]"
   ]
  },
  {
   "cell_type": "code",
   "execution_count": null,
   "metadata": {},
   "outputs": [],
   "source": [
    "def expand_df_list(df,lst_col):\n",
    "    r = pd.DataFrame({\n",
    "          col:np.repeat(df[col].values, df[lst_col].str.len())\n",
    "          for col in df.columns.drop(lst_col)}\n",
    "        ).assign(**{lst_col:np.concatenate(df[lst_col].values)})[df.columns]\n",
    "    return r\n",
    "\n",
    "gorc_github_refs = expand_df_list(gorc_github_refs, \"repo_names\")\n",
    "gorc_github_refs = gorc_github_refs.rename(columns = {\"repo_names\":\"repo_name\"})"
   ]
  },
  {
   "cell_type": "code",
   "execution_count": null,
   "metadata": {},
   "outputs": [],
   "source": [
    "gorc_github_refs.to_csv(\"/projects/bdata/jupyter/gorc_github_refs.csv\")"
   ]
  },
  {
   "cell_type": "code",
   "execution_count": null,
   "metadata": {},
   "outputs": [],
   "source": [
    "len(gorc_github_refs[\"repo_name\"].drop_duplicates().dropna())"
   ]
  },
  {
   "cell_type": "code",
   "execution_count": null,
   "metadata": {},
   "outputs": [],
   "source": [
    "len(gorc_github_refs.drop_duplicates(\"paper_id\"))"
   ]
  },
  {
   "cell_type": "markdown",
   "metadata": {},
   "source": [
    "### Extract github repo metadata"
   ]
  },
  {
   "cell_type": "code",
   "execution_count": null,
   "metadata": {},
   "outputs": [],
   "source": [
    "notebook_info = pd.read_csv(\"/projects/bdata/jupyter/notebook_info/notebooks.csv\")"
   ]
  },
  {
   "cell_type": "code",
   "execution_count": null,
   "metadata": {},
   "outputs": [],
   "source": [
    "notebook_info.head()"
   ]
  },
  {
   "cell_type": "code",
   "execution_count": null,
   "metadata": {},
   "outputs": [],
   "source": [
    "repos = pd.read_csv(\"/projects/bdata/jupyter/notebook_info/repositories.csv\")\n",
    "repos[\"repo_name\"] = repos[\"owner_login\"] + \"/\" + repos[\"repo_name\"]"
   ]
  },
  {
   "cell_type": "code",
   "execution_count": null,
   "metadata": {},
   "outputs": [],
   "source": [
    "repos.head()"
   ]
  },
  {
   "cell_type": "code",
   "execution_count": null,
   "metadata": {},
   "outputs": [],
   "source": [
    "repos.to_csv(\"repos.csv\",index = False)\n",
    "gorc_github_refs.to_csv(\"gorc_github_refs.csv\",index = False)"
   ]
  },
  {
   "cell_type": "code",
   "execution_count": null,
   "metadata": {},
   "outputs": [],
   "source": [
    "mutual_reference = set(repos[\"repo_name\"]).intersection(set(gorc_github_repo_names))\n",
    "len(mutual_reference)"
   ]
  },
  {
   "cell_type": "code",
   "execution_count": null,
   "metadata": {},
   "outputs": [],
   "source": [
    "gorc_notebooks = (gorc_github_refs\n",
    "     .merge(repos, on = \"repo_name\", how =\"inner\")\n",
    "     .merge(notebook_info, on = \"repo_id\", how = \"inner\")\n",
    "     .drop_duplicates(\"nb_id\"))[\"nb_id\"]\n",
    "gorc_notebooks = \"nb_\" + gorc_notebooks.astype(str)\n",
    "gorc_notebooks.to_csv(\"academic_notebook_ids.csv\")"
   ]
  },
  {
   "cell_type": "code",
   "execution_count": null,
   "metadata": {},
   "outputs": [],
   "source": [
    "len(gorc_github_refs)"
   ]
  },
  {
   "cell_type": "code",
   "execution_count": null,
   "metadata": {},
   "outputs": [],
   "source": [
    "result_df.to_csv(\"gorc_github_refs.csv\")"
   ]
  },
  {
   "cell_type": "markdown",
   "metadata": {},
   "source": [
    "## What's some quick analysis we can do with these data?"
   ]
  },
  {
   "cell_type": "code",
   "execution_count": null,
   "metadata": {},
   "outputs": [],
   "source": [
    "metadata = pd.read_json()"
   ]
  },
  {
   "cell_type": "code",
   "execution_count": null,
   "metadata": {},
   "outputs": [],
   "source": [
    "metadata.iloc[0][\"items\"]"
   ]
  },
  {
   "cell_type": "code",
   "execution_count": null,
   "metadata": {},
   "outputs": [],
   "source": [
    "repo_metadata_jsons = db.read_text(\"/projects/bdata/jupyter/repository_metadata/*.json\")"
   ]
  },
  {
   "cell_type": "code",
   "execution_count": null,
   "metadata": {},
   "outputs": [],
   "source": [
    "def load_json_metadata(metadata_json):\n",
    "    #Remove fields that are stored as API references\n",
    "    metadata = json.loads(metadata_json)\n",
    "    result = {}\n",
    "    for k,v in metadata.items():\n",
    "        if not \"https://\" in str(v):\n",
    "            result[k] = v\n",
    "    return result\n",
    "\n",
    "repo_metadata = pd.DataFrame(repo_metadata_jsons.map(load_json_metadata).compute())"
   ]
  },
  {
   "cell_type": "code",
   "execution_count": null,
   "metadata": {},
   "outputs": [],
   "source": [
    "repo_metadata.to_csv(\"/projects/bdata/jupyter/cleaned_repo_metadata.csv\", index=False)"
   ]
  },
  {
   "cell_type": "markdown",
   "metadata": {},
   "source": [
    "# Extract Metadata From GORC \n",
    "TODO: Could probably optimize this into one DASK command"
   ]
  },
  {
   "cell_type": "code",
   "execution_count": null,
   "metadata": {},
   "outputs": [],
   "source": [
    "def fetch_paper_metadata(paper):\n",
    "    paper_loaded = json.loads(paper)\n",
    "    metadata = paper_loaded[\"metadata\"]\n",
    "    metadata[\"paper_id\"] = paper_loaded[\"paper_id\"]\n",
    "    metadata[\"s2_pdf_hash\"] = paper_loaded[\"s2_pdf_hash\"]\n",
    "    return metadata"
   ]
  },
  {
   "cell_type": "code",
   "execution_count": null,
   "metadata": {},
   "outputs": [],
   "source": [
    "gorc_metadata = papers.map(fetch_paper_metadata).compute()"
   ]
  }
 ],
 "metadata": {
  "kernelspec": {
   "display_name": "Python 3",
   "language": "python",
   "name": "python3"
  },
  "language_info": {
   "codemirror_mode": {
    "name": "ipython",
    "version": 3
   },
   "file_extension": ".py",
   "mimetype": "text/x-python",
   "name": "python",
   "nbconvert_exporter": "python",
   "pygments_lexer": "ipython3",
   "version": "3.7.3"
  }
 },
 "nbformat": 4,
 "nbformat_minor": 4
}
