{
 "cells": [
  {
   "cell_type": "markdown",
   "metadata": {},
   "source": [
    "# Super Simple "
   ]
  },
  {
   "cell_type": "code",
   "execution_count": 1,
   "metadata": {},
   "outputs": [],
   "source": [
    "import os\n",
    "import json"
   ]
  },
  {
   "cell_type": "code",
   "execution_count": 2,
   "metadata": {},
   "outputs": [],
   "source": [
    "from tqdm import tqdm"
   ]
  },
  {
   "cell_type": "code",
   "execution_count": 3,
   "metadata": {},
   "outputs": [
    {
     "name": "stderr",
     "output_type": "stream",
     "text": [
      "1745it [00:00, 9031.83it/s]\n"
     ]
    }
   ],
   "source": [
    "graphs = []\n",
    "with open('/homes/gws/gezhang/jupyter-notebook-analysis/graphs/test_cells_1_27.txt','r') as f:\n",
    "    for l in tqdm(f):\n",
    "        graphs.append(json.loads(l))"
   ]
  },
  {
   "cell_type": "code",
   "execution_count": 9,
   "metadata": {},
   "outputs": [
    {
     "name": "stderr",
     "output_type": "stream",
     "text": [
      "1345388it [01:39, 13524.04it/s]\n"
     ]
    }
   ],
   "source": [
    "train_graphs = []\n",
    "with open('/homes/gws/gezhang/jupyter-notebook-analysis/graphs/temp_cell_with_func_unsupervised_1_20.txt','r') as f:\n",
    "    for l in tqdm(f):\n",
    "        train_graphs.append(json.loads(l))"
   ]
  },
  {
   "cell_type": "code",
   "execution_count": 4,
   "metadata": {},
   "outputs": [],
   "source": [
    "import random"
   ]
  },
  {
   "cell_type": "code",
   "execution_count": 49,
   "metadata": {},
   "outputs": [],
   "source": [
    "\n",
    "random.seed(1111)\n",
    "\n",
    "STAGE_PAD = 0\n",
    "WRANGLE = 1\n",
    "EXPLORE = 2\n",
    "MODEL = 3\n",
    "EVALUATE = 4\n",
    "IMPORT = 5\n",
    "\n",
    "SPV_MODE = [STAGE_PAD, WRANGLE, EXPLORE, MODEL, EVALUATE, IMPORT]\n",
    "wrangle_funcs = [\n",
    "    'pandas.read_csv.dropna']\n",
    "explore_funcs = ['seaborn.distplot']\n",
    "\n",
    "model_funcs = ['sklearn.cluster.KMeans']\n",
    "               \n",
    "#                'sklearn.svm.SVC']\n",
    "evaluate_funcs = ['sklearn.metrics.accuracy_score']"
   ]
  },
  {
   "cell_type": "code",
   "execution_count": 41,
   "metadata": {},
   "outputs": [],
   "source": [
    "\n",
    "\n",
    "def cell_type(funcs, nodes=None, header=None):\n",
    "    # pdb.set_trace()\n",
    "    # print(header)\n",
    "    grams = [t.lower() for t in header.split() if t]\n",
    "    bi_grams = ['{} {}'.format(t, grams[i + 1])\n",
    "                for i, t in enumerate(grams[:-1])]\n",
    "\n",
    "    if sum([1 for n in nodes if (n[\"type\"] == 'Import' or n[\"type\"] == 'ImportFrom')]) / len(nodes) > 0.3:\n",
    "        return IMPORT\n",
    "\n",
    "#     if any([g in bi_grams for g in ['logistic regression', 'machine learning', 'random forest']]) and len(grams) <= 3:\n",
    "#         return MODEL\n",
    "#     if 'cross validation' in bi_grams and len(grams) <= 3:\n",
    "#         return EVALUATE\n",
    "\n",
    "    if any([f in funcs for f in model_funcs]):\n",
    "        return MODEL\n",
    "    if any([f in funcs for f in evaluate_funcs]):\n",
    "        return EVALUATE\n",
    "    if any([f in funcs for f in explore_funcs]):\n",
    "        return EXPLORE\n",
    "#     if len(nodes) == 3 and nodes[1][\"type\"] == \"Expr\":\n",
    "#         return EXPLORE\n",
    "\n",
    "    if any([f in funcs for f in wrangle_funcs]):\n",
    "        return WRANGLE\n",
    "        # print(h)\n",
    "    return -1\n",
    "    return random.choice(SPV_MODE[1:])\n",
    "    return STAGE_PAD\n"
   ]
  },
  {
   "cell_type": "code",
   "execution_count": 50,
   "metadata": {},
   "outputs": [
    {
     "name": "stderr",
     "output_type": "stream",
     "text": [
      "100%|██████████| 1345388/1345388 [00:14<00:00, 89711.04it/s]"
     ]
    },
    {
     "name": "stdout",
     "output_type": "stream",
     "text": [
      "0.053564473594234524\n"
     ]
    },
    {
     "name": "stderr",
     "output_type": "stream",
     "text": [
      "\n"
     ]
    }
   ],
   "source": [
    "has_rule = 0\n",
    "for g in tqdm(train_graphs):\n",
    "    ct = cell_type(g[\"funcs\"], g[\"nodes\"], g[\"header\"])\n",
    "    if ct!=-1:\n",
    "        has_rule+=1\n",
    "print(has_rule/len(train_graphs))"
   ]
  },
  {
   "cell_type": "code",
   "execution_count": 7,
   "metadata": {},
   "outputs": [
    {
     "name": "stdout",
     "output_type": "stream",
     "text": [
      "0.34154727793696277\n"
     ]
    }
   ],
   "source": [
    "correct=0\n",
    "for g in graphs:\n",
    "    ct = cell_type(g[\"funcs\"], g[\"nodes\"], g[\"header\"])\n",
    "    if ct==int(g[\"stage\"]):\n",
    "        correct+=1\n",
    "print(correct/len(graphs))"
   ]
  },
  {
   "cell_type": "markdown",
   "metadata": {},
   "source": [
    "# LDA"
   ]
  },
  {
   "cell_type": "code",
   "execution_count": null,
   "metadata": {},
   "outputs": [],
   "source": []
  }
 ],
 "metadata": {
  "kernelspec": {
   "display_name": "Python allennlp",
   "language": "python",
   "name": "allennlp"
  },
  "language_info": {
   "codemirror_mode": {
    "name": "ipython",
    "version": 3
   },
   "file_extension": ".py",
   "mimetype": "text/x-python",
   "name": "python",
   "nbconvert_exporter": "python",
   "pygments_lexer": "ipython3",
   "version": "3.6.9"
  }
 },
 "nbformat": 4,
 "nbformat_minor": 2
}
